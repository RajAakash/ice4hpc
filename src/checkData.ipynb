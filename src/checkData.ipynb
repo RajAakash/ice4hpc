{
 "cells": [
  {
   "cell_type": "code",
   "execution_count": 3,
   "metadata": {
    "tags": []
   },
   "outputs": [
    {
     "name": "stdout",
     "output_type": "stream",
     "text": [
      "Model\t\tAverage Value 1\t\tAverage Value 2\n",
      "AdaBoost\t\t14.2763\t\t9.6843\n",
      "ExtraTree\t\t10.7802\t\t11.8098\n",
      "Bagging\t\t15.6283\t\t17.8881\n",
      "random_forrest\t\t9.2595\t\t11.4192\n",
      "XGBoost\t\t13.0394\t\t3.9851\n"
     ]
    }
   ],
   "source": [
    "import pandas as pd\n",
    "import os\n",
    "\n",
    "# Directory where the CSV files are located\n",
    "directory = '../results/csv/one-out/variance_mergedSourceAndTarget/one_out'\n",
    "#directory = '../results/csv/one-out/weighted_mergedSourceAndTarget/miniVite'\n",
    "#directory = '../results/csv/one-out/variance_mergedSourceAndTarget/sw4lite'\n",
    "\n",
    "# Initialize a dictionary to store the sum and count for each model\n",
    "model_sums = {}\n",
    "model_counts = {}\n",
    "\n",
    "# Loop through each file in the directory\n",
    "for filename in os.listdir(directory):\n",
    "    if filename.startswith(\"Source-model-on-target-ice4hpc-one_out-results\") and filename.endswith(\"-MAPE.csv\"):\n",
    "        file_path = os.path.join(directory, filename)\n",
    "        df = pd.read_csv(file_path, header=None, names=['Model', 'Value1', 'Value2'])\n",
    "        \n",
    "        # Update the sum and count for each model\n",
    "        for _, row in df.iterrows():\n",
    "            model = row['Model']\n",
    "            value1, value2 = row['Value1'], row['Value2']\n",
    "            if model not in model_sums:\n",
    "                model_sums[model] = [0, 0]\n",
    "                model_counts[model] = 0\n",
    "            model_sums[model][0] += value1\n",
    "            model_sums[model][1] += value2\n",
    "            model_counts[model] += 1\n",
    "\n",
    "# Calculate the average values for each model\n",
    "model_averages = {model: (model_sums[model][0] / model_counts[model], model_sums[model][1] / model_counts[model]) for model in model_sums}\n",
    "\n",
    "# Print the results\n",
    "print(\"Model\\t\\tAverage Value 1\\t\\tAverage Value 2\")\n",
    "for model, averages in model_averages.items():\n",
    "    print(f\"{model}\\t\\t{averages[0]:.4f}\\t\\t{averages[1]:.4f}\")"
   ]
  },
  {
   "cell_type": "code",
   "execution_count": null,
   "metadata": {},
   "outputs": [],
   "source": [
    "print(\"I am here\")"
   ]
  },
  {
   "cell_type": "code",
   "execution_count": null,
   "metadata": {},
   "outputs": [],
   "source": []
  }
 ],
 "metadata": {
  "kernelspec": {
   "display_name": "Python 3 (ipykernel)",
   "language": "python",
   "name": "python3"
  },
  "language_info": {
   "codemirror_mode": {
    "name": "ipython",
    "version": 3
   },
   "file_extension": ".py",
   "mimetype": "text/x-python",
   "name": "python",
   "nbconvert_exporter": "python",
   "pygments_lexer": "ipython3",
   "version": "3.9.12"
  }
 },
 "nbformat": 4,
 "nbformat_minor": 4
}
