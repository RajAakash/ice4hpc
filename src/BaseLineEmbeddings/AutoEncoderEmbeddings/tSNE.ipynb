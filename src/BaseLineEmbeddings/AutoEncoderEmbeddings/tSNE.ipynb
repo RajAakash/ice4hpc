{
 "cells": [
  {
   "cell_type": "code",
   "execution_count": 14,
   "metadata": {},
   "outputs": [
    {
     "name": "stderr",
     "output_type": "stream",
     "text": [
      "/g/g90/dhakal1/All/dev/lib/python3.9/site-packages/sklearn/manifold/_t_sne.py:1162: FutureWarning:\n",
      "\n",
      "'n_iter' was renamed to 'max_iter' in version 1.5 and will be removed in 1.7.\n",
      "\n"
     ]
    },
    {
     "data": {
      "application/vnd.plotly.v1+json": {
       "config": {
        "plotlyServerURL": "https://plot.ly"
       },
       "data": [
        {
         "legendgroup": "boraxo",
         "marker": {
          "color": "#1f77b4",
          "size": 10,
          "symbol": "circle"
         },
         "mode": "markers",
         "showlegend": false,
         "type": "scatter",
         "x": [
          9.581255912780762
         ],
         "y": [
          3.9933388233184814
         ]
        },
        {
         "legendgroup": "boraxo",
         "marker": {
          "color": "#1f77b4",
          "size": 10,
          "symbol": "square"
         },
         "mode": "markers",
         "showlegend": false,
         "type": "scatter",
         "x": [
          8.961775779724121
         ],
         "y": [
          4.742554187774658
         ]
        },
        {
         "legendgroup": "boraxo",
         "marker": {
          "color": "#1f77b4",
          "size": 10,
          "symbol": "diamond"
         },
         "mode": "markers",
         "showlegend": false,
         "type": "scatter",
         "x": [
          8.360665321350098
         ],
         "y": [
          4.876856327056885
         ]
        },
        {
         "legendgroup": "boraxo",
         "marker": {
          "color": "#1f77b4",
          "size": 10,
          "symbol": "cross"
         },
         "mode": "markers",
         "showlegend": false,
         "type": "scatter",
         "x": [
          5.723801136016846,
          -3.154951810836792
         ],
         "y": [
          0.8146705031394958,
          15.925039291381836
         ]
        },
        {
         "legendgroup": "boraxo",
         "marker": {
          "color": "#1f77b4",
          "size": 10,
          "symbol": "x"
         },
         "mode": "markers",
         "showlegend": false,
         "type": "scatter",
         "x": [
          5.742949962615967
         ],
         "y": [
          1.2779464721679688
         ]
        },
        {
         "legendgroup": "boraxo",
         "marker": {
          "color": "#1f77b4",
          "size": 10,
          "symbol": "triangle-up"
         },
         "mode": "markers",
         "showlegend": false,
         "type": "scatter",
         "x": [
          -1.4625368118286133
         ],
         "y": [
          6.010895252227783
         ]
        },
        {
         "legendgroup": "boraxo",
         "marker": {
          "color": "#1f77b4",
          "size": 10,
          "symbol": "triangle-down"
         },
         "mode": "markers",
         "showlegend": false,
         "type": "scatter",
         "x": [
          -2.6386938095092773
         ],
         "y": [
          8.958961486816406
         ]
        },
        {
         "legendgroup": "boraxo",
         "marker": {
          "color": "#1f77b4",
          "size": 10,
          "symbol": "pentagon"
         },
         "mode": "markers",
         "showlegend": false,
         "type": "scatter",
         "x": [],
         "y": []
        },
        {
         "legendgroup": "catalyst",
         "marker": {
          "color": "#ff7f0e",
          "size": 10,
          "symbol": "circle"
         },
         "mode": "markers",
         "showlegend": false,
         "type": "scatter",
         "x": [
          1.1016730070114136
         ],
         "y": [
          11.548095703125
         ]
        },
        {
         "legendgroup": "catalyst",
         "marker": {
          "color": "#ff7f0e",
          "size": 10,
          "symbol": "square"
         },
         "mode": "markers",
         "showlegend": false,
         "type": "scatter",
         "x": [
          0.856168270111084
         ],
         "y": [
          12.897611618041992
         ]
        },
        {
         "legendgroup": "catalyst",
         "marker": {
          "color": "#ff7f0e",
          "size": 10,
          "symbol": "diamond"
         },
         "mode": "markers",
         "showlegend": false,
         "type": "scatter",
         "x": [
          0.9895151853561401
         ],
         "y": [
          11.494979858398438
         ]
        },
        {
         "legendgroup": "catalyst",
         "marker": {
          "color": "#ff7f0e",
          "size": 10,
          "symbol": "cross"
         },
         "mode": "markers",
         "showlegend": false,
         "type": "scatter",
         "x": [
          0.3993505537509918
         ],
         "y": [
          12.780989646911621
         ]
        },
        {
         "legendgroup": "catalyst",
         "marker": {
          "color": "#ff7f0e",
          "size": 10,
          "symbol": "x"
         },
         "mode": "markers",
         "showlegend": false,
         "type": "scatter",
         "x": [
          -0.8106944561004639,
          -0.3882964849472046
         ],
         "y": [
          15.386908531188965,
          16.42453384399414
         ]
        },
        {
         "legendgroup": "catalyst",
         "marker": {
          "color": "#ff7f0e",
          "size": 10,
          "symbol": "triangle-up"
         },
         "mode": "markers",
         "showlegend": false,
         "type": "scatter",
         "x": [],
         "y": []
        },
        {
         "legendgroup": "catalyst",
         "marker": {
          "color": "#ff7f0e",
          "size": 10,
          "symbol": "triangle-down"
         },
         "mode": "markers",
         "showlegend": false,
         "type": "scatter",
         "x": [],
         "y": []
        },
        {
         "legendgroup": "catalyst",
         "marker": {
          "color": "#ff7f0e",
          "size": 10,
          "symbol": "pentagon"
         },
         "mode": "markers",
         "showlegend": false,
         "type": "scatter",
         "x": [
          6.249299049377441
         ],
         "y": [
          5.299828052520752
         ]
        },
        {
         "legendgroup": "quartz",
         "marker": {
          "color": "#2ca02c",
          "size": 10,
          "symbol": "circle"
         },
         "mode": "markers",
         "showlegend": false,
         "type": "scatter",
         "x": [
          -2.9682228565216064
         ],
         "y": [
          0.4564026892185211
         ]
        },
        {
         "legendgroup": "quartz",
         "marker": {
          "color": "#2ca02c",
          "size": 10,
          "symbol": "square"
         },
         "mode": "markers",
         "showlegend": false,
         "type": "scatter",
         "x": [
          -2.3188636302948
         ],
         "y": [
          0.45397406816482544
         ]
        },
        {
         "legendgroup": "quartz",
         "marker": {
          "color": "#2ca02c",
          "size": 10,
          "symbol": "diamond"
         },
         "mode": "markers",
         "showlegend": false,
         "type": "scatter",
         "x": [
          -2.2520768642425537
         ],
         "y": [
          5.87985897064209
         ]
        },
        {
         "legendgroup": "quartz",
         "marker": {
          "color": "#2ca02c",
          "size": 10,
          "symbol": "cross"
         },
         "mode": "markers",
         "showlegend": false,
         "type": "scatter",
         "x": [
          -3.5040323734283447
         ],
         "y": [
          9.073343276977539
         ]
        },
        {
         "legendgroup": "quartz",
         "marker": {
          "color": "#2ca02c",
          "size": 10,
          "symbol": "x"
         },
         "mode": "markers",
         "showlegend": false,
         "type": "scatter",
         "x": [],
         "y": []
        },
        {
         "legendgroup": "quartz",
         "marker": {
          "color": "#2ca02c",
          "size": 10,
          "symbol": "triangle-up"
         },
         "mode": "markers",
         "showlegend": false,
         "type": "scatter",
         "x": [
          4.962666988372803,
          -2.1772541999816895
         ],
         "y": [
          1.865021824836731,
          15.71505355834961
         ]
        },
        {
         "legendgroup": "quartz",
         "marker": {
          "color": "#2ca02c",
          "size": 10,
          "symbol": "triangle-down"
         },
         "mode": "markers",
         "showlegend": false,
         "type": "scatter",
         "x": [
          4.317104339599609
         ],
         "y": [
          4.26144552230835
         ]
        },
        {
         "legendgroup": "quartz",
         "marker": {
          "color": "#2ca02c",
          "size": 10,
          "symbol": "pentagon"
         },
         "mode": "markers",
         "showlegend": false,
         "type": "scatter",
         "x": [
          5.212159156799316
         ],
         "y": [
          4.396787166595459
         ]
        },
        {
         "legendgroup": "ruby",
         "marker": {
          "color": "#d62728",
          "size": 10,
          "symbol": "circle"
         },
         "mode": "markers",
         "showlegend": false,
         "type": "scatter",
         "x": [
          -2.7391254901885986
         ],
         "y": [
          -2.2424399852752686
         ]
        },
        {
         "legendgroup": "ruby",
         "marker": {
          "color": "#d62728",
          "size": 10,
          "symbol": "square"
         },
         "mode": "markers",
         "showlegend": false,
         "type": "scatter",
         "x": [
          -3.8503758907318115
         ],
         "y": [
          1.6945291757583618
         ]
        },
        {
         "legendgroup": "ruby",
         "marker": {
          "color": "#d62728",
          "size": 10,
          "symbol": "diamond"
         },
         "mode": "markers",
         "showlegend": false,
         "type": "scatter",
         "x": [
          -3.431335926055908
         ],
         "y": [
          6.634538650512695
         ]
        },
        {
         "legendgroup": "ruby",
         "marker": {
          "color": "#d62728",
          "size": 10,
          "symbol": "cross"
         },
         "mode": "markers",
         "showlegend": false,
         "type": "scatter",
         "x": [],
         "y": []
        },
        {
         "legendgroup": "ruby",
         "marker": {
          "color": "#d62728",
          "size": 10,
          "symbol": "x"
         },
         "mode": "markers",
         "showlegend": false,
         "type": "scatter",
         "x": [
          6.8951287269592285
         ],
         "y": [
          1.5523537397384644
         ]
        },
        {
         "legendgroup": "ruby",
         "marker": {
          "color": "#d62728",
          "size": 10,
          "symbol": "triangle-up"
         },
         "mode": "markers",
         "showlegend": false,
         "type": "scatter",
         "x": [
          3.1391708850860596
         ],
         "y": [
          1.6619986295700073
         ]
        },
        {
         "legendgroup": "ruby",
         "marker": {
          "color": "#d62728",
          "size": 10,
          "symbol": "triangle-down"
         },
         "mode": "markers",
         "showlegend": false,
         "type": "scatter",
         "x": [
          1.9122234582901,
          -4.068019866943359
         ],
         "y": [
          4.062761306762695,
          13.991968154907227
         ]
        },
        {
         "legendgroup": "ruby",
         "marker": {
          "color": "#d62728",
          "size": 10,
          "symbol": "pentagon"
         },
         "mode": "markers",
         "showlegend": false,
         "type": "scatter",
         "x": [
          -0.17771698534488678
         ],
         "y": [
          -4.787649631500244
         ]
        },
        {
         "legendgroup": "mammoth",
         "marker": {
          "color": "#9467bd",
          "size": 10,
          "symbol": "circle"
         },
         "mode": "markers",
         "showlegend": false,
         "type": "scatter",
         "x": [
          -4.150007247924805
         ],
         "y": [
          0.06621876358985901
         ]
        },
        {
         "legendgroup": "mammoth",
         "marker": {
          "color": "#9467bd",
          "size": 10,
          "symbol": "square"
         },
         "mode": "markers",
         "showlegend": false,
         "type": "scatter",
         "x": [
          -5.060744762420654
         ],
         "y": [
          7.3117876052856445
         ]
        },
        {
         "legendgroup": "mammoth",
         "marker": {
          "color": "#9467bd",
          "size": 10,
          "symbol": "diamond"
         },
         "mode": "markers",
         "showlegend": false,
         "type": "scatter",
         "x": [],
         "y": []
        },
        {
         "legendgroup": "mammoth",
         "marker": {
          "color": "#9467bd",
          "size": 10,
          "symbol": "cross"
         },
         "mode": "markers",
         "showlegend": false,
         "type": "scatter",
         "x": [
          2.0761797428131104
         ],
         "y": [
          -6.678830146789551
         ]
        },
        {
         "legendgroup": "mammoth",
         "marker": {
          "color": "#9467bd",
          "size": 10,
          "symbol": "x"
         },
         "mode": "markers",
         "showlegend": false,
         "type": "scatter",
         "x": [
          1.4475313425064087
         ],
         "y": [
          -5.976691246032715
         ]
        },
        {
         "legendgroup": "mammoth",
         "marker": {
          "color": "#9467bd",
          "size": 10,
          "symbol": "triangle-up"
         },
         "mode": "markers",
         "showlegend": false,
         "type": "scatter",
         "x": [
          -1.7085437774658203
         ],
         "y": [
          -5.792608261108398
         ]
        },
        {
         "legendgroup": "mammoth",
         "marker": {
          "color": "#9467bd",
          "size": 10,
          "symbol": "triangle-down"
         },
         "mode": "markers",
         "showlegend": false,
         "type": "scatter",
         "x": [
          -2.490049123764038
         ],
         "y": [
          -5.377365589141846
         ]
        },
        {
         "legendgroup": "mammoth",
         "marker": {
          "color": "#9467bd",
          "size": 10,
          "symbol": "pentagon"
         },
         "mode": "markers",
         "showlegend": false,
         "type": "scatter",
         "x": [
          -3.1575467586517334,
          -3.3639259338378906
         ],
         "y": [
          -4.4973978996276855,
          14.850916862487793
         ]
        },
        {
         "legendgroup": "poodle",
         "marker": {
          "color": "#8c564b",
          "size": 10,
          "symbol": "circle"
         },
         "mode": "markers",
         "showlegend": false,
         "type": "scatter",
         "x": [
          -4.264517784118652,
          -4.806990623474121
         ],
         "y": [
          6.554865837097168,
          14.173524856567383
         ]
        },
        {
         "legendgroup": "poodle",
         "marker": {
          "color": "#8c564b",
          "size": 10,
          "symbol": "square"
         },
         "mode": "markers",
         "showlegend": false,
         "type": "scatter",
         "x": [],
         "y": []
        },
        {
         "legendgroup": "poodle",
         "marker": {
          "color": "#8c564b",
          "size": 10,
          "symbol": "diamond"
         },
         "mode": "markers",
         "showlegend": false,
         "type": "scatter",
         "x": [
          12.331192016601562
         ],
         "y": [
          2.034512996673584
         ]
        },
        {
         "legendgroup": "poodle",
         "marker": {
          "color": "#8c564b",
          "size": 10,
          "symbol": "cross"
         },
         "mode": "markers",
         "showlegend": false,
         "type": "scatter",
         "x": [
          10.327686309814453
         ],
         "y": [
          3.7605278491973877
         ]
        },
        {
         "legendgroup": "poodle",
         "marker": {
          "color": "#8c564b",
          "size": 10,
          "symbol": "x"
         },
         "mode": "markers",
         "showlegend": false,
         "type": "scatter",
         "x": [
          3.7910854816436768
         ],
         "y": [
          -3.802311658859253
         ]
        },
        {
         "legendgroup": "poodle",
         "marker": {
          "color": "#8c564b",
          "size": 10,
          "symbol": "triangle-up"
         },
         "mode": "markers",
         "showlegend": false,
         "type": "scatter",
         "x": [
          2.907254695892334
         ],
         "y": [
          -3.6776466369628906
         ]
        },
        {
         "legendgroup": "poodle",
         "marker": {
          "color": "#8c564b",
          "size": 10,
          "symbol": "triangle-down"
         },
         "mode": "markers",
         "showlegend": false,
         "type": "scatter",
         "x": [
          -0.6336296796798706
         ],
         "y": [
          -2.682649612426758
         ]
        },
        {
         "legendgroup": "poodle",
         "marker": {
          "color": "#8c564b",
          "size": 10,
          "symbol": "pentagon"
         },
         "mode": "markers",
         "showlegend": false,
         "type": "scatter",
         "x": [
          -3.032416820526123
         ],
         "y": [
          2.4665603637695312
         ]
        },
        {
         "legendgroup": "ec2-c5n",
         "marker": {
          "color": "#e377c2",
          "size": 10,
          "symbol": "circle"
         },
         "mode": "markers",
         "showlegend": false,
         "type": "scatter",
         "x": [],
         "y": []
        },
        {
         "legendgroup": "ec2-c5n",
         "marker": {
          "color": "#e377c2",
          "size": 10,
          "symbol": "square"
         },
         "mode": "markers",
         "showlegend": false,
         "type": "scatter",
         "x": [
          4.277953624725342,
          -4.287535190582275
         ],
         "y": [
          1.4112266302108765,
          15.193225860595703
         ]
        },
        {
         "legendgroup": "ec2-c5n",
         "marker": {
          "color": "#e377c2",
          "size": 10,
          "symbol": "diamond"
         },
         "mode": "markers",
         "showlegend": false,
         "type": "scatter",
         "x": [
          3.2021324634552
         ],
         "y": [
          4.021613597869873
         ]
        },
        {
         "legendgroup": "ec2-c5n",
         "marker": {
          "color": "#e377c2",
          "size": 10,
          "symbol": "cross"
         },
         "mode": "markers",
         "showlegend": false,
         "type": "scatter",
         "x": [
          3.0196316242218018
         ],
         "y": [
          4.609455108642578
         ]
        },
        {
         "legendgroup": "ec2-c5n",
         "marker": {
          "color": "#e377c2",
          "size": 10,
          "symbol": "x"
         },
         "mode": "markers",
         "showlegend": false,
         "type": "scatter",
         "x": [
          -0.394294410943985
         ],
         "y": [
          -1.6014583110809326
         ]
        },
        {
         "legendgroup": "ec2-c5n",
         "marker": {
          "color": "#e377c2",
          "size": 10,
          "symbol": "triangle-up"
         },
         "mode": "markers",
         "showlegend": false,
         "type": "scatter",
         "x": [
          -1.089110016822815
         ],
         "y": [
          -1.5357227325439453
         ]
        },
        {
         "legendgroup": "ec2-c5n",
         "marker": {
          "color": "#e377c2",
          "size": 10,
          "symbol": "triangle-down"
         },
         "mode": "markers",
         "showlegend": false,
         "type": "scatter",
         "x": [
          -4.135279655456543
         ],
         "y": [
          3.611621618270874
         ]
        },
        {
         "legendgroup": "ec2-c5n",
         "marker": {
          "color": "#e377c2",
          "size": 10,
          "symbol": "pentagon"
         },
         "mode": "markers",
         "showlegend": false,
         "type": "scatter",
         "x": [
          -3.809962749481201
         ],
         "y": [
          7.9249091148376465
         ]
        },
        {
         "legendgroup": "ec2-c6a",
         "marker": {
          "color": "#7f7f7f",
          "size": 10,
          "symbol": "circle"
         },
         "mode": "markers",
         "showlegend": false,
         "type": "scatter",
         "x": [
          12.27709674835205
         ],
         "y": [
          2.0804476737976074
         ]
        },
        {
         "legendgroup": "ec2-c6a",
         "marker": {
          "color": "#7f7f7f",
          "size": 10,
          "symbol": "square"
         },
         "mode": "markers",
         "showlegend": false,
         "type": "scatter",
         "x": [
          9.238086700439453
         ],
         "y": [
          3.1669421195983887
         ]
        },
        {
         "legendgroup": "ec2-c6a",
         "marker": {
          "color": "#7f7f7f",
          "size": 10,
          "symbol": "diamond"
         },
         "mode": "markers",
         "showlegend": false,
         "type": "scatter",
         "x": [
          2.2950639724731445,
          -4.4306535720825195
         ],
         "y": [
          -4.624385833740234,
          12.333552360534668
         ]
        },
        {
         "legendgroup": "ec2-c6a",
         "marker": {
          "color": "#7f7f7f",
          "size": 10,
          "symbol": "cross"
         },
         "mode": "markers",
         "showlegend": false,
         "type": "scatter",
         "x": [
          0.8656114935874939
         ],
         "y": [
          -4.562864780426025
         ]
        },
        {
         "legendgroup": "ec2-c6a",
         "marker": {
          "color": "#7f7f7f",
          "size": 10,
          "symbol": "x"
         },
         "mode": "markers",
         "showlegend": false,
         "type": "scatter",
         "x": [
          -0.23045215010643005
         ],
         "y": [
          -3.808298110961914
         ]
        },
        {
         "legendgroup": "ec2-c6a",
         "marker": {
          "color": "#7f7f7f",
          "size": 10,
          "symbol": "triangle-up"
         },
         "mode": "markers",
         "showlegend": false,
         "type": "scatter",
         "x": [
          -1.2681303024291992
         ],
         "y": [
          -0.27790266275405884
         ]
        },
        {
         "legendgroup": "ec2-c6a",
         "marker": {
          "color": "#7f7f7f",
          "size": 10,
          "symbol": "triangle-down"
         },
         "mode": "markers",
         "showlegend": false,
         "type": "scatter",
         "x": [
          -3.310389757156372
         ],
         "y": [
          4.464579105377197
         ]
        },
        {
         "legendgroup": "ec2-c6a",
         "marker": {
          "color": "#7f7f7f",
          "size": 10,
          "symbol": "pentagon"
         },
         "mode": "markers",
         "showlegend": false,
         "type": "scatter",
         "x": [],
         "y": []
        },
        {
         "legendgroup": "ec2-c6i",
         "marker": {
          "color": "#bcbd22",
          "size": 10,
          "symbol": "circle"
         },
         "mode": "markers",
         "showlegend": false,
         "type": "scatter",
         "x": [
          0.5640631914138794
         ],
         "y": [
          -2.9203174114227295
         ]
        },
        {
         "legendgroup": "ec2-c6i",
         "marker": {
          "color": "#bcbd22",
          "size": 10,
          "symbol": "square"
         },
         "mode": "markers",
         "showlegend": false,
         "type": "scatter",
         "x": [
          -1.3022962808609009
         ],
         "y": [
          -4.202882766723633
         ]
        },
        {
         "legendgroup": "ec2-c6i",
         "marker": {
          "color": "#bcbd22",
          "size": 10,
          "symbol": "diamond"
         },
         "mode": "markers",
         "showlegend": false,
         "type": "scatter",
         "x": [
          -2.3600616455078125
         ],
         "y": [
          -3.177281141281128
         ]
        },
        {
         "legendgroup": "ec2-c6i",
         "marker": {
          "color": "#bcbd22",
          "size": 10,
          "symbol": "cross"
         },
         "mode": "markers",
         "showlegend": false,
         "type": "scatter",
         "x": [
          -4.5521955490112305,
          -4.528663635253906
         ],
         "y": [
          2.4313642978668213,
          13.08445930480957
         ]
        },
        {
         "legendgroup": "ec2-c6i",
         "marker": {
          "color": "#bcbd22",
          "size": 10,
          "symbol": "x"
         },
         "mode": "markers",
         "showlegend": false,
         "type": "scatter",
         "x": [
          -4.231125831604004
         ],
         "y": [
          5.173849582672119
         ]
        },
        {
         "legendgroup": "ec2-c6i",
         "marker": {
          "color": "#bcbd22",
          "size": 10,
          "symbol": "triangle-up"
         },
         "mode": "markers",
         "showlegend": false,
         "type": "scatter",
         "x": [],
         "y": []
        },
        {
         "legendgroup": "ec2-c6i",
         "marker": {
          "color": "#bcbd22",
          "size": 10,
          "symbol": "triangle-down"
         },
         "mode": "markers",
         "showlegend": false,
         "type": "scatter",
         "x": [],
         "y": []
        },
        {
         "legendgroup": "ec2-c6i",
         "marker": {
          "color": "#bcbd22",
          "size": 10,
          "symbol": "pentagon"
         },
         "mode": "markers",
         "showlegend": false,
         "type": "scatter",
         "x": [
          1.5073041915893555
         ],
         "y": [
          -3.5794546604156494
         ]
        },
        {
         "legendgroup": "pascal",
         "marker": {
          "color": "#17becf",
          "size": 10,
          "symbol": "circle"
         },
         "mode": "markers",
         "showlegend": false,
         "type": "scatter",
         "x": [],
         "y": []
        },
        {
         "legendgroup": "pascal",
         "marker": {
          "color": "#17becf",
          "size": 10,
          "symbol": "square"
         },
         "mode": "markers",
         "showlegend": false,
         "type": "scatter",
         "x": [],
         "y": []
        },
        {
         "legendgroup": "pascal",
         "marker": {
          "color": "#17becf",
          "size": 10,
          "symbol": "diamond"
         },
         "mode": "markers",
         "showlegend": false,
         "type": "scatter",
         "x": [],
         "y": []
        },
        {
         "legendgroup": "pascal",
         "marker": {
          "color": "#17becf",
          "size": 10,
          "symbol": "cross"
         },
         "mode": "markers",
         "showlegend": false,
         "type": "scatter",
         "x": [],
         "y": []
        },
        {
         "legendgroup": "pascal",
         "marker": {
          "color": "#17becf",
          "size": 10,
          "symbol": "x"
         },
         "mode": "markers",
         "showlegend": false,
         "type": "scatter",
         "x": [],
         "y": []
        },
        {
         "legendgroup": "pascal",
         "marker": {
          "color": "#17becf",
          "size": 10,
          "symbol": "triangle-up"
         },
         "mode": "markers",
         "showlegend": false,
         "type": "scatter",
         "x": [
          -6.202054023742676
         ],
         "y": [
          -6.5967936515808105
         ]
        },
        {
         "legendgroup": "pascal",
         "marker": {
          "color": "#17becf",
          "size": 10,
          "symbol": "triangle-down"
         },
         "mode": "markers",
         "showlegend": false,
         "type": "scatter",
         "x": [],
         "y": []
        },
        {
         "legendgroup": "pascal",
         "marker": {
          "color": "#17becf",
          "size": 10,
          "symbol": "pentagon"
         },
         "mode": "markers",
         "showlegend": false,
         "type": "scatter",
         "x": [],
         "y": []
        },
        {
         "legendgroup": "lassen",
         "marker": {
          "color": "#aec7e8",
          "size": 10,
          "symbol": "circle"
         },
         "mode": "markers",
         "showlegend": false,
         "type": "scatter",
         "x": [],
         "y": []
        },
        {
         "legendgroup": "lassen",
         "marker": {
          "color": "#aec7e8",
          "size": 10,
          "symbol": "square"
         },
         "mode": "markers",
         "showlegend": false,
         "type": "scatter",
         "x": [],
         "y": []
        },
        {
         "legendgroup": "lassen",
         "marker": {
          "color": "#aec7e8",
          "size": 10,
          "symbol": "diamond"
         },
         "mode": "markers",
         "showlegend": false,
         "type": "scatter",
         "x": [],
         "y": []
        },
        {
         "legendgroup": "lassen",
         "marker": {
          "color": "#aec7e8",
          "size": 10,
          "symbol": "cross"
         },
         "mode": "markers",
         "showlegend": false,
         "type": "scatter",
         "x": [],
         "y": []
        },
        {
         "legendgroup": "lassen",
         "marker": {
          "color": "#aec7e8",
          "size": 10,
          "symbol": "x"
         },
         "mode": "markers",
         "showlegend": false,
         "type": "scatter",
         "x": [],
         "y": []
        },
        {
         "legendgroup": "lassen",
         "marker": {
          "color": "#aec7e8",
          "size": 10,
          "symbol": "triangle-up"
         },
         "mode": "markers",
         "showlegend": false,
         "type": "scatter",
         "x": [],
         "y": []
        },
        {
         "legendgroup": "lassen",
         "marker": {
          "color": "#aec7e8",
          "size": 10,
          "symbol": "triangle-down"
         },
         "mode": "markers",
         "showlegend": false,
         "type": "scatter",
         "x": [
          -5.462135314941406
         ],
         "y": [
          -7.069766998291016
         ]
        },
        {
         "legendgroup": "lassen",
         "marker": {
          "color": "#aec7e8",
          "size": 10,
          "symbol": "pentagon"
         },
         "mode": "markers",
         "showlegend": false,
         "type": "scatter",
         "x": [],
         "y": []
        },
        {
         "legendgroup": "corona",
         "marker": {
          "color": "#ffbb78",
          "size": 10,
          "symbol": "circle"
         },
         "mode": "markers",
         "showlegend": false,
         "type": "scatter",
         "x": [],
         "y": []
        },
        {
         "legendgroup": "corona",
         "marker": {
          "color": "#ffbb78",
          "size": 10,
          "symbol": "square"
         },
         "mode": "markers",
         "showlegend": false,
         "type": "scatter",
         "x": [],
         "y": []
        },
        {
         "legendgroup": "corona",
         "marker": {
          "color": "#ffbb78",
          "size": 10,
          "symbol": "diamond"
         },
         "mode": "markers",
         "showlegend": false,
         "type": "scatter",
         "x": [],
         "y": []
        },
        {
         "legendgroup": "corona",
         "marker": {
          "color": "#ffbb78",
          "size": 10,
          "symbol": "cross"
         },
         "mode": "markers",
         "showlegend": false,
         "type": "scatter",
         "x": [],
         "y": []
        },
        {
         "legendgroup": "corona",
         "marker": {
          "color": "#ffbb78",
          "size": 10,
          "symbol": "x"
         },
         "mode": "markers",
         "showlegend": false,
         "type": "scatter",
         "x": [],
         "y": []
        },
        {
         "legendgroup": "corona",
         "marker": {
          "color": "#ffbb78",
          "size": 10,
          "symbol": "triangle-up"
         },
         "mode": "markers",
         "showlegend": false,
         "type": "scatter",
         "x": [],
         "y": []
        },
        {
         "legendgroup": "corona",
         "marker": {
          "color": "#ffbb78",
          "size": 10,
          "symbol": "triangle-down"
         },
         "mode": "markers",
         "showlegend": false,
         "type": "scatter",
         "x": [],
         "y": []
        },
        {
         "legendgroup": "corona",
         "marker": {
          "color": "#ffbb78",
          "size": 10,
          "symbol": "pentagon"
         },
         "mode": "markers",
         "showlegend": false,
         "type": "scatter",
         "x": [
          8.257303237915039
         ],
         "y": [
          9.625113487243652
         ]
        },
        {
         "legendgroup": "tioga",
         "marker": {
          "color": "#98df8a",
          "size": 10,
          "symbol": "circle"
         },
         "mode": "markers",
         "showlegend": false,
         "type": "scatter",
         "x": [
          8.256538391113281
         ],
         "y": [
          9.624885559082031
         ]
        },
        {
         "legendgroup": "tioga",
         "marker": {
          "color": "#98df8a",
          "size": 10,
          "symbol": "square"
         },
         "mode": "markers",
         "showlegend": false,
         "type": "scatter",
         "x": [],
         "y": []
        },
        {
         "legendgroup": "tioga",
         "marker": {
          "color": "#98df8a",
          "size": 10,
          "symbol": "diamond"
         },
         "mode": "markers",
         "showlegend": false,
         "type": "scatter",
         "x": [],
         "y": []
        },
        {
         "legendgroup": "tioga",
         "marker": {
          "color": "#98df8a",
          "size": 10,
          "symbol": "cross"
         },
         "mode": "markers",
         "showlegend": false,
         "type": "scatter",
         "x": [],
         "y": []
        },
        {
         "legendgroup": "tioga",
         "marker": {
          "color": "#98df8a",
          "size": 10,
          "symbol": "x"
         },
         "mode": "markers",
         "showlegend": false,
         "type": "scatter",
         "x": [],
         "y": []
        },
        {
         "legendgroup": "tioga",
         "marker": {
          "color": "#98df8a",
          "size": 10,
          "symbol": "triangle-up"
         },
         "mode": "markers",
         "showlegend": false,
         "type": "scatter",
         "x": [],
         "y": []
        },
        {
         "legendgroup": "tioga",
         "marker": {
          "color": "#98df8a",
          "size": 10,
          "symbol": "triangle-down"
         },
         "mode": "markers",
         "showlegend": false,
         "type": "scatter",
         "x": [],
         "y": []
        },
        {
         "legendgroup": "tioga",
         "marker": {
          "color": "#98df8a",
          "size": 10,
          "symbol": "pentagon"
         },
         "mode": "markers",
         "showlegend": false,
         "type": "scatter",
         "x": [],
         "y": []
        },
        {
         "legendgroup": "ec2-p3",
         "marker": {
          "color": "#ff9896",
          "size": 10,
          "symbol": "circle"
         },
         "mode": "markers",
         "showlegend": false,
         "type": "scatter",
         "x": [],
         "y": []
        },
        {
         "legendgroup": "ec2-p3",
         "marker": {
          "color": "#ff9896",
          "size": 10,
          "symbol": "square"
         },
         "mode": "markers",
         "showlegend": false,
         "type": "scatter",
         "x": [
          -6.41529655456543
         ],
         "y": [
          -7.3562517166137695
         ]
        },
        {
         "legendgroup": "ec2-p3",
         "marker": {
          "color": "#ff9896",
          "size": 10,
          "symbol": "diamond"
         },
         "mode": "markers",
         "showlegend": false,
         "type": "scatter",
         "x": [],
         "y": []
        },
        {
         "legendgroup": "ec2-p3",
         "marker": {
          "color": "#ff9896",
          "size": 10,
          "symbol": "cross"
         },
         "mode": "markers",
         "showlegend": false,
         "type": "scatter",
         "x": [],
         "y": []
        },
        {
         "legendgroup": "ec2-p3",
         "marker": {
          "color": "#ff9896",
          "size": 10,
          "symbol": "x"
         },
         "mode": "markers",
         "showlegend": false,
         "type": "scatter",
         "x": [],
         "y": []
        },
        {
         "legendgroup": "ec2-p3",
         "marker": {
          "color": "#ff9896",
          "size": 10,
          "symbol": "triangle-up"
         },
         "mode": "markers",
         "showlegend": false,
         "type": "scatter",
         "x": [],
         "y": []
        },
        {
         "legendgroup": "ec2-p3",
         "marker": {
          "color": "#ff9896",
          "size": 10,
          "symbol": "triangle-down"
         },
         "mode": "markers",
         "showlegend": false,
         "type": "scatter",
         "x": [],
         "y": []
        },
        {
         "legendgroup": "ec2-p3",
         "marker": {
          "color": "#ff9896",
          "size": 10,
          "symbol": "pentagon"
         },
         "mode": "markers",
         "showlegend": false,
         "type": "scatter",
         "x": [],
         "y": []
        },
        {
         "legendgroup": "ec2-p4d",
         "marker": {
          "color": "#c5b0d5",
          "size": 10,
          "symbol": "circle"
         },
         "mode": "markers",
         "showlegend": false,
         "type": "scatter",
         "x": [],
         "y": []
        },
        {
         "legendgroup": "ec2-p4d",
         "marker": {
          "color": "#c5b0d5",
          "size": 10,
          "symbol": "square"
         },
         "mode": "markers",
         "showlegend": false,
         "type": "scatter",
         "x": [],
         "y": []
        },
        {
         "legendgroup": "ec2-p4d",
         "marker": {
          "color": "#c5b0d5",
          "size": 10,
          "symbol": "diamond"
         },
         "mode": "markers",
         "showlegend": false,
         "type": "scatter",
         "x": [
          -5.756850242614746
         ],
         "y": [
          -7.774126052856445
         ]
        },
        {
         "legendgroup": "ec2-p4d",
         "marker": {
          "color": "#c5b0d5",
          "size": 10,
          "symbol": "cross"
         },
         "mode": "markers",
         "showlegend": false,
         "type": "scatter",
         "x": [],
         "y": []
        },
        {
         "legendgroup": "ec2-p4d",
         "marker": {
          "color": "#c5b0d5",
          "size": 10,
          "symbol": "x"
         },
         "mode": "markers",
         "showlegend": false,
         "type": "scatter",
         "x": [],
         "y": []
        },
        {
         "legendgroup": "ec2-p4d",
         "marker": {
          "color": "#c5b0d5",
          "size": 10,
          "symbol": "triangle-up"
         },
         "mode": "markers",
         "showlegend": false,
         "type": "scatter",
         "x": [],
         "y": []
        },
        {
         "legendgroup": "ec2-p4d",
         "marker": {
          "color": "#c5b0d5",
          "size": 10,
          "symbol": "triangle-down"
         },
         "mode": "markers",
         "showlegend": false,
         "type": "scatter",
         "x": [],
         "y": []
        },
        {
         "legendgroup": "ec2-p4d",
         "marker": {
          "color": "#c5b0d5",
          "size": 10,
          "symbol": "pentagon"
         },
         "mode": "markers",
         "showlegend": false,
         "type": "scatter",
         "x": [],
         "y": []
        }
       ],
       "layout": {
        "height": 400,
        "legend": {
         "orientation": "h",
         "traceorder": "normal",
         "x": 0.5,
         "xanchor": "center",
         "y": 1.15,
         "yanchor": "bottom"
        },
        "margin": {
         "b": 0,
         "l": 0,
         "r": 0,
         "t": 0
        },
        "paper_bgcolor": "white",
        "plot_bgcolor": "white",
        "shapes": [
         {
          "line": {
           "color": "black",
           "width": 2
          },
          "type": "line",
          "x0": -7.065296649932861,
          "x1": 13.5311918258667,
          "y0": -12.8,
          "y1": -12.8
         },
         {
          "line": {
           "color": "black",
           "width": 2
          },
          "type": "line",
          "x0": -7,
          "x1": -7,
          "y0": -12.774126052856445,
          "y1": 19.42453384399414
         }
        ],
        "template": {
         "data": {
          "bar": [
           {
            "error_x": {
             "color": "#2a3f5f"
            },
            "error_y": {
             "color": "#2a3f5f"
            },
            "marker": {
             "line": {
              "color": "#E5ECF6",
              "width": 0.5
             },
             "pattern": {
              "fillmode": "overlay",
              "size": 10,
              "solidity": 0.2
             }
            },
            "type": "bar"
           }
          ],
          "barpolar": [
           {
            "marker": {
             "line": {
              "color": "#E5ECF6",
              "width": 0.5
             },
             "pattern": {
              "fillmode": "overlay",
              "size": 10,
              "solidity": 0.2
             }
            },
            "type": "barpolar"
           }
          ],
          "carpet": [
           {
            "aaxis": {
             "endlinecolor": "#2a3f5f",
             "gridcolor": "white",
             "linecolor": "white",
             "minorgridcolor": "white",
             "startlinecolor": "#2a3f5f"
            },
            "baxis": {
             "endlinecolor": "#2a3f5f",
             "gridcolor": "white",
             "linecolor": "white",
             "minorgridcolor": "white",
             "startlinecolor": "#2a3f5f"
            },
            "type": "carpet"
           }
          ],
          "choropleth": [
           {
            "colorbar": {
             "outlinewidth": 0,
             "ticks": ""
            },
            "type": "choropleth"
           }
          ],
          "contour": [
           {
            "colorbar": {
             "outlinewidth": 0,
             "ticks": ""
            },
            "colorscale": [
             [
              0,
              "#0d0887"
             ],
             [
              0.1111111111111111,
              "#46039f"
             ],
             [
              0.2222222222222222,
              "#7201a8"
             ],
             [
              0.3333333333333333,
              "#9c179e"
             ],
             [
              0.4444444444444444,
              "#bd3786"
             ],
             [
              0.5555555555555556,
              "#d8576b"
             ],
             [
              0.6666666666666666,
              "#ed7953"
             ],
             [
              0.7777777777777778,
              "#fb9f3a"
             ],
             [
              0.8888888888888888,
              "#fdca26"
             ],
             [
              1,
              "#f0f921"
             ]
            ],
            "type": "contour"
           }
          ],
          "contourcarpet": [
           {
            "colorbar": {
             "outlinewidth": 0,
             "ticks": ""
            },
            "type": "contourcarpet"
           }
          ],
          "heatmap": [
           {
            "colorbar": {
             "outlinewidth": 0,
             "ticks": ""
            },
            "colorscale": [
             [
              0,
              "#0d0887"
             ],
             [
              0.1111111111111111,
              "#46039f"
             ],
             [
              0.2222222222222222,
              "#7201a8"
             ],
             [
              0.3333333333333333,
              "#9c179e"
             ],
             [
              0.4444444444444444,
              "#bd3786"
             ],
             [
              0.5555555555555556,
              "#d8576b"
             ],
             [
              0.6666666666666666,
              "#ed7953"
             ],
             [
              0.7777777777777778,
              "#fb9f3a"
             ],
             [
              0.8888888888888888,
              "#fdca26"
             ],
             [
              1,
              "#f0f921"
             ]
            ],
            "type": "heatmap"
           }
          ],
          "heatmapgl": [
           {
            "colorbar": {
             "outlinewidth": 0,
             "ticks": ""
            },
            "colorscale": [
             [
              0,
              "#0d0887"
             ],
             [
              0.1111111111111111,
              "#46039f"
             ],
             [
              0.2222222222222222,
              "#7201a8"
             ],
             [
              0.3333333333333333,
              "#9c179e"
             ],
             [
              0.4444444444444444,
              "#bd3786"
             ],
             [
              0.5555555555555556,
              "#d8576b"
             ],
             [
              0.6666666666666666,
              "#ed7953"
             ],
             [
              0.7777777777777778,
              "#fb9f3a"
             ],
             [
              0.8888888888888888,
              "#fdca26"
             ],
             [
              1,
              "#f0f921"
             ]
            ],
            "type": "heatmapgl"
           }
          ],
          "histogram": [
           {
            "marker": {
             "pattern": {
              "fillmode": "overlay",
              "size": 10,
              "solidity": 0.2
             }
            },
            "type": "histogram"
           }
          ],
          "histogram2d": [
           {
            "colorbar": {
             "outlinewidth": 0,
             "ticks": ""
            },
            "colorscale": [
             [
              0,
              "#0d0887"
             ],
             [
              0.1111111111111111,
              "#46039f"
             ],
             [
              0.2222222222222222,
              "#7201a8"
             ],
             [
              0.3333333333333333,
              "#9c179e"
             ],
             [
              0.4444444444444444,
              "#bd3786"
             ],
             [
              0.5555555555555556,
              "#d8576b"
             ],
             [
              0.6666666666666666,
              "#ed7953"
             ],
             [
              0.7777777777777778,
              "#fb9f3a"
             ],
             [
              0.8888888888888888,
              "#fdca26"
             ],
             [
              1,
              "#f0f921"
             ]
            ],
            "type": "histogram2d"
           }
          ],
          "histogram2dcontour": [
           {
            "colorbar": {
             "outlinewidth": 0,
             "ticks": ""
            },
            "colorscale": [
             [
              0,
              "#0d0887"
             ],
             [
              0.1111111111111111,
              "#46039f"
             ],
             [
              0.2222222222222222,
              "#7201a8"
             ],
             [
              0.3333333333333333,
              "#9c179e"
             ],
             [
              0.4444444444444444,
              "#bd3786"
             ],
             [
              0.5555555555555556,
              "#d8576b"
             ],
             [
              0.6666666666666666,
              "#ed7953"
             ],
             [
              0.7777777777777778,
              "#fb9f3a"
             ],
             [
              0.8888888888888888,
              "#fdca26"
             ],
             [
              1,
              "#f0f921"
             ]
            ],
            "type": "histogram2dcontour"
           }
          ],
          "mesh3d": [
           {
            "colorbar": {
             "outlinewidth": 0,
             "ticks": ""
            },
            "type": "mesh3d"
           }
          ],
          "parcoords": [
           {
            "line": {
             "colorbar": {
              "outlinewidth": 0,
              "ticks": ""
             }
            },
            "type": "parcoords"
           }
          ],
          "pie": [
           {
            "automargin": true,
            "type": "pie"
           }
          ],
          "scatter": [
           {
            "fillpattern": {
             "fillmode": "overlay",
             "size": 10,
             "solidity": 0.2
            },
            "type": "scatter"
           }
          ],
          "scatter3d": [
           {
            "line": {
             "colorbar": {
              "outlinewidth": 0,
              "ticks": ""
             }
            },
            "marker": {
             "colorbar": {
              "outlinewidth": 0,
              "ticks": ""
             }
            },
            "type": "scatter3d"
           }
          ],
          "scattercarpet": [
           {
            "marker": {
             "colorbar": {
              "outlinewidth": 0,
              "ticks": ""
             }
            },
            "type": "scattercarpet"
           }
          ],
          "scattergeo": [
           {
            "marker": {
             "colorbar": {
              "outlinewidth": 0,
              "ticks": ""
             }
            },
            "type": "scattergeo"
           }
          ],
          "scattergl": [
           {
            "marker": {
             "colorbar": {
              "outlinewidth": 0,
              "ticks": ""
             }
            },
            "type": "scattergl"
           }
          ],
          "scattermapbox": [
           {
            "marker": {
             "colorbar": {
              "outlinewidth": 0,
              "ticks": ""
             }
            },
            "type": "scattermapbox"
           }
          ],
          "scatterpolar": [
           {
            "marker": {
             "colorbar": {
              "outlinewidth": 0,
              "ticks": ""
             }
            },
            "type": "scatterpolar"
           }
          ],
          "scatterpolargl": [
           {
            "marker": {
             "colorbar": {
              "outlinewidth": 0,
              "ticks": ""
             }
            },
            "type": "scatterpolargl"
           }
          ],
          "scatterternary": [
           {
            "marker": {
             "colorbar": {
              "outlinewidth": 0,
              "ticks": ""
             }
            },
            "type": "scatterternary"
           }
          ],
          "surface": [
           {
            "colorbar": {
             "outlinewidth": 0,
             "ticks": ""
            },
            "colorscale": [
             [
              0,
              "#0d0887"
             ],
             [
              0.1111111111111111,
              "#46039f"
             ],
             [
              0.2222222222222222,
              "#7201a8"
             ],
             [
              0.3333333333333333,
              "#9c179e"
             ],
             [
              0.4444444444444444,
              "#bd3786"
             ],
             [
              0.5555555555555556,
              "#d8576b"
             ],
             [
              0.6666666666666666,
              "#ed7953"
             ],
             [
              0.7777777777777778,
              "#fb9f3a"
             ],
             [
              0.8888888888888888,
              "#fdca26"
             ],
             [
              1,
              "#f0f921"
             ]
            ],
            "type": "surface"
           }
          ],
          "table": [
           {
            "cells": {
             "fill": {
              "color": "#EBF0F8"
             },
             "line": {
              "color": "white"
             }
            },
            "header": {
             "fill": {
              "color": "#C8D4E3"
             },
             "line": {
              "color": "white"
             }
            },
            "type": "table"
           }
          ]
         },
         "layout": {
          "annotationdefaults": {
           "arrowcolor": "#2a3f5f",
           "arrowhead": 0,
           "arrowwidth": 1
          },
          "autotypenumbers": "strict",
          "coloraxis": {
           "colorbar": {
            "outlinewidth": 0,
            "ticks": ""
           }
          },
          "colorscale": {
           "diverging": [
            [
             0,
             "#8e0152"
            ],
            [
             0.1,
             "#c51b7d"
            ],
            [
             0.2,
             "#de77ae"
            ],
            [
             0.3,
             "#f1b6da"
            ],
            [
             0.4,
             "#fde0ef"
            ],
            [
             0.5,
             "#f7f7f7"
            ],
            [
             0.6,
             "#e6f5d0"
            ],
            [
             0.7,
             "#b8e186"
            ],
            [
             0.8,
             "#7fbc41"
            ],
            [
             0.9,
             "#4d9221"
            ],
            [
             1,
             "#276419"
            ]
           ],
           "sequential": [
            [
             0,
             "#0d0887"
            ],
            [
             0.1111111111111111,
             "#46039f"
            ],
            [
             0.2222222222222222,
             "#7201a8"
            ],
            [
             0.3333333333333333,
             "#9c179e"
            ],
            [
             0.4444444444444444,
             "#bd3786"
            ],
            [
             0.5555555555555556,
             "#d8576b"
            ],
            [
             0.6666666666666666,
             "#ed7953"
            ],
            [
             0.7777777777777778,
             "#fb9f3a"
            ],
            [
             0.8888888888888888,
             "#fdca26"
            ],
            [
             1,
             "#f0f921"
            ]
           ],
           "sequentialminus": [
            [
             0,
             "#0d0887"
            ],
            [
             0.1111111111111111,
             "#46039f"
            ],
            [
             0.2222222222222222,
             "#7201a8"
            ],
            [
             0.3333333333333333,
             "#9c179e"
            ],
            [
             0.4444444444444444,
             "#bd3786"
            ],
            [
             0.5555555555555556,
             "#d8576b"
            ],
            [
             0.6666666666666666,
             "#ed7953"
            ],
            [
             0.7777777777777778,
             "#fb9f3a"
            ],
            [
             0.8888888888888888,
             "#fdca26"
            ],
            [
             1,
             "#f0f921"
            ]
           ]
          },
          "colorway": [
           "#636efa",
           "#EF553B",
           "#00cc96",
           "#ab63fa",
           "#FFA15A",
           "#19d3f3",
           "#FF6692",
           "#B6E880",
           "#FF97FF",
           "#FECB52"
          ],
          "font": {
           "color": "#2a3f5f"
          },
          "geo": {
           "bgcolor": "white",
           "lakecolor": "white",
           "landcolor": "#E5ECF6",
           "showlakes": true,
           "showland": true,
           "subunitcolor": "white"
          },
          "hoverlabel": {
           "align": "left"
          },
          "hovermode": "closest",
          "mapbox": {
           "style": "light"
          },
          "paper_bgcolor": "white",
          "plot_bgcolor": "#E5ECF6",
          "polar": {
           "angularaxis": {
            "gridcolor": "white",
            "linecolor": "white",
            "ticks": ""
           },
           "bgcolor": "#E5ECF6",
           "radialaxis": {
            "gridcolor": "white",
            "linecolor": "white",
            "ticks": ""
           }
          },
          "scene": {
           "xaxis": {
            "backgroundcolor": "#E5ECF6",
            "gridcolor": "white",
            "gridwidth": 2,
            "linecolor": "white",
            "showbackground": true,
            "ticks": "",
            "zerolinecolor": "white"
           },
           "yaxis": {
            "backgroundcolor": "#E5ECF6",
            "gridcolor": "white",
            "gridwidth": 2,
            "linecolor": "white",
            "showbackground": true,
            "ticks": "",
            "zerolinecolor": "white"
           },
           "zaxis": {
            "backgroundcolor": "#E5ECF6",
            "gridcolor": "white",
            "gridwidth": 2,
            "linecolor": "white",
            "showbackground": true,
            "ticks": "",
            "zerolinecolor": "white"
           }
          },
          "shapedefaults": {
           "line": {
            "color": "#2a3f5f"
           }
          },
          "ternary": {
           "aaxis": {
            "gridcolor": "white",
            "linecolor": "white",
            "ticks": ""
           },
           "baxis": {
            "gridcolor": "white",
            "linecolor": "white",
            "ticks": ""
           },
           "bgcolor": "#E5ECF6",
           "caxis": {
            "gridcolor": "white",
            "linecolor": "white",
            "ticks": ""
           }
          },
          "title": {
           "x": 0.05
          },
          "xaxis": {
           "automargin": true,
           "gridcolor": "white",
           "linecolor": "white",
           "ticks": "",
           "title": {
            "standoff": 15
           },
           "zerolinecolor": "white",
           "zerolinewidth": 2
          },
          "yaxis": {
           "automargin": true,
           "gridcolor": "white",
           "linecolor": "white",
           "ticks": "",
           "title": {
            "standoff": 15
           },
           "zerolinecolor": "white",
           "zerolinewidth": 2
          }
         }
        },
        "title": {
         "font": {
          "size": 16
         },
         "x": 0.5,
         "xanchor": "center",
         "y": 0.01,
         "yanchor": "bottom"
        },
        "width": 600,
        "xaxis": {
         "tickfont": {
          "size": 18
         },
         "title": {
          "font": {
           "size": 20
          },
          "text": "t-SNE feature 1"
         }
        },
        "yaxis": {
         "tickfont": {
          "size": 18
         },
         "title": {
          "font": {
           "size": 20
          },
          "text": "t-SNE feature 2"
         }
        }
       }
      },
      "text/html": [
       "<div>                            <div id=\"1023e87f-b024-4869-a38b-c60b1799a8b3\" class=\"plotly-graph-div\" style=\"height:400px; width:600px;\"></div>            <script type=\"text/javascript\">                require([\"plotly\"], function(Plotly) {                    window.PLOTLYENV=window.PLOTLYENV || {};                                    if (document.getElementById(\"1023e87f-b024-4869-a38b-c60b1799a8b3\")) {                    Plotly.newPlot(                        \"1023e87f-b024-4869-a38b-c60b1799a8b3\",                        [{\"legendgroup\":\"boraxo\",\"marker\":{\"color\":\"#1f77b4\",\"size\":10,\"symbol\":\"circle\"},\"mode\":\"markers\",\"showlegend\":false,\"x\":[9.581255912780762],\"y\":[3.9933388233184814],\"type\":\"scatter\"},{\"legendgroup\":\"boraxo\",\"marker\":{\"color\":\"#1f77b4\",\"size\":10,\"symbol\":\"square\"},\"mode\":\"markers\",\"showlegend\":false,\"x\":[8.961775779724121],\"y\":[4.742554187774658],\"type\":\"scatter\"},{\"legendgroup\":\"boraxo\",\"marker\":{\"color\":\"#1f77b4\",\"size\":10,\"symbol\":\"diamond\"},\"mode\":\"markers\",\"showlegend\":false,\"x\":[8.360665321350098],\"y\":[4.876856327056885],\"type\":\"scatter\"},{\"legendgroup\":\"boraxo\",\"marker\":{\"color\":\"#1f77b4\",\"size\":10,\"symbol\":\"cross\"},\"mode\":\"markers\",\"showlegend\":false,\"x\":[5.723801136016846,-3.154951810836792],\"y\":[0.8146705031394958,15.925039291381836],\"type\":\"scatter\"},{\"legendgroup\":\"boraxo\",\"marker\":{\"color\":\"#1f77b4\",\"size\":10,\"symbol\":\"x\"},\"mode\":\"markers\",\"showlegend\":false,\"x\":[5.742949962615967],\"y\":[1.2779464721679688],\"type\":\"scatter\"},{\"legendgroup\":\"boraxo\",\"marker\":{\"color\":\"#1f77b4\",\"size\":10,\"symbol\":\"triangle-up\"},\"mode\":\"markers\",\"showlegend\":false,\"x\":[-1.4625368118286133],\"y\":[6.010895252227783],\"type\":\"scatter\"},{\"legendgroup\":\"boraxo\",\"marker\":{\"color\":\"#1f77b4\",\"size\":10,\"symbol\":\"triangle-down\"},\"mode\":\"markers\",\"showlegend\":false,\"x\":[-2.6386938095092773],\"y\":[8.958961486816406],\"type\":\"scatter\"},{\"legendgroup\":\"boraxo\",\"marker\":{\"color\":\"#1f77b4\",\"size\":10,\"symbol\":\"pentagon\"},\"mode\":\"markers\",\"showlegend\":false,\"x\":[],\"y\":[],\"type\":\"scatter\"},{\"legendgroup\":\"catalyst\",\"marker\":{\"color\":\"#ff7f0e\",\"size\":10,\"symbol\":\"circle\"},\"mode\":\"markers\",\"showlegend\":false,\"x\":[1.1016730070114136],\"y\":[11.548095703125],\"type\":\"scatter\"},{\"legendgroup\":\"catalyst\",\"marker\":{\"color\":\"#ff7f0e\",\"size\":10,\"symbol\":\"square\"},\"mode\":\"markers\",\"showlegend\":false,\"x\":[0.856168270111084],\"y\":[12.897611618041992],\"type\":\"scatter\"},{\"legendgroup\":\"catalyst\",\"marker\":{\"color\":\"#ff7f0e\",\"size\":10,\"symbol\":\"diamond\"},\"mode\":\"markers\",\"showlegend\":false,\"x\":[0.9895151853561401],\"y\":[11.494979858398438],\"type\":\"scatter\"},{\"legendgroup\":\"catalyst\",\"marker\":{\"color\":\"#ff7f0e\",\"size\":10,\"symbol\":\"cross\"},\"mode\":\"markers\",\"showlegend\":false,\"x\":[0.3993505537509918],\"y\":[12.780989646911621],\"type\":\"scatter\"},{\"legendgroup\":\"catalyst\",\"marker\":{\"color\":\"#ff7f0e\",\"size\":10,\"symbol\":\"x\"},\"mode\":\"markers\",\"showlegend\":false,\"x\":[-0.8106944561004639,-0.3882964849472046],\"y\":[15.386908531188965,16.42453384399414],\"type\":\"scatter\"},{\"legendgroup\":\"catalyst\",\"marker\":{\"color\":\"#ff7f0e\",\"size\":10,\"symbol\":\"triangle-up\"},\"mode\":\"markers\",\"showlegend\":false,\"x\":[],\"y\":[],\"type\":\"scatter\"},{\"legendgroup\":\"catalyst\",\"marker\":{\"color\":\"#ff7f0e\",\"size\":10,\"symbol\":\"triangle-down\"},\"mode\":\"markers\",\"showlegend\":false,\"x\":[],\"y\":[],\"type\":\"scatter\"},{\"legendgroup\":\"catalyst\",\"marker\":{\"color\":\"#ff7f0e\",\"size\":10,\"symbol\":\"pentagon\"},\"mode\":\"markers\",\"showlegend\":false,\"x\":[6.249299049377441],\"y\":[5.299828052520752],\"type\":\"scatter\"},{\"legendgroup\":\"quartz\",\"marker\":{\"color\":\"#2ca02c\",\"size\":10,\"symbol\":\"circle\"},\"mode\":\"markers\",\"showlegend\":false,\"x\":[-2.9682228565216064],\"y\":[0.4564026892185211],\"type\":\"scatter\"},{\"legendgroup\":\"quartz\",\"marker\":{\"color\":\"#2ca02c\",\"size\":10,\"symbol\":\"square\"},\"mode\":\"markers\",\"showlegend\":false,\"x\":[-2.3188636302948],\"y\":[0.45397406816482544],\"type\":\"scatter\"},{\"legendgroup\":\"quartz\",\"marker\":{\"color\":\"#2ca02c\",\"size\":10,\"symbol\":\"diamond\"},\"mode\":\"markers\",\"showlegend\":false,\"x\":[-2.2520768642425537],\"y\":[5.87985897064209],\"type\":\"scatter\"},{\"legendgroup\":\"quartz\",\"marker\":{\"color\":\"#2ca02c\",\"size\":10,\"symbol\":\"cross\"},\"mode\":\"markers\",\"showlegend\":false,\"x\":[-3.5040323734283447],\"y\":[9.073343276977539],\"type\":\"scatter\"},{\"legendgroup\":\"quartz\",\"marker\":{\"color\":\"#2ca02c\",\"size\":10,\"symbol\":\"x\"},\"mode\":\"markers\",\"showlegend\":false,\"x\":[],\"y\":[],\"type\":\"scatter\"},{\"legendgroup\":\"quartz\",\"marker\":{\"color\":\"#2ca02c\",\"size\":10,\"symbol\":\"triangle-up\"},\"mode\":\"markers\",\"showlegend\":false,\"x\":[4.962666988372803,-2.1772541999816895],\"y\":[1.865021824836731,15.71505355834961],\"type\":\"scatter\"},{\"legendgroup\":\"quartz\",\"marker\":{\"color\":\"#2ca02c\",\"size\":10,\"symbol\":\"triangle-down\"},\"mode\":\"markers\",\"showlegend\":false,\"x\":[4.317104339599609],\"y\":[4.26144552230835],\"type\":\"scatter\"},{\"legendgroup\":\"quartz\",\"marker\":{\"color\":\"#2ca02c\",\"size\":10,\"symbol\":\"pentagon\"},\"mode\":\"markers\",\"showlegend\":false,\"x\":[5.212159156799316],\"y\":[4.396787166595459],\"type\":\"scatter\"},{\"legendgroup\":\"ruby\",\"marker\":{\"color\":\"#d62728\",\"size\":10,\"symbol\":\"circle\"},\"mode\":\"markers\",\"showlegend\":false,\"x\":[-2.7391254901885986],\"y\":[-2.2424399852752686],\"type\":\"scatter\"},{\"legendgroup\":\"ruby\",\"marker\":{\"color\":\"#d62728\",\"size\":10,\"symbol\":\"square\"},\"mode\":\"markers\",\"showlegend\":false,\"x\":[-3.8503758907318115],\"y\":[1.6945291757583618],\"type\":\"scatter\"},{\"legendgroup\":\"ruby\",\"marker\":{\"color\":\"#d62728\",\"size\":10,\"symbol\":\"diamond\"},\"mode\":\"markers\",\"showlegend\":false,\"x\":[-3.431335926055908],\"y\":[6.634538650512695],\"type\":\"scatter\"},{\"legendgroup\":\"ruby\",\"marker\":{\"color\":\"#d62728\",\"size\":10,\"symbol\":\"cross\"},\"mode\":\"markers\",\"showlegend\":false,\"x\":[],\"y\":[],\"type\":\"scatter\"},{\"legendgroup\":\"ruby\",\"marker\":{\"color\":\"#d62728\",\"size\":10,\"symbol\":\"x\"},\"mode\":\"markers\",\"showlegend\":false,\"x\":[6.8951287269592285],\"y\":[1.5523537397384644],\"type\":\"scatter\"},{\"legendgroup\":\"ruby\",\"marker\":{\"color\":\"#d62728\",\"size\":10,\"symbol\":\"triangle-up\"},\"mode\":\"markers\",\"showlegend\":false,\"x\":[3.1391708850860596],\"y\":[1.6619986295700073],\"type\":\"scatter\"},{\"legendgroup\":\"ruby\",\"marker\":{\"color\":\"#d62728\",\"size\":10,\"symbol\":\"triangle-down\"},\"mode\":\"markers\",\"showlegend\":false,\"x\":[1.9122234582901,-4.068019866943359],\"y\":[4.062761306762695,13.991968154907227],\"type\":\"scatter\"},{\"legendgroup\":\"ruby\",\"marker\":{\"color\":\"#d62728\",\"size\":10,\"symbol\":\"pentagon\"},\"mode\":\"markers\",\"showlegend\":false,\"x\":[-0.17771698534488678],\"y\":[-4.787649631500244],\"type\":\"scatter\"},{\"legendgroup\":\"mammoth\",\"marker\":{\"color\":\"#9467bd\",\"size\":10,\"symbol\":\"circle\"},\"mode\":\"markers\",\"showlegend\":false,\"x\":[-4.150007247924805],\"y\":[0.06621876358985901],\"type\":\"scatter\"},{\"legendgroup\":\"mammoth\",\"marker\":{\"color\":\"#9467bd\",\"size\":10,\"symbol\":\"square\"},\"mode\":\"markers\",\"showlegend\":false,\"x\":[-5.060744762420654],\"y\":[7.3117876052856445],\"type\":\"scatter\"},{\"legendgroup\":\"mammoth\",\"marker\":{\"color\":\"#9467bd\",\"size\":10,\"symbol\":\"diamond\"},\"mode\":\"markers\",\"showlegend\":false,\"x\":[],\"y\":[],\"type\":\"scatter\"},{\"legendgroup\":\"mammoth\",\"marker\":{\"color\":\"#9467bd\",\"size\":10,\"symbol\":\"cross\"},\"mode\":\"markers\",\"showlegend\":false,\"x\":[2.0761797428131104],\"y\":[-6.678830146789551],\"type\":\"scatter\"},{\"legendgroup\":\"mammoth\",\"marker\":{\"color\":\"#9467bd\",\"size\":10,\"symbol\":\"x\"},\"mode\":\"markers\",\"showlegend\":false,\"x\":[1.4475313425064087],\"y\":[-5.976691246032715],\"type\":\"scatter\"},{\"legendgroup\":\"mammoth\",\"marker\":{\"color\":\"#9467bd\",\"size\":10,\"symbol\":\"triangle-up\"},\"mode\":\"markers\",\"showlegend\":false,\"x\":[-1.7085437774658203],\"y\":[-5.792608261108398],\"type\":\"scatter\"},{\"legendgroup\":\"mammoth\",\"marker\":{\"color\":\"#9467bd\",\"size\":10,\"symbol\":\"triangle-down\"},\"mode\":\"markers\",\"showlegend\":false,\"x\":[-2.490049123764038],\"y\":[-5.377365589141846],\"type\":\"scatter\"},{\"legendgroup\":\"mammoth\",\"marker\":{\"color\":\"#9467bd\",\"size\":10,\"symbol\":\"pentagon\"},\"mode\":\"markers\",\"showlegend\":false,\"x\":[-3.1575467586517334,-3.3639259338378906],\"y\":[-4.4973978996276855,14.850916862487793],\"type\":\"scatter\"},{\"legendgroup\":\"poodle\",\"marker\":{\"color\":\"#8c564b\",\"size\":10,\"symbol\":\"circle\"},\"mode\":\"markers\",\"showlegend\":false,\"x\":[-4.264517784118652,-4.806990623474121],\"y\":[6.554865837097168,14.173524856567383],\"type\":\"scatter\"},{\"legendgroup\":\"poodle\",\"marker\":{\"color\":\"#8c564b\",\"size\":10,\"symbol\":\"square\"},\"mode\":\"markers\",\"showlegend\":false,\"x\":[],\"y\":[],\"type\":\"scatter\"},{\"legendgroup\":\"poodle\",\"marker\":{\"color\":\"#8c564b\",\"size\":10,\"symbol\":\"diamond\"},\"mode\":\"markers\",\"showlegend\":false,\"x\":[12.331192016601562],\"y\":[2.034512996673584],\"type\":\"scatter\"},{\"legendgroup\":\"poodle\",\"marker\":{\"color\":\"#8c564b\",\"size\":10,\"symbol\":\"cross\"},\"mode\":\"markers\",\"showlegend\":false,\"x\":[10.327686309814453],\"y\":[3.7605278491973877],\"type\":\"scatter\"},{\"legendgroup\":\"poodle\",\"marker\":{\"color\":\"#8c564b\",\"size\":10,\"symbol\":\"x\"},\"mode\":\"markers\",\"showlegend\":false,\"x\":[3.7910854816436768],\"y\":[-3.802311658859253],\"type\":\"scatter\"},{\"legendgroup\":\"poodle\",\"marker\":{\"color\":\"#8c564b\",\"size\":10,\"symbol\":\"triangle-up\"},\"mode\":\"markers\",\"showlegend\":false,\"x\":[2.907254695892334],\"y\":[-3.6776466369628906],\"type\":\"scatter\"},{\"legendgroup\":\"poodle\",\"marker\":{\"color\":\"#8c564b\",\"size\":10,\"symbol\":\"triangle-down\"},\"mode\":\"markers\",\"showlegend\":false,\"x\":[-0.6336296796798706],\"y\":[-2.682649612426758],\"type\":\"scatter\"},{\"legendgroup\":\"poodle\",\"marker\":{\"color\":\"#8c564b\",\"size\":10,\"symbol\":\"pentagon\"},\"mode\":\"markers\",\"showlegend\":false,\"x\":[-3.032416820526123],\"y\":[2.4665603637695312],\"type\":\"scatter\"},{\"legendgroup\":\"ec2-c5n\",\"marker\":{\"color\":\"#e377c2\",\"size\":10,\"symbol\":\"circle\"},\"mode\":\"markers\",\"showlegend\":false,\"x\":[],\"y\":[],\"type\":\"scatter\"},{\"legendgroup\":\"ec2-c5n\",\"marker\":{\"color\":\"#e377c2\",\"size\":10,\"symbol\":\"square\"},\"mode\":\"markers\",\"showlegend\":false,\"x\":[4.277953624725342,-4.287535190582275],\"y\":[1.4112266302108765,15.193225860595703],\"type\":\"scatter\"},{\"legendgroup\":\"ec2-c5n\",\"marker\":{\"color\":\"#e377c2\",\"size\":10,\"symbol\":\"diamond\"},\"mode\":\"markers\",\"showlegend\":false,\"x\":[3.2021324634552],\"y\":[4.021613597869873],\"type\":\"scatter\"},{\"legendgroup\":\"ec2-c5n\",\"marker\":{\"color\":\"#e377c2\",\"size\":10,\"symbol\":\"cross\"},\"mode\":\"markers\",\"showlegend\":false,\"x\":[3.0196316242218018],\"y\":[4.609455108642578],\"type\":\"scatter\"},{\"legendgroup\":\"ec2-c5n\",\"marker\":{\"color\":\"#e377c2\",\"size\":10,\"symbol\":\"x\"},\"mode\":\"markers\",\"showlegend\":false,\"x\":[-0.394294410943985],\"y\":[-1.6014583110809326],\"type\":\"scatter\"},{\"legendgroup\":\"ec2-c5n\",\"marker\":{\"color\":\"#e377c2\",\"size\":10,\"symbol\":\"triangle-up\"},\"mode\":\"markers\",\"showlegend\":false,\"x\":[-1.089110016822815],\"y\":[-1.5357227325439453],\"type\":\"scatter\"},{\"legendgroup\":\"ec2-c5n\",\"marker\":{\"color\":\"#e377c2\",\"size\":10,\"symbol\":\"triangle-down\"},\"mode\":\"markers\",\"showlegend\":false,\"x\":[-4.135279655456543],\"y\":[3.611621618270874],\"type\":\"scatter\"},{\"legendgroup\":\"ec2-c5n\",\"marker\":{\"color\":\"#e377c2\",\"size\":10,\"symbol\":\"pentagon\"},\"mode\":\"markers\",\"showlegend\":false,\"x\":[-3.809962749481201],\"y\":[7.9249091148376465],\"type\":\"scatter\"},{\"legendgroup\":\"ec2-c6a\",\"marker\":{\"color\":\"#7f7f7f\",\"size\":10,\"symbol\":\"circle\"},\"mode\":\"markers\",\"showlegend\":false,\"x\":[12.27709674835205],\"y\":[2.0804476737976074],\"type\":\"scatter\"},{\"legendgroup\":\"ec2-c6a\",\"marker\":{\"color\":\"#7f7f7f\",\"size\":10,\"symbol\":\"square\"},\"mode\":\"markers\",\"showlegend\":false,\"x\":[9.238086700439453],\"y\":[3.1669421195983887],\"type\":\"scatter\"},{\"legendgroup\":\"ec2-c6a\",\"marker\":{\"color\":\"#7f7f7f\",\"size\":10,\"symbol\":\"diamond\"},\"mode\":\"markers\",\"showlegend\":false,\"x\":[2.2950639724731445,-4.4306535720825195],\"y\":[-4.624385833740234,12.333552360534668],\"type\":\"scatter\"},{\"legendgroup\":\"ec2-c6a\",\"marker\":{\"color\":\"#7f7f7f\",\"size\":10,\"symbol\":\"cross\"},\"mode\":\"markers\",\"showlegend\":false,\"x\":[0.8656114935874939],\"y\":[-4.562864780426025],\"type\":\"scatter\"},{\"legendgroup\":\"ec2-c6a\",\"marker\":{\"color\":\"#7f7f7f\",\"size\":10,\"symbol\":\"x\"},\"mode\":\"markers\",\"showlegend\":false,\"x\":[-0.23045215010643005],\"y\":[-3.808298110961914],\"type\":\"scatter\"},{\"legendgroup\":\"ec2-c6a\",\"marker\":{\"color\":\"#7f7f7f\",\"size\":10,\"symbol\":\"triangle-up\"},\"mode\":\"markers\",\"showlegend\":false,\"x\":[-1.2681303024291992],\"y\":[-0.27790266275405884],\"type\":\"scatter\"},{\"legendgroup\":\"ec2-c6a\",\"marker\":{\"color\":\"#7f7f7f\",\"size\":10,\"symbol\":\"triangle-down\"},\"mode\":\"markers\",\"showlegend\":false,\"x\":[-3.310389757156372],\"y\":[4.464579105377197],\"type\":\"scatter\"},{\"legendgroup\":\"ec2-c6a\",\"marker\":{\"color\":\"#7f7f7f\",\"size\":10,\"symbol\":\"pentagon\"},\"mode\":\"markers\",\"showlegend\":false,\"x\":[],\"y\":[],\"type\":\"scatter\"},{\"legendgroup\":\"ec2-c6i\",\"marker\":{\"color\":\"#bcbd22\",\"size\":10,\"symbol\":\"circle\"},\"mode\":\"markers\",\"showlegend\":false,\"x\":[0.5640631914138794],\"y\":[-2.9203174114227295],\"type\":\"scatter\"},{\"legendgroup\":\"ec2-c6i\",\"marker\":{\"color\":\"#bcbd22\",\"size\":10,\"symbol\":\"square\"},\"mode\":\"markers\",\"showlegend\":false,\"x\":[-1.3022962808609009],\"y\":[-4.202882766723633],\"type\":\"scatter\"},{\"legendgroup\":\"ec2-c6i\",\"marker\":{\"color\":\"#bcbd22\",\"size\":10,\"symbol\":\"diamond\"},\"mode\":\"markers\",\"showlegend\":false,\"x\":[-2.3600616455078125],\"y\":[-3.177281141281128],\"type\":\"scatter\"},{\"legendgroup\":\"ec2-c6i\",\"marker\":{\"color\":\"#bcbd22\",\"size\":10,\"symbol\":\"cross\"},\"mode\":\"markers\",\"showlegend\":false,\"x\":[-4.5521955490112305,-4.528663635253906],\"y\":[2.4313642978668213,13.08445930480957],\"type\":\"scatter\"},{\"legendgroup\":\"ec2-c6i\",\"marker\":{\"color\":\"#bcbd22\",\"size\":10,\"symbol\":\"x\"},\"mode\":\"markers\",\"showlegend\":false,\"x\":[-4.231125831604004],\"y\":[5.173849582672119],\"type\":\"scatter\"},{\"legendgroup\":\"ec2-c6i\",\"marker\":{\"color\":\"#bcbd22\",\"size\":10,\"symbol\":\"triangle-up\"},\"mode\":\"markers\",\"showlegend\":false,\"x\":[],\"y\":[],\"type\":\"scatter\"},{\"legendgroup\":\"ec2-c6i\",\"marker\":{\"color\":\"#bcbd22\",\"size\":10,\"symbol\":\"triangle-down\"},\"mode\":\"markers\",\"showlegend\":false,\"x\":[],\"y\":[],\"type\":\"scatter\"},{\"legendgroup\":\"ec2-c6i\",\"marker\":{\"color\":\"#bcbd22\",\"size\":10,\"symbol\":\"pentagon\"},\"mode\":\"markers\",\"showlegend\":false,\"x\":[1.5073041915893555],\"y\":[-3.5794546604156494],\"type\":\"scatter\"},{\"legendgroup\":\"pascal\",\"marker\":{\"color\":\"#17becf\",\"size\":10,\"symbol\":\"circle\"},\"mode\":\"markers\",\"showlegend\":false,\"x\":[],\"y\":[],\"type\":\"scatter\"},{\"legendgroup\":\"pascal\",\"marker\":{\"color\":\"#17becf\",\"size\":10,\"symbol\":\"square\"},\"mode\":\"markers\",\"showlegend\":false,\"x\":[],\"y\":[],\"type\":\"scatter\"},{\"legendgroup\":\"pascal\",\"marker\":{\"color\":\"#17becf\",\"size\":10,\"symbol\":\"diamond\"},\"mode\":\"markers\",\"showlegend\":false,\"x\":[],\"y\":[],\"type\":\"scatter\"},{\"legendgroup\":\"pascal\",\"marker\":{\"color\":\"#17becf\",\"size\":10,\"symbol\":\"cross\"},\"mode\":\"markers\",\"showlegend\":false,\"x\":[],\"y\":[],\"type\":\"scatter\"},{\"legendgroup\":\"pascal\",\"marker\":{\"color\":\"#17becf\",\"size\":10,\"symbol\":\"x\"},\"mode\":\"markers\",\"showlegend\":false,\"x\":[],\"y\":[],\"type\":\"scatter\"},{\"legendgroup\":\"pascal\",\"marker\":{\"color\":\"#17becf\",\"size\":10,\"symbol\":\"triangle-up\"},\"mode\":\"markers\",\"showlegend\":false,\"x\":[-6.202054023742676],\"y\":[-6.5967936515808105],\"type\":\"scatter\"},{\"legendgroup\":\"pascal\",\"marker\":{\"color\":\"#17becf\",\"size\":10,\"symbol\":\"triangle-down\"},\"mode\":\"markers\",\"showlegend\":false,\"x\":[],\"y\":[],\"type\":\"scatter\"},{\"legendgroup\":\"pascal\",\"marker\":{\"color\":\"#17becf\",\"size\":10,\"symbol\":\"pentagon\"},\"mode\":\"markers\",\"showlegend\":false,\"x\":[],\"y\":[],\"type\":\"scatter\"},{\"legendgroup\":\"lassen\",\"marker\":{\"color\":\"#aec7e8\",\"size\":10,\"symbol\":\"circle\"},\"mode\":\"markers\",\"showlegend\":false,\"x\":[],\"y\":[],\"type\":\"scatter\"},{\"legendgroup\":\"lassen\",\"marker\":{\"color\":\"#aec7e8\",\"size\":10,\"symbol\":\"square\"},\"mode\":\"markers\",\"showlegend\":false,\"x\":[],\"y\":[],\"type\":\"scatter\"},{\"legendgroup\":\"lassen\",\"marker\":{\"color\":\"#aec7e8\",\"size\":10,\"symbol\":\"diamond\"},\"mode\":\"markers\",\"showlegend\":false,\"x\":[],\"y\":[],\"type\":\"scatter\"},{\"legendgroup\":\"lassen\",\"marker\":{\"color\":\"#aec7e8\",\"size\":10,\"symbol\":\"cross\"},\"mode\":\"markers\",\"showlegend\":false,\"x\":[],\"y\":[],\"type\":\"scatter\"},{\"legendgroup\":\"lassen\",\"marker\":{\"color\":\"#aec7e8\",\"size\":10,\"symbol\":\"x\"},\"mode\":\"markers\",\"showlegend\":false,\"x\":[],\"y\":[],\"type\":\"scatter\"},{\"legendgroup\":\"lassen\",\"marker\":{\"color\":\"#aec7e8\",\"size\":10,\"symbol\":\"triangle-up\"},\"mode\":\"markers\",\"showlegend\":false,\"x\":[],\"y\":[],\"type\":\"scatter\"},{\"legendgroup\":\"lassen\",\"marker\":{\"color\":\"#aec7e8\",\"size\":10,\"symbol\":\"triangle-down\"},\"mode\":\"markers\",\"showlegend\":false,\"x\":[-5.462135314941406],\"y\":[-7.069766998291016],\"type\":\"scatter\"},{\"legendgroup\":\"lassen\",\"marker\":{\"color\":\"#aec7e8\",\"size\":10,\"symbol\":\"pentagon\"},\"mode\":\"markers\",\"showlegend\":false,\"x\":[],\"y\":[],\"type\":\"scatter\"},{\"legendgroup\":\"corona\",\"marker\":{\"color\":\"#ffbb78\",\"size\":10,\"symbol\":\"circle\"},\"mode\":\"markers\",\"showlegend\":false,\"x\":[],\"y\":[],\"type\":\"scatter\"},{\"legendgroup\":\"corona\",\"marker\":{\"color\":\"#ffbb78\",\"size\":10,\"symbol\":\"square\"},\"mode\":\"markers\",\"showlegend\":false,\"x\":[],\"y\":[],\"type\":\"scatter\"},{\"legendgroup\":\"corona\",\"marker\":{\"color\":\"#ffbb78\",\"size\":10,\"symbol\":\"diamond\"},\"mode\":\"markers\",\"showlegend\":false,\"x\":[],\"y\":[],\"type\":\"scatter\"},{\"legendgroup\":\"corona\",\"marker\":{\"color\":\"#ffbb78\",\"size\":10,\"symbol\":\"cross\"},\"mode\":\"markers\",\"showlegend\":false,\"x\":[],\"y\":[],\"type\":\"scatter\"},{\"legendgroup\":\"corona\",\"marker\":{\"color\":\"#ffbb78\",\"size\":10,\"symbol\":\"x\"},\"mode\":\"markers\",\"showlegend\":false,\"x\":[],\"y\":[],\"type\":\"scatter\"},{\"legendgroup\":\"corona\",\"marker\":{\"color\":\"#ffbb78\",\"size\":10,\"symbol\":\"triangle-up\"},\"mode\":\"markers\",\"showlegend\":false,\"x\":[],\"y\":[],\"type\":\"scatter\"},{\"legendgroup\":\"corona\",\"marker\":{\"color\":\"#ffbb78\",\"size\":10,\"symbol\":\"triangle-down\"},\"mode\":\"markers\",\"showlegend\":false,\"x\":[],\"y\":[],\"type\":\"scatter\"},{\"legendgroup\":\"corona\",\"marker\":{\"color\":\"#ffbb78\",\"size\":10,\"symbol\":\"pentagon\"},\"mode\":\"markers\",\"showlegend\":false,\"x\":[8.257303237915039],\"y\":[9.625113487243652],\"type\":\"scatter\"},{\"legendgroup\":\"tioga\",\"marker\":{\"color\":\"#98df8a\",\"size\":10,\"symbol\":\"circle\"},\"mode\":\"markers\",\"showlegend\":false,\"x\":[8.256538391113281],\"y\":[9.624885559082031],\"type\":\"scatter\"},{\"legendgroup\":\"tioga\",\"marker\":{\"color\":\"#98df8a\",\"size\":10,\"symbol\":\"square\"},\"mode\":\"markers\",\"showlegend\":false,\"x\":[],\"y\":[],\"type\":\"scatter\"},{\"legendgroup\":\"tioga\",\"marker\":{\"color\":\"#98df8a\",\"size\":10,\"symbol\":\"diamond\"},\"mode\":\"markers\",\"showlegend\":false,\"x\":[],\"y\":[],\"type\":\"scatter\"},{\"legendgroup\":\"tioga\",\"marker\":{\"color\":\"#98df8a\",\"size\":10,\"symbol\":\"cross\"},\"mode\":\"markers\",\"showlegend\":false,\"x\":[],\"y\":[],\"type\":\"scatter\"},{\"legendgroup\":\"tioga\",\"marker\":{\"color\":\"#98df8a\",\"size\":10,\"symbol\":\"x\"},\"mode\":\"markers\",\"showlegend\":false,\"x\":[],\"y\":[],\"type\":\"scatter\"},{\"legendgroup\":\"tioga\",\"marker\":{\"color\":\"#98df8a\",\"size\":10,\"symbol\":\"triangle-up\"},\"mode\":\"markers\",\"showlegend\":false,\"x\":[],\"y\":[],\"type\":\"scatter\"},{\"legendgroup\":\"tioga\",\"marker\":{\"color\":\"#98df8a\",\"size\":10,\"symbol\":\"triangle-down\"},\"mode\":\"markers\",\"showlegend\":false,\"x\":[],\"y\":[],\"type\":\"scatter\"},{\"legendgroup\":\"tioga\",\"marker\":{\"color\":\"#98df8a\",\"size\":10,\"symbol\":\"pentagon\"},\"mode\":\"markers\",\"showlegend\":false,\"x\":[],\"y\":[],\"type\":\"scatter\"},{\"legendgroup\":\"ec2-p3\",\"marker\":{\"color\":\"#ff9896\",\"size\":10,\"symbol\":\"circle\"},\"mode\":\"markers\",\"showlegend\":false,\"x\":[],\"y\":[],\"type\":\"scatter\"},{\"legendgroup\":\"ec2-p3\",\"marker\":{\"color\":\"#ff9896\",\"size\":10,\"symbol\":\"square\"},\"mode\":\"markers\",\"showlegend\":false,\"x\":[-6.41529655456543],\"y\":[-7.3562517166137695],\"type\":\"scatter\"},{\"legendgroup\":\"ec2-p3\",\"marker\":{\"color\":\"#ff9896\",\"size\":10,\"symbol\":\"diamond\"},\"mode\":\"markers\",\"showlegend\":false,\"x\":[],\"y\":[],\"type\":\"scatter\"},{\"legendgroup\":\"ec2-p3\",\"marker\":{\"color\":\"#ff9896\",\"size\":10,\"symbol\":\"cross\"},\"mode\":\"markers\",\"showlegend\":false,\"x\":[],\"y\":[],\"type\":\"scatter\"},{\"legendgroup\":\"ec2-p3\",\"marker\":{\"color\":\"#ff9896\",\"size\":10,\"symbol\":\"x\"},\"mode\":\"markers\",\"showlegend\":false,\"x\":[],\"y\":[],\"type\":\"scatter\"},{\"legendgroup\":\"ec2-p3\",\"marker\":{\"color\":\"#ff9896\",\"size\":10,\"symbol\":\"triangle-up\"},\"mode\":\"markers\",\"showlegend\":false,\"x\":[],\"y\":[],\"type\":\"scatter\"},{\"legendgroup\":\"ec2-p3\",\"marker\":{\"color\":\"#ff9896\",\"size\":10,\"symbol\":\"triangle-down\"},\"mode\":\"markers\",\"showlegend\":false,\"x\":[],\"y\":[],\"type\":\"scatter\"},{\"legendgroup\":\"ec2-p3\",\"marker\":{\"color\":\"#ff9896\",\"size\":10,\"symbol\":\"pentagon\"},\"mode\":\"markers\",\"showlegend\":false,\"x\":[],\"y\":[],\"type\":\"scatter\"},{\"legendgroup\":\"ec2-p4d\",\"marker\":{\"color\":\"#c5b0d5\",\"size\":10,\"symbol\":\"circle\"},\"mode\":\"markers\",\"showlegend\":false,\"x\":[],\"y\":[],\"type\":\"scatter\"},{\"legendgroup\":\"ec2-p4d\",\"marker\":{\"color\":\"#c5b0d5\",\"size\":10,\"symbol\":\"square\"},\"mode\":\"markers\",\"showlegend\":false,\"x\":[],\"y\":[],\"type\":\"scatter\"},{\"legendgroup\":\"ec2-p4d\",\"marker\":{\"color\":\"#c5b0d5\",\"size\":10,\"symbol\":\"diamond\"},\"mode\":\"markers\",\"showlegend\":false,\"x\":[-5.756850242614746],\"y\":[-7.774126052856445],\"type\":\"scatter\"},{\"legendgroup\":\"ec2-p4d\",\"marker\":{\"color\":\"#c5b0d5\",\"size\":10,\"symbol\":\"cross\"},\"mode\":\"markers\",\"showlegend\":false,\"x\":[],\"y\":[],\"type\":\"scatter\"},{\"legendgroup\":\"ec2-p4d\",\"marker\":{\"color\":\"#c5b0d5\",\"size\":10,\"symbol\":\"x\"},\"mode\":\"markers\",\"showlegend\":false,\"x\":[],\"y\":[],\"type\":\"scatter\"},{\"legendgroup\":\"ec2-p4d\",\"marker\":{\"color\":\"#c5b0d5\",\"size\":10,\"symbol\":\"triangle-up\"},\"mode\":\"markers\",\"showlegend\":false,\"x\":[],\"y\":[],\"type\":\"scatter\"},{\"legendgroup\":\"ec2-p4d\",\"marker\":{\"color\":\"#c5b0d5\",\"size\":10,\"symbol\":\"triangle-down\"},\"mode\":\"markers\",\"showlegend\":false,\"x\":[],\"y\":[],\"type\":\"scatter\"},{\"legendgroup\":\"ec2-p4d\",\"marker\":{\"color\":\"#c5b0d5\",\"size\":10,\"symbol\":\"pentagon\"},\"mode\":\"markers\",\"showlegend\":false,\"x\":[],\"y\":[],\"type\":\"scatter\"}],                        {\"template\":{\"data\":{\"histogram2dcontour\":[{\"type\":\"histogram2dcontour\",\"colorbar\":{\"outlinewidth\":0,\"ticks\":\"\"},\"colorscale\":[[0.0,\"#0d0887\"],[0.1111111111111111,\"#46039f\"],[0.2222222222222222,\"#7201a8\"],[0.3333333333333333,\"#9c179e\"],[0.4444444444444444,\"#bd3786\"],[0.5555555555555556,\"#d8576b\"],[0.6666666666666666,\"#ed7953\"],[0.7777777777777778,\"#fb9f3a\"],[0.8888888888888888,\"#fdca26\"],[1.0,\"#f0f921\"]]}],\"choropleth\":[{\"type\":\"choropleth\",\"colorbar\":{\"outlinewidth\":0,\"ticks\":\"\"}}],\"histogram2d\":[{\"type\":\"histogram2d\",\"colorbar\":{\"outlinewidth\":0,\"ticks\":\"\"},\"colorscale\":[[0.0,\"#0d0887\"],[0.1111111111111111,\"#46039f\"],[0.2222222222222222,\"#7201a8\"],[0.3333333333333333,\"#9c179e\"],[0.4444444444444444,\"#bd3786\"],[0.5555555555555556,\"#d8576b\"],[0.6666666666666666,\"#ed7953\"],[0.7777777777777778,\"#fb9f3a\"],[0.8888888888888888,\"#fdca26\"],[1.0,\"#f0f921\"]]}],\"heatmap\":[{\"type\":\"heatmap\",\"colorbar\":{\"outlinewidth\":0,\"ticks\":\"\"},\"colorscale\":[[0.0,\"#0d0887\"],[0.1111111111111111,\"#46039f\"],[0.2222222222222222,\"#7201a8\"],[0.3333333333333333,\"#9c179e\"],[0.4444444444444444,\"#bd3786\"],[0.5555555555555556,\"#d8576b\"],[0.6666666666666666,\"#ed7953\"],[0.7777777777777778,\"#fb9f3a\"],[0.8888888888888888,\"#fdca26\"],[1.0,\"#f0f921\"]]}],\"heatmapgl\":[{\"type\":\"heatmapgl\",\"colorbar\":{\"outlinewidth\":0,\"ticks\":\"\"},\"colorscale\":[[0.0,\"#0d0887\"],[0.1111111111111111,\"#46039f\"],[0.2222222222222222,\"#7201a8\"],[0.3333333333333333,\"#9c179e\"],[0.4444444444444444,\"#bd3786\"],[0.5555555555555556,\"#d8576b\"],[0.6666666666666666,\"#ed7953\"],[0.7777777777777778,\"#fb9f3a\"],[0.8888888888888888,\"#fdca26\"],[1.0,\"#f0f921\"]]}],\"contourcarpet\":[{\"type\":\"contourcarpet\",\"colorbar\":{\"outlinewidth\":0,\"ticks\":\"\"}}],\"contour\":[{\"type\":\"contour\",\"colorbar\":{\"outlinewidth\":0,\"ticks\":\"\"},\"colorscale\":[[0.0,\"#0d0887\"],[0.1111111111111111,\"#46039f\"],[0.2222222222222222,\"#7201a8\"],[0.3333333333333333,\"#9c179e\"],[0.4444444444444444,\"#bd3786\"],[0.5555555555555556,\"#d8576b\"],[0.6666666666666666,\"#ed7953\"],[0.7777777777777778,\"#fb9f3a\"],[0.8888888888888888,\"#fdca26\"],[1.0,\"#f0f921\"]]}],\"surface\":[{\"type\":\"surface\",\"colorbar\":{\"outlinewidth\":0,\"ticks\":\"\"},\"colorscale\":[[0.0,\"#0d0887\"],[0.1111111111111111,\"#46039f\"],[0.2222222222222222,\"#7201a8\"],[0.3333333333333333,\"#9c179e\"],[0.4444444444444444,\"#bd3786\"],[0.5555555555555556,\"#d8576b\"],[0.6666666666666666,\"#ed7953\"],[0.7777777777777778,\"#fb9f3a\"],[0.8888888888888888,\"#fdca26\"],[1.0,\"#f0f921\"]]}],\"mesh3d\":[{\"type\":\"mesh3d\",\"colorbar\":{\"outlinewidth\":0,\"ticks\":\"\"}}],\"scatter\":[{\"fillpattern\":{\"fillmode\":\"overlay\",\"size\":10,\"solidity\":0.2},\"type\":\"scatter\"}],\"parcoords\":[{\"type\":\"parcoords\",\"line\":{\"colorbar\":{\"outlinewidth\":0,\"ticks\":\"\"}}}],\"scatterpolargl\":[{\"type\":\"scatterpolargl\",\"marker\":{\"colorbar\":{\"outlinewidth\":0,\"ticks\":\"\"}}}],\"bar\":[{\"error_x\":{\"color\":\"#2a3f5f\"},\"error_y\":{\"color\":\"#2a3f5f\"},\"marker\":{\"line\":{\"color\":\"#E5ECF6\",\"width\":0.5},\"pattern\":{\"fillmode\":\"overlay\",\"size\":10,\"solidity\":0.2}},\"type\":\"bar\"}],\"scattergeo\":[{\"type\":\"scattergeo\",\"marker\":{\"colorbar\":{\"outlinewidth\":0,\"ticks\":\"\"}}}],\"scatterpolar\":[{\"type\":\"scatterpolar\",\"marker\":{\"colorbar\":{\"outlinewidth\":0,\"ticks\":\"\"}}}],\"histogram\":[{\"marker\":{\"pattern\":{\"fillmode\":\"overlay\",\"size\":10,\"solidity\":0.2}},\"type\":\"histogram\"}],\"scattergl\":[{\"type\":\"scattergl\",\"marker\":{\"colorbar\":{\"outlinewidth\":0,\"ticks\":\"\"}}}],\"scatter3d\":[{\"type\":\"scatter3d\",\"line\":{\"colorbar\":{\"outlinewidth\":0,\"ticks\":\"\"}},\"marker\":{\"colorbar\":{\"outlinewidth\":0,\"ticks\":\"\"}}}],\"scattermapbox\":[{\"type\":\"scattermapbox\",\"marker\":{\"colorbar\":{\"outlinewidth\":0,\"ticks\":\"\"}}}],\"scatterternary\":[{\"type\":\"scatterternary\",\"marker\":{\"colorbar\":{\"outlinewidth\":0,\"ticks\":\"\"}}}],\"scattercarpet\":[{\"type\":\"scattercarpet\",\"marker\":{\"colorbar\":{\"outlinewidth\":0,\"ticks\":\"\"}}}],\"carpet\":[{\"aaxis\":{\"endlinecolor\":\"#2a3f5f\",\"gridcolor\":\"white\",\"linecolor\":\"white\",\"minorgridcolor\":\"white\",\"startlinecolor\":\"#2a3f5f\"},\"baxis\":{\"endlinecolor\":\"#2a3f5f\",\"gridcolor\":\"white\",\"linecolor\":\"white\",\"minorgridcolor\":\"white\",\"startlinecolor\":\"#2a3f5f\"},\"type\":\"carpet\"}],\"table\":[{\"cells\":{\"fill\":{\"color\":\"#EBF0F8\"},\"line\":{\"color\":\"white\"}},\"header\":{\"fill\":{\"color\":\"#C8D4E3\"},\"line\":{\"color\":\"white\"}},\"type\":\"table\"}],\"barpolar\":[{\"marker\":{\"line\":{\"color\":\"#E5ECF6\",\"width\":0.5},\"pattern\":{\"fillmode\":\"overlay\",\"size\":10,\"solidity\":0.2}},\"type\":\"barpolar\"}],\"pie\":[{\"automargin\":true,\"type\":\"pie\"}]},\"layout\":{\"autotypenumbers\":\"strict\",\"colorway\":[\"#636efa\",\"#EF553B\",\"#00cc96\",\"#ab63fa\",\"#FFA15A\",\"#19d3f3\",\"#FF6692\",\"#B6E880\",\"#FF97FF\",\"#FECB52\"],\"font\":{\"color\":\"#2a3f5f\"},\"hovermode\":\"closest\",\"hoverlabel\":{\"align\":\"left\"},\"paper_bgcolor\":\"white\",\"plot_bgcolor\":\"#E5ECF6\",\"polar\":{\"bgcolor\":\"#E5ECF6\",\"angularaxis\":{\"gridcolor\":\"white\",\"linecolor\":\"white\",\"ticks\":\"\"},\"radialaxis\":{\"gridcolor\":\"white\",\"linecolor\":\"white\",\"ticks\":\"\"}},\"ternary\":{\"bgcolor\":\"#E5ECF6\",\"aaxis\":{\"gridcolor\":\"white\",\"linecolor\":\"white\",\"ticks\":\"\"},\"baxis\":{\"gridcolor\":\"white\",\"linecolor\":\"white\",\"ticks\":\"\"},\"caxis\":{\"gridcolor\":\"white\",\"linecolor\":\"white\",\"ticks\":\"\"}},\"coloraxis\":{\"colorbar\":{\"outlinewidth\":0,\"ticks\":\"\"}},\"colorscale\":{\"sequential\":[[0.0,\"#0d0887\"],[0.1111111111111111,\"#46039f\"],[0.2222222222222222,\"#7201a8\"],[0.3333333333333333,\"#9c179e\"],[0.4444444444444444,\"#bd3786\"],[0.5555555555555556,\"#d8576b\"],[0.6666666666666666,\"#ed7953\"],[0.7777777777777778,\"#fb9f3a\"],[0.8888888888888888,\"#fdca26\"],[1.0,\"#f0f921\"]],\"sequentialminus\":[[0.0,\"#0d0887\"],[0.1111111111111111,\"#46039f\"],[0.2222222222222222,\"#7201a8\"],[0.3333333333333333,\"#9c179e\"],[0.4444444444444444,\"#bd3786\"],[0.5555555555555556,\"#d8576b\"],[0.6666666666666666,\"#ed7953\"],[0.7777777777777778,\"#fb9f3a\"],[0.8888888888888888,\"#fdca26\"],[1.0,\"#f0f921\"]],\"diverging\":[[0,\"#8e0152\"],[0.1,\"#c51b7d\"],[0.2,\"#de77ae\"],[0.3,\"#f1b6da\"],[0.4,\"#fde0ef\"],[0.5,\"#f7f7f7\"],[0.6,\"#e6f5d0\"],[0.7,\"#b8e186\"],[0.8,\"#7fbc41\"],[0.9,\"#4d9221\"],[1,\"#276419\"]]},\"xaxis\":{\"gridcolor\":\"white\",\"linecolor\":\"white\",\"ticks\":\"\",\"title\":{\"standoff\":15},\"zerolinecolor\":\"white\",\"automargin\":true,\"zerolinewidth\":2},\"yaxis\":{\"gridcolor\":\"white\",\"linecolor\":\"white\",\"ticks\":\"\",\"title\":{\"standoff\":15},\"zerolinecolor\":\"white\",\"automargin\":true,\"zerolinewidth\":2},\"scene\":{\"xaxis\":{\"backgroundcolor\":\"#E5ECF6\",\"gridcolor\":\"white\",\"linecolor\":\"white\",\"showbackground\":true,\"ticks\":\"\",\"zerolinecolor\":\"white\",\"gridwidth\":2},\"yaxis\":{\"backgroundcolor\":\"#E5ECF6\",\"gridcolor\":\"white\",\"linecolor\":\"white\",\"showbackground\":true,\"ticks\":\"\",\"zerolinecolor\":\"white\",\"gridwidth\":2},\"zaxis\":{\"backgroundcolor\":\"#E5ECF6\",\"gridcolor\":\"white\",\"linecolor\":\"white\",\"showbackground\":true,\"ticks\":\"\",\"zerolinecolor\":\"white\",\"gridwidth\":2}},\"shapedefaults\":{\"line\":{\"color\":\"#2a3f5f\"}},\"annotationdefaults\":{\"arrowcolor\":\"#2a3f5f\",\"arrowhead\":0,\"arrowwidth\":1},\"geo\":{\"bgcolor\":\"white\",\"landcolor\":\"#E5ECF6\",\"subunitcolor\":\"white\",\"showland\":true,\"showlakes\":true,\"lakecolor\":\"white\"},\"title\":{\"x\":0.05},\"mapbox\":{\"style\":\"light\"}}},\"title\":{\"font\":{\"size\":16},\"y\":0.01,\"x\":0.5,\"xanchor\":\"center\",\"yanchor\":\"bottom\"},\"xaxis\":{\"title\":{\"text\":\"t-SNE feature 1\",\"font\":{\"size\":20}},\"tickfont\":{\"size\":18}},\"yaxis\":{\"title\":{\"text\":\"t-SNE feature 2\",\"font\":{\"size\":20}},\"tickfont\":{\"size\":18}},\"legend\":{\"orientation\":\"h\",\"yanchor\":\"bottom\",\"y\":1.15,\"xanchor\":\"center\",\"x\":0.5,\"traceorder\":\"normal\"},\"margin\":{\"t\":0,\"b\":0,\"l\":0,\"r\":0},\"plot_bgcolor\":\"white\",\"paper_bgcolor\":\"white\",\"shapes\":[{\"line\":{\"color\":\"black\",\"width\":2},\"type\":\"line\",\"x0\":-7.065296649932861,\"x1\":13.5311918258667,\"y0\":-12.8,\"y1\":-12.8},{\"line\":{\"color\":\"black\",\"width\":2},\"type\":\"line\",\"x0\":-7,\"x1\":-7,\"y0\":-12.774126052856445,\"y1\":19.42453384399414}],\"width\":600,\"height\":400},                        {\"responsive\": true}                    ).then(function(){\n",
       "                            \n",
       "var gd = document.getElementById('1023e87f-b024-4869-a38b-c60b1799a8b3');\n",
       "var x = new MutationObserver(function (mutations, observer) {{\n",
       "        var display = window.getComputedStyle(gd).display;\n",
       "        if (!display || display === 'none') {{\n",
       "            console.log([gd, 'removed!']);\n",
       "            Plotly.purge(gd);\n",
       "            observer.disconnect();\n",
       "        }}\n",
       "}});\n",
       "\n",
       "// Listen for the removal of the full notebook cells\n",
       "var notebookContainer = gd.closest('#notebook-container');\n",
       "if (notebookContainer) {{\n",
       "    x.observe(notebookContainer, {childList: true});\n",
       "}}\n",
       "\n",
       "// Listen for the clearing of the current output cell\n",
       "var outputEl = gd.closest('.output');\n",
       "if (outputEl) {{\n",
       "    x.observe(outputEl, {childList: true});\n",
       "}}\n",
       "\n",
       "                        })                };                });            </script>        </div>"
      ]
     },
     "metadata": {},
     "output_type": "display_data"
    }
   ],
   "source": [
    "import pandas as pd\n",
    "from sklearn.manifold import TSNE\n",
    "import plotly.graph_objects as go\n",
    "import plotly.express as px\n",
    "from sklearn.preprocessing import MinMaxScaler\n",
    "import plotly.io as pio\n",
    "import sys\n",
    "\n",
    "# Check for necessary modules and install if missing\n",
    "try:\n",
    "    import kaleido\n",
    "except ImportError:\n",
    "    import subprocess\n",
    "    subprocess.check_call([sys.executable, '-m', 'pip', 'install', 'kaleido'])\n",
    "\n",
    "# Load the CSV file\n",
    "df = pd.read_csv('machine_embeddings_from_autoencoder.csv')\n",
    "\n",
    "# Replace NaN values with the mean of their respective columns\n",
    "df.iloc[:, 1:] = df.iloc[:, 1:].fillna(df.iloc[:, 1:].mean())\n",
    "\n",
    "scaler = MinMaxScaler()\n",
    "df['core'] = scaler.fit_transform(df[['core']])\n",
    "\n",
    "# Assuming the first column contains the labels\n",
    "labels = df.iloc[:, 0]\n",
    "features = df.iloc[:, 1:]\n",
    "\n",
    "# Simulate a sample_type column for demonstration purposes\n",
    "df['sample_type'] = ['Sample ' + str(i % 8 + 1) for i in range(len(df))]\n",
    "\n",
    "# Apply t-SNE\n",
    "tsne = TSNE(n_components=2,\n",
    "            perplexity=15,\n",
    "            early_exaggeration=1,\n",
    "            learning_rate='auto',\n",
    "            n_iter=10000,\n",
    "            random_state=42)\n",
    "tsne_results = tsne.fit_transform(features)\n",
    "\n",
    "# Add the t-SNE results to the dataframe\n",
    "df['tsne-2d-one'] = tsne_results[:, 0]\n",
    "df['tsne-2d-two'] = tsne_results[:, 1]\n",
    "\n",
    "# Available marker symbols for the sample types\n",
    "marker_symbols = [\n",
    "    'circle', 'square', 'diamond', 'cross', 'x',\n",
    "    'triangle-up', 'triangle-down', 'pentagon'\n",
    "]\n",
    "\n",
    "# Choose a single new marker symbol for all machine types\n",
    "machine_marker_symbol = 'hexagon'\n",
    "\n",
    "# Determine the unique sample types and labels present\n",
    "sample_types = df['sample_type'].unique()\n",
    "unique_labels = df['machine'].unique()\n",
    "\n",
    "# Assign colors to each unique label\n",
    "# colors = px.colors.qualitative.Plotly\n",
    "colors = [\n",
    "    \"#1f77b4\", \"#ff7f0e\", \"#2ca02c\", \"#d62728\", \"#9467bd\",\n",
    "    \"#8c564b\", \"#e377c2\", \"#7f7f7f\", \"#bcbd22\", \"#17becf\",\n",
    "    \"#aec7e8\", \"#ffbb78\", \"#98df8a\", \"#ff9896\", \"#c5b0d5\"\n",
    "]\n",
    "color_map = {label: colors[i % len(colors)] for i, label in enumerate(unique_labels)}\n",
    "\n",
    "# Assign a marker to each sample type\n",
    "marker_map = {sample_type: marker_symbols[i % len(marker_symbols)] for i, sample_type in enumerate(sample_types)}\n",
    "\n",
    "fig = go.Figure()\n",
    "\n",
    "# Add traces for sample markers\n",
    "# for i, sample_type in enumerate(sample_types):\n",
    "#     fig.add_trace(go.Scatter(\n",
    "#         x=[None],\n",
    "#         y=[None],\n",
    "#         mode='markers',\n",
    "#         marker=dict(\n",
    "#             symbol=marker_symbols[i % len(marker_symbols)],\n",
    "#             size=10,\n",
    "#             color='white',\n",
    "#             line=dict(color='black', width=2)\n",
    "#         ),\n",
    "#         name=f\"Marker for {sample_type}\",\n",
    "#         legendgroup=\"SampleMarker\",\n",
    "#         showlegend=True\n",
    "#     ))\n",
    "\n",
    "# Iterate over each label and sample type to add traces\n",
    "for label in unique_labels:\n",
    "    df_label = df[df['machine'] == label]\n",
    "    for sample_type in sample_types:\n",
    "        df_subset = df_label[df_label['sample_type'] == sample_type]\n",
    "\n",
    "        # Add trace to the figure\n",
    "        fig.add_trace(go.Scatter(\n",
    "            x=df_subset['tsne-2d-one'],\n",
    "            y=df_subset['tsne-2d-two'],\n",
    "            mode='markers',\n",
    "            marker=dict(\n",
    "                symbol=marker_map[sample_type],\n",
    "                size=10,\n",
    "                color=color_map[label]\n",
    "            ),\n",
    "            name=None,\n",
    "            legendgroup=label,\n",
    "            showlegend=False\n",
    "        ))\n",
    "\n",
    "# Add traces for machine markers\n",
    "# for label in unique_labels:\n",
    "#     fig.add_trace(go.Scatter(\n",
    "#         x=[None],\n",
    "#         y=[None],\n",
    "#         mode='markers',\n",
    "#         marker=dict(\n",
    "#             symbol=machine_marker_symbol,\n",
    "#             size=10,\n",
    "#             color=color_map[label]\n",
    "#         ),\n",
    "#         name=label,\n",
    "#         legendgroup=\"Machine\",\n",
    "#         showlegend=True\n",
    "#     ))\n",
    "\n",
    "# Add a dummy trace to create a line break in the legend\n",
    "# fig.add_trace(go.Scatter(\n",
    "#     x=[None],\n",
    "#     y=[None],\n",
    "#     mode='markers',\n",
    "#     marker=dict(size=0),\n",
    "#     name=' ' * 40,  # Add spaces for visual separation\n",
    "#     showlegend=True\n",
    "# ))\n",
    "\n",
    "# Update layout to have separate columns for samples and machines in the legend\n",
    "fig.update_layout(\n",
    "    title={\n",
    "        # 'text': 't-SNE Visualization of Machine Datasets',\n",
    "        'y': 0.01,\n",
    "        'x': 0.5,\n",
    "        'xanchor': 'center',\n",
    "        'yanchor': 'bottom',\n",
    "        'font': {'size': 16}\n",
    "    },\n",
    "    xaxis=dict(\n",
    "        title='t-SNE feature 1',\n",
    "        titlefont=dict(size=20),  # Adjust axis title font size\n",
    "        tickfont=dict(size=18),   # Adjust tick label font size\n",
    "    ),\n",
    "    yaxis=dict(\n",
    "        title='t-SNE feature 2',\n",
    "        titlefont=dict(size=20),  # Adjust axis title font size\n",
    "        tickfont=dict(size=18),   # Adjust tick label font size\n",
    "    ),\n",
    "    plot_bgcolor='white',\n",
    "    paper_bgcolor='white',\n",
    "    shapes=[\n",
    "        # Line Horizontal\n",
    "        dict(\n",
    "            type='line',\n",
    "            x0=min(tsne_results[:, 0]-0.65),\n",
    "            y0=-12.8,\n",
    "            x1=max(tsne_results[:, 0]+1.2),\n",
    "            y1=-12.8,\n",
    "            line=dict(\n",
    "                color='black',\n",
    "                width=2\n",
    "            )\n",
    "        ),\n",
    "        # Line Vertical\n",
    "        dict(\n",
    "            type='line',\n",
    "            x0=-7,\n",
    "            y0=min(tsne_results[:, 1]-5),\n",
    "            x1=-7,\n",
    "            y1=max(tsne_results[:, 1]+3),\n",
    "            line=dict(\n",
    "                color='black',\n",
    "                width=2\n",
    "            )\n",
    "        )\n",
    "    ],\n",
    "    legend=dict(\n",
    "        orientation=\"h\",\n",
    "        yanchor=\"bottom\",\n",
    "        y=1.15,\n",
    "        xanchor=\"center\",\n",
    "        x=0.5,\n",
    "        traceorder=\"normal\"\n",
    "    ),\n",
    "    margin=dict(t=150, b=150),\n",
    "    width=600,\n",
    "    height=400\n",
    ")\n",
    "\n",
    "# Save the figure to a PDF file\n",
    "# pio.kaleido.scope.mathjax = None\n",
    "fig.update_layout( margin=dict(l=0, r=0, t=0, b=0) )\n",
    "# pio.write_image(fig, 'tsne_visualization_10.pdf', format='pdf')\n",
    "fig.write_image(\"output_AE.pdf\", width=600, height=400, scale=1)\n",
    "\n",
    "# Display the figure\n",
    "fig.show()"
   ]
  }
 ],
 "metadata": {
  "kernelspec": {
   "display_name": "dev",
   "language": "python",
   "name": "python3"
  },
  "language_info": {
   "codemirror_mode": {
    "name": "ipython",
    "version": 3
   },
   "file_extension": ".py",
   "mimetype": "text/x-python",
   "name": "python",
   "nbconvert_exporter": "python",
   "pygments_lexer": "ipython3",
   "version": "3.9.12"
  }
 },
 "nbformat": 4,
 "nbformat_minor": 2
}
