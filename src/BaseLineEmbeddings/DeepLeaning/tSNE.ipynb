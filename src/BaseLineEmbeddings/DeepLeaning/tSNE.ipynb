{
 "cells": [
  {
   "cell_type": "code",
   "execution_count": 10,
   "metadata": {},
   "outputs": [
    {
     "name": "stderr",
     "output_type": "stream",
     "text": [
      "/g/g90/dhakal1/All/dev/lib/python3.9/site-packages/sklearn/manifold/_t_sne.py:1162: FutureWarning:\n",
      "\n",
      "'n_iter' was renamed to 'max_iter' in version 1.5 and will be removed in 1.7.\n",
      "\n"
     ]
    },
    {
     "data": {
      "application/vnd.plotly.v1+json": {
       "config": {
        "plotlyServerURL": "https://plot.ly"
       },
       "data": [
        {
         "legendgroup": "boraxo",
         "marker": {
          "color": "#1f77b4",
          "size": 10,
          "symbol": "circle"
         },
         "mode": "markers",
         "showlegend": false,
         "type": "scatter",
         "x": [
          -5.245901584625244
         ],
         "y": [
          2.4844491481781006
         ]
        },
        {
         "legendgroup": "boraxo",
         "marker": {
          "color": "#1f77b4",
          "size": 10,
          "symbol": "square"
         },
         "mode": "markers",
         "showlegend": false,
         "type": "scatter",
         "x": [
          -4.009116172790527
         ],
         "y": [
          2.6384201049804688
         ]
        },
        {
         "legendgroup": "boraxo",
         "marker": {
          "color": "#1f77b4",
          "size": 10,
          "symbol": "diamond"
         },
         "mode": "markers",
         "showlegend": false,
         "type": "scatter",
         "x": [
          -3.3345224857330322
         ],
         "y": [
          2.897435426712036
         ]
        },
        {
         "legendgroup": "boraxo",
         "marker": {
          "color": "#1f77b4",
          "size": 10,
          "symbol": "cross"
         },
         "mode": "markers",
         "showlegend": false,
         "type": "scatter",
         "x": [
          -3.1997320652008057,
          16.49247169494629
         ],
         "y": [
          1.8798489570617676,
          -1.9237533807754517
         ]
        },
        {
         "legendgroup": "boraxo",
         "marker": {
          "color": "#1f77b4",
          "size": 10,
          "symbol": "x"
         },
         "mode": "markers",
         "showlegend": false,
         "type": "scatter",
         "x": [
          -2.651315450668335
         ],
         "y": [
          2.116569757461548
         ]
        },
        {
         "legendgroup": "boraxo",
         "marker": {
          "color": "#1f77b4",
          "size": 10,
          "symbol": "triangle-up"
         },
         "mode": "markers",
         "showlegend": false,
         "type": "scatter",
         "x": [
          3.6390159130096436
         ],
         "y": [
          -1.291516661643982
         ]
        },
        {
         "legendgroup": "boraxo",
         "marker": {
          "color": "#1f77b4",
          "size": 10,
          "symbol": "triangle-down"
         },
         "mode": "markers",
         "showlegend": false,
         "type": "scatter",
         "x": [
          8.58973217010498
         ],
         "y": [
          -2.5302019119262695
         ]
        },
        {
         "legendgroup": "boraxo",
         "marker": {
          "color": "#1f77b4",
          "size": 10,
          "symbol": "pentagon"
         },
         "mode": "markers",
         "showlegend": false,
         "type": "scatter",
         "x": [],
         "y": []
        },
        {
         "legendgroup": "catalyst",
         "marker": {
          "color": "#ff7f0e",
          "size": 10,
          "symbol": "circle"
         },
         "mode": "markers",
         "showlegend": false,
         "type": "scatter",
         "x": [
          4.9133992195129395
         ],
         "y": [
          3.586111068725586
         ]
        },
        {
         "legendgroup": "catalyst",
         "marker": {
          "color": "#ff7f0e",
          "size": 10,
          "symbol": "square"
         },
         "mode": "markers",
         "showlegend": false,
         "type": "scatter",
         "x": [
          6.014705181121826
         ],
         "y": [
          2.5206987857818604
         ]
        },
        {
         "legendgroup": "catalyst",
         "marker": {
          "color": "#ff7f0e",
          "size": 10,
          "symbol": "diamond"
         },
         "mode": "markers",
         "showlegend": false,
         "type": "scatter",
         "x": [
          4.829888343811035
         ],
         "y": [
          3.2080674171447754
         ]
        },
        {
         "legendgroup": "catalyst",
         "marker": {
          "color": "#ff7f0e",
          "size": 10,
          "symbol": "cross"
         },
         "mode": "markers",
         "showlegend": false,
         "type": "scatter",
         "x": [
          6.352998733520508
         ],
         "y": [
          1.9943004846572876
         ]
        },
        {
         "legendgroup": "catalyst",
         "marker": {
          "color": "#ff7f0e",
          "size": 10,
          "symbol": "x"
         },
         "mode": "markers",
         "showlegend": false,
         "type": "scatter",
         "x": [
          9.400162696838379,
          16.777660369873047
         ],
         "y": [
          -0.010026555508375168,
          0.4012359380722046
         ]
        },
        {
         "legendgroup": "catalyst",
         "marker": {
          "color": "#ff7f0e",
          "size": 10,
          "symbol": "triangle-up"
         },
         "mode": "markers",
         "showlegend": false,
         "type": "scatter",
         "x": [],
         "y": []
        },
        {
         "legendgroup": "catalyst",
         "marker": {
          "color": "#ff7f0e",
          "size": 10,
          "symbol": "triangle-down"
         },
         "mode": "markers",
         "showlegend": false,
         "type": "scatter",
         "x": [],
         "y": []
        },
        {
         "legendgroup": "catalyst",
         "marker": {
          "color": "#ff7f0e",
          "size": 10,
          "symbol": "pentagon"
         },
         "mode": "markers",
         "showlegend": false,
         "type": "scatter",
         "x": [
          3.9238178730010986
         ],
         "y": [
          4.141572952270508
         ]
        },
        {
         "legendgroup": "quartz",
         "marker": {
          "color": "#2ca02c",
          "size": 10,
          "symbol": "circle"
         },
         "mode": "markers",
         "showlegend": false,
         "type": "scatter",
         "x": [
          -1.0706833600997925
         ],
         "y": [
          3.980517864227295
         ]
        },
        {
         "legendgroup": "quartz",
         "marker": {
          "color": "#2ca02c",
          "size": 10,
          "symbol": "square"
         },
         "mode": "markers",
         "showlegend": false,
         "type": "scatter",
         "x": [
          -0.33554384112358093
         ],
         "y": [
          3.9678618907928467
         ]
        },
        {
         "legendgroup": "quartz",
         "marker": {
          "color": "#2ca02c",
          "size": 10,
          "symbol": "diamond"
         },
         "mode": "markers",
         "showlegend": false,
         "type": "scatter",
         "x": [
          4.371364116668701
         ],
         "y": [
          -1.7324625253677368
         ]
        },
        {
         "legendgroup": "quartz",
         "marker": {
          "color": "#2ca02c",
          "size": 10,
          "symbol": "cross"
         },
         "mode": "markers",
         "showlegend": false,
         "type": "scatter",
         "x": [
          8.346407890319824
         ],
         "y": [
          -1.4758110046386719
         ]
        },
        {
         "legendgroup": "quartz",
         "marker": {
          "color": "#2ca02c",
          "size": 10,
          "symbol": "x"
         },
         "mode": "markers",
         "showlegend": false,
         "type": "scatter",
         "x": [],
         "y": []
        },
        {
         "legendgroup": "quartz",
         "marker": {
          "color": "#2ca02c",
          "size": 10,
          "symbol": "triangle-up"
         },
         "mode": "markers",
         "showlegend": false,
         "type": "scatter",
         "x": [
          -2.249659776687622,
          16.309988021850586
         ],
         "y": [
          5.4936676025390625,
          -0.9717946648597717
         ]
        },
        {
         "legendgroup": "quartz",
         "marker": {
          "color": "#2ca02c",
          "size": 10,
          "symbol": "triangle-down"
         },
         "mode": "markers",
         "showlegend": false,
         "type": "scatter",
         "x": [
          -1.3519647121429443
         ],
         "y": [
          4.8490071296691895
         ]
        },
        {
         "legendgroup": "quartz",
         "marker": {
          "color": "#2ca02c",
          "size": 10,
          "symbol": "pentagon"
         },
         "mode": "markers",
         "showlegend": false,
         "type": "scatter",
         "x": [
          -0.539574384689331
         ],
         "y": [
          4.872120380401611
         ]
        },
        {
         "legendgroup": "ruby",
         "marker": {
          "color": "#d62728",
          "size": 10,
          "symbol": "circle"
         },
         "mode": "markers",
         "showlegend": false,
         "type": "scatter",
         "x": [
          -1.8745564222335815
         ],
         "y": [
          -2.126014471054077
         ]
        },
        {
         "legendgroup": "ruby",
         "marker": {
          "color": "#d62728",
          "size": 10,
          "symbol": "square"
         },
         "mode": "markers",
         "showlegend": false,
         "type": "scatter",
         "x": [
          0.09079188853502274
         ],
         "y": [
          -2.0060155391693115
         ]
        },
        {
         "legendgroup": "ruby",
         "marker": {
          "color": "#d62728",
          "size": 10,
          "symbol": "diamond"
         },
         "mode": "markers",
         "showlegend": false,
         "type": "scatter",
         "x": [
          6.0319085121154785
         ],
         "y": [
          -2.437197208404541
         ]
        },
        {
         "legendgroup": "ruby",
         "marker": {
          "color": "#d62728",
          "size": 10,
          "symbol": "cross"
         },
         "mode": "markers",
         "showlegend": false,
         "type": "scatter",
         "x": [],
         "y": []
        },
        {
         "legendgroup": "ruby",
         "marker": {
          "color": "#d62728",
          "size": 10,
          "symbol": "x"
         },
         "mode": "markers",
         "showlegend": false,
         "type": "scatter",
         "x": [
          -10.007560729980469
         ],
         "y": [
          1.3765071630477905
         ]
        },
        {
         "legendgroup": "ruby",
         "marker": {
          "color": "#d62728",
          "size": 10,
          "symbol": "triangle-up"
         },
         "mode": "markers",
         "showlegend": false,
         "type": "scatter",
         "x": [
          -3.4465160369873047
         ],
         "y": [
          -1.4520446062088013
         ]
        },
        {
         "legendgroup": "ruby",
         "marker": {
          "color": "#d62728",
          "size": 10,
          "symbol": "triangle-down"
         },
         "mode": "markers",
         "showlegend": false,
         "type": "scatter",
         "x": [
          -2.507214069366455,
          15.08426284790039
         ],
         "y": [
          -1.5716217756271362,
          -2.068114995956421
         ]
        },
        {
         "legendgroup": "ruby",
         "marker": {
          "color": "#d62728",
          "size": 10,
          "symbol": "pentagon"
         },
         "mode": "markers",
         "showlegend": false,
         "type": "scatter",
         "x": [
          -3.111781358718872
         ],
         "y": [
          -2.24849271774292
         ]
        },
        {
         "legendgroup": "mammoth",
         "marker": {
          "color": "#9467bd",
          "size": 10,
          "symbol": "circle"
         },
         "mode": "markers",
         "showlegend": false,
         "type": "scatter",
         "x": [
          -0.31481021642684937
         ],
         "y": [
          2.358534812927246
         ]
        },
        {
         "legendgroup": "mammoth",
         "marker": {
          "color": "#9467bd",
          "size": 10,
          "symbol": "square"
         },
         "mode": "markers",
         "showlegend": false,
         "type": "scatter",
         "x": [
          7.29041051864624
         ],
         "y": [
          -0.8647562861442566
         ]
        },
        {
         "legendgroup": "mammoth",
         "marker": {
          "color": "#9467bd",
          "size": 10,
          "symbol": "diamond"
         },
         "mode": "markers",
         "showlegend": false,
         "type": "scatter",
         "x": [],
         "y": []
        },
        {
         "legendgroup": "mammoth",
         "marker": {
          "color": "#9467bd",
          "size": 10,
          "symbol": "cross"
         },
         "mode": "markers",
         "showlegend": false,
         "type": "scatter",
         "x": [
          -10.182679176330566
         ],
         "y": [
          3.6510818004608154
         ]
        },
        {
         "legendgroup": "mammoth",
         "marker": {
          "color": "#9467bd",
          "size": 10,
          "symbol": "x"
         },
         "mode": "markers",
         "showlegend": false,
         "type": "scatter",
         "x": [
          -8.91256332397461
         ],
         "y": [
          3.8601365089416504
         ]
        },
        {
         "legendgroup": "mammoth",
         "marker": {
          "color": "#9467bd",
          "size": 10,
          "symbol": "triangle-up"
         },
         "mode": "markers",
         "showlegend": false,
         "type": "scatter",
         "x": [
          -7.362731456756592
         ],
         "y": [
          4.416908264160156
         ]
        },
        {
         "legendgroup": "mammoth",
         "marker": {
          "color": "#9467bd",
          "size": 10,
          "symbol": "triangle-down"
         },
         "mode": "markers",
         "showlegend": false,
         "type": "scatter",
         "x": [
          -6.612237453460693
         ],
         "y": [
          4.731714248657227
         ]
        },
        {
         "legendgroup": "mammoth",
         "marker": {
          "color": "#9467bd",
          "size": 10,
          "symbol": "pentagon"
         },
         "mode": "markers",
         "showlegend": false,
         "type": "scatter",
         "x": [
          -5.854666709899902,
          14.293603897094727
         ],
         "y": [
          4.849721431732178,
          -0.8888697028160095
         ]
        },
        {
         "legendgroup": "poodle",
         "marker": {
          "color": "#8c564b",
          "size": 10,
          "symbol": "circle"
         },
         "mode": "markers",
         "showlegend": false,
         "type": "scatter",
         "x": [
          6.904194355010986,
          14.734867095947266
         ],
         "y": [
          -2.128645181655884,
          -2.65739107131958
         ]
        },
        {
         "legendgroup": "poodle",
         "marker": {
          "color": "#8c564b",
          "size": 10,
          "symbol": "square"
         },
         "mode": "markers",
         "showlegend": false,
         "type": "scatter",
         "x": [],
         "y": []
        },
        {
         "legendgroup": "poodle",
         "marker": {
          "color": "#8c564b",
          "size": 10,
          "symbol": "diamond"
         },
         "mode": "markers",
         "showlegend": false,
         "type": "scatter",
         "x": [
          -11.996618270874023
         ],
         "y": [
          0.7721585035324097
         ]
        },
        {
         "legendgroup": "poodle",
         "marker": {
          "color": "#8c564b",
          "size": 10,
          "symbol": "cross"
         },
         "mode": "markers",
         "showlegend": false,
         "type": "scatter",
         "x": [
          -8.756075859069824
         ],
         "y": [
          -0.27454161643981934
         ]
        },
        {
         "legendgroup": "poodle",
         "marker": {
          "color": "#8c564b",
          "size": 10,
          "symbol": "x"
         },
         "mode": "markers",
         "showlegend": false,
         "type": "scatter",
         "x": [
          -7.302137851715088
         ],
         "y": [
          -1.029388189315796
         ]
        },
        {
         "legendgroup": "poodle",
         "marker": {
          "color": "#8c564b",
          "size": 10,
          "symbol": "triangle-up"
         },
         "mode": "markers",
         "showlegend": false,
         "type": "scatter",
         "x": [
          -6.441239833831787
         ],
         "y": [
          -1.350477933883667
         ]
        },
        {
         "legendgroup": "poodle",
         "marker": {
          "color": "#8c564b",
          "size": 10,
          "symbol": "triangle-down"
         },
         "mode": "markers",
         "showlegend": false,
         "type": "scatter",
         "x": [
          -5.5237650871276855
         ],
         "y": [
          -1.6696141958236694
         ]
        },
        {
         "legendgroup": "poodle",
         "marker": {
          "color": "#8c564b",
          "size": 10,
          "symbol": "pentagon"
         },
         "mode": "markers",
         "showlegend": false,
         "type": "scatter",
         "x": [
          1.7441376447677612
         ],
         "y": [
          -1.9450277090072632
         ]
        },
        {
         "legendgroup": "ec2-c5n",
         "marker": {
          "color": "#e377c2",
          "size": 10,
          "symbol": "circle"
         },
         "mode": "markers",
         "showlegend": false,
         "type": "scatter",
         "x": [],
         "y": []
        },
        {
         "legendgroup": "ec2-c5n",
         "marker": {
          "color": "#e377c2",
          "size": 10,
          "symbol": "square"
         },
         "mode": "markers",
         "showlegend": false,
         "type": "scatter",
         "x": [
          -7.533494472503662,
          15.379904747009277
         ],
         "y": [
          -7.065051555633545,
          -0.880868136882782
         ]
        },
        {
         "legendgroup": "ec2-c5n",
         "marker": {
          "color": "#e377c2",
          "size": 10,
          "symbol": "diamond"
         },
         "mode": "markers",
         "showlegend": false,
         "type": "scatter",
         "x": [
          -6.4633660316467285
         ],
         "y": [
          -6.964054584503174
         ]
        },
        {
         "legendgroup": "ec2-c5n",
         "marker": {
          "color": "#e377c2",
          "size": 10,
          "symbol": "cross"
         },
         "mode": "markers",
         "showlegend": false,
         "type": "scatter",
         "x": [
          -5.854499816894531
         ],
         "y": [
          -7.400182247161865
         ]
        },
        {
         "legendgroup": "ec2-c5n",
         "marker": {
          "color": "#e377c2",
          "size": 10,
          "symbol": "x"
         },
         "mode": "markers",
         "showlegend": false,
         "type": "scatter",
         "x": [
          -5.980119705200195
         ],
         "y": [
          -6.136962890625
         ]
        },
        {
         "legendgroup": "ec2-c5n",
         "marker": {
          "color": "#e377c2",
          "size": 10,
          "symbol": "triangle-up"
         },
         "mode": "markers",
         "showlegend": false,
         "type": "scatter",
         "x": [
          -5.303936958312988
         ],
         "y": [
          -6.589493751525879
         ]
        },
        {
         "legendgroup": "ec2-c5n",
         "marker": {
          "color": "#e377c2",
          "size": 10,
          "symbol": "triangle-down"
         },
         "mode": "markers",
         "showlegend": false,
         "type": "scatter",
         "x": [
          2.6148252487182617
         ],
         "y": [
          -3.6221988201141357
         ]
        },
        {
         "legendgroup": "ec2-c5n",
         "marker": {
          "color": "#e377c2",
          "size": 10,
          "symbol": "pentagon"
         },
         "mode": "markers",
         "showlegend": false,
         "type": "scatter",
         "x": [
          7.540403366088867
         ],
         "y": [
          -3.5253114700317383
         ]
        },
        {
         "legendgroup": "ec2-c6a",
         "marker": {
          "color": "#7f7f7f",
          "size": 10,
          "symbol": "circle"
         },
         "mode": "markers",
         "showlegend": false,
         "type": "scatter",
         "x": [
          -10.852086067199707
         ],
         "y": [
          0.5009509325027466
         ]
        },
        {
         "legendgroup": "ec2-c6a",
         "marker": {
          "color": "#7f7f7f",
          "size": 10,
          "symbol": "square"
         },
         "mode": "markers",
         "showlegend": false,
         "type": "scatter",
         "x": [
          -9.72552490234375
         ],
         "y": [
          -3.538238048553467
         ]
        },
        {
         "legendgroup": "ec2-c6a",
         "marker": {
          "color": "#7f7f7f",
          "size": 10,
          "symbol": "diamond"
         },
         "mode": "markers",
         "showlegend": false,
         "type": "scatter",
         "x": [
          -9.165952682495117,
          13.152847290039062
         ],
         "y": [
          -4.36826229095459,
          -1.6683697700500488
         ]
        },
        {
         "legendgroup": "ec2-c6a",
         "marker": {
          "color": "#7f7f7f",
          "size": 10,
          "symbol": "cross"
         },
         "mode": "markers",
         "showlegend": false,
         "type": "scatter",
         "x": [
          -8.86074447631836
         ],
         "y": [
          -4.888920783996582
         ]
        },
        {
         "legendgroup": "ec2-c6a",
         "marker": {
          "color": "#7f7f7f",
          "size": 10,
          "symbol": "x"
         },
         "mode": "markers",
         "showlegend": false,
         "type": "scatter",
         "x": [
          -8.048613548278809
         ],
         "y": [
          -5.064691066741943
         ]
        },
        {
         "legendgroup": "ec2-c6a",
         "marker": {
          "color": "#7f7f7f",
          "size": 10,
          "symbol": "triangle-up"
         },
         "mode": "markers",
         "showlegend": false,
         "type": "scatter",
         "x": [
          -4.323573112487793
         ],
         "y": [
          -5.378131866455078
         ]
        },
        {
         "legendgroup": "ec2-c6a",
         "marker": {
          "color": "#7f7f7f",
          "size": 10,
          "symbol": "triangle-down"
         },
         "mode": "markers",
         "showlegend": false,
         "type": "scatter",
         "x": [
          3.7319083213806152
         ],
         "y": [
          -3.236363649368286
         ]
        },
        {
         "legendgroup": "ec2-c6a",
         "marker": {
          "color": "#7f7f7f",
          "size": 10,
          "symbol": "pentagon"
         },
         "mode": "markers",
         "showlegend": false,
         "type": "scatter",
         "x": [],
         "y": []
        },
        {
         "legendgroup": "ec2-c6i",
         "marker": {
          "color": "#bcbd22",
          "size": 10,
          "symbol": "circle"
         },
         "mode": "markers",
         "showlegend": false,
         "type": "scatter",
         "x": [
          -7.523541450500488
         ],
         "y": [
          -2.816652297973633
         ]
        },
        {
         "legendgroup": "ec2-c6i",
         "marker": {
          "color": "#bcbd22",
          "size": 10,
          "symbol": "square"
         },
         "mode": "markers",
         "showlegend": false,
         "type": "scatter",
         "x": [
          -6.948493480682373
         ],
         "y": [
          -3.12965726852417
         ]
        },
        {
         "legendgroup": "ec2-c6i",
         "marker": {
          "color": "#bcbd22",
          "size": 10,
          "symbol": "diamond"
         },
         "mode": "markers",
         "showlegend": false,
         "type": "scatter",
         "x": [
          -5.8650946617126465
         ],
         "y": [
          -3.574145793914795
         ]
        },
        {
         "legendgroup": "ec2-c6i",
         "marker": {
          "color": "#bcbd22",
          "size": 10,
          "symbol": "cross"
         },
         "mode": "markers",
         "showlegend": false,
         "type": "scatter",
         "x": [
          1.4307698011398315,
          13.995197296142578
         ],
         "y": [
          -3.593109607696533,
          -1.7672969102859497
         ]
        },
        {
         "legendgroup": "ec2-c6i",
         "marker": {
          "color": "#bcbd22",
          "size": 10,
          "symbol": "x"
         },
         "mode": "markers",
         "showlegend": false,
         "type": "scatter",
         "x": [
          6.255677700042725
         ],
         "y": [
          -3.5266900062561035
         ]
        },
        {
         "legendgroup": "ec2-c6i",
         "marker": {
          "color": "#bcbd22",
          "size": 10,
          "symbol": "triangle-up"
         },
         "mode": "markers",
         "showlegend": false,
         "type": "scatter",
         "x": [],
         "y": []
        },
        {
         "legendgroup": "ec2-c6i",
         "marker": {
          "color": "#bcbd22",
          "size": 10,
          "symbol": "triangle-down"
         },
         "mode": "markers",
         "showlegend": false,
         "type": "scatter",
         "x": [],
         "y": []
        },
        {
         "legendgroup": "ec2-c6i",
         "marker": {
          "color": "#bcbd22",
          "size": 10,
          "symbol": "pentagon"
         },
         "mode": "markers",
         "showlegend": false,
         "type": "scatter",
         "x": [
          -9.008188247680664
         ],
         "y": [
          -1.8148770332336426
         ]
        },
        {
         "legendgroup": "pascal",
         "marker": {
          "color": "#17becf",
          "size": 10,
          "symbol": "circle"
         },
         "mode": "markers",
         "showlegend": false,
         "type": "scatter",
         "x": [],
         "y": []
        },
        {
         "legendgroup": "pascal",
         "marker": {
          "color": "#17becf",
          "size": 10,
          "symbol": "square"
         },
         "mode": "markers",
         "showlegend": false,
         "type": "scatter",
         "x": [],
         "y": []
        },
        {
         "legendgroup": "pascal",
         "marker": {
          "color": "#17becf",
          "size": 10,
          "symbol": "diamond"
         },
         "mode": "markers",
         "showlegend": false,
         "type": "scatter",
         "x": [],
         "y": []
        },
        {
         "legendgroup": "pascal",
         "marker": {
          "color": "#17becf",
          "size": 10,
          "symbol": "cross"
         },
         "mode": "markers",
         "showlegend": false,
         "type": "scatter",
         "x": [],
         "y": []
        },
        {
         "legendgroup": "pascal",
         "marker": {
          "color": "#17becf",
          "size": 10,
          "symbol": "x"
         },
         "mode": "markers",
         "showlegend": false,
         "type": "scatter",
         "x": [],
         "y": []
        },
        {
         "legendgroup": "pascal",
         "marker": {
          "color": "#17becf",
          "size": 10,
          "symbol": "triangle-up"
         },
         "mode": "markers",
         "showlegend": false,
         "type": "scatter",
         "x": [
          -13.674247741699219
         ],
         "y": [
          -6.286596298217773
         ]
        },
        {
         "legendgroup": "pascal",
         "marker": {
          "color": "#17becf",
          "size": 10,
          "symbol": "triangle-down"
         },
         "mode": "markers",
         "showlegend": false,
         "type": "scatter",
         "x": [],
         "y": []
        },
        {
         "legendgroup": "pascal",
         "marker": {
          "color": "#17becf",
          "size": 10,
          "symbol": "pentagon"
         },
         "mode": "markers",
         "showlegend": false,
         "type": "scatter",
         "x": [],
         "y": []
        },
        {
         "legendgroup": "lassen",
         "marker": {
          "color": "#aec7e8",
          "size": 10,
          "symbol": "circle"
         },
         "mode": "markers",
         "showlegend": false,
         "type": "scatter",
         "x": [],
         "y": []
        },
        {
         "legendgroup": "lassen",
         "marker": {
          "color": "#aec7e8",
          "size": 10,
          "symbol": "square"
         },
         "mode": "markers",
         "showlegend": false,
         "type": "scatter",
         "x": [],
         "y": []
        },
        {
         "legendgroup": "lassen",
         "marker": {
          "color": "#aec7e8",
          "size": 10,
          "symbol": "diamond"
         },
         "mode": "markers",
         "showlegend": false,
         "type": "scatter",
         "x": [],
         "y": []
        },
        {
         "legendgroup": "lassen",
         "marker": {
          "color": "#aec7e8",
          "size": 10,
          "symbol": "cross"
         },
         "mode": "markers",
         "showlegend": false,
         "type": "scatter",
         "x": [],
         "y": []
        },
        {
         "legendgroup": "lassen",
         "marker": {
          "color": "#aec7e8",
          "size": 10,
          "symbol": "x"
         },
         "mode": "markers",
         "showlegend": false,
         "type": "scatter",
         "x": [],
         "y": []
        },
        {
         "legendgroup": "lassen",
         "marker": {
          "color": "#aec7e8",
          "size": 10,
          "symbol": "triangle-up"
         },
         "mode": "markers",
         "showlegend": false,
         "type": "scatter",
         "x": [],
         "y": []
        },
        {
         "legendgroup": "lassen",
         "marker": {
          "color": "#aec7e8",
          "size": 10,
          "symbol": "triangle-down"
         },
         "mode": "markers",
         "showlegend": false,
         "type": "scatter",
         "x": [
          -12.741264343261719
         ],
         "y": [
          -5.658505439758301
         ]
        },
        {
         "legendgroup": "lassen",
         "marker": {
          "color": "#aec7e8",
          "size": 10,
          "symbol": "pentagon"
         },
         "mode": "markers",
         "showlegend": false,
         "type": "scatter",
         "x": [],
         "y": []
        },
        {
         "legendgroup": "corona",
         "marker": {
          "color": "#ffbb78",
          "size": 10,
          "symbol": "circle"
         },
         "mode": "markers",
         "showlegend": false,
         "type": "scatter",
         "x": [],
         "y": []
        },
        {
         "legendgroup": "corona",
         "marker": {
          "color": "#ffbb78",
          "size": 10,
          "symbol": "square"
         },
         "mode": "markers",
         "showlegend": false,
         "type": "scatter",
         "x": [],
         "y": []
        },
        {
         "legendgroup": "corona",
         "marker": {
          "color": "#ffbb78",
          "size": 10,
          "symbol": "diamond"
         },
         "mode": "markers",
         "showlegend": false,
         "type": "scatter",
         "x": [],
         "y": []
        },
        {
         "legendgroup": "corona",
         "marker": {
          "color": "#ffbb78",
          "size": 10,
          "symbol": "cross"
         },
         "mode": "markers",
         "showlegend": false,
         "type": "scatter",
         "x": [],
         "y": []
        },
        {
         "legendgroup": "corona",
         "marker": {
          "color": "#ffbb78",
          "size": 10,
          "symbol": "x"
         },
         "mode": "markers",
         "showlegend": false,
         "type": "scatter",
         "x": [],
         "y": []
        },
        {
         "legendgroup": "corona",
         "marker": {
          "color": "#ffbb78",
          "size": 10,
          "symbol": "triangle-up"
         },
         "mode": "markers",
         "showlegend": false,
         "type": "scatter",
         "x": [],
         "y": []
        },
        {
         "legendgroup": "corona",
         "marker": {
          "color": "#ffbb78",
          "size": 10,
          "symbol": "triangle-down"
         },
         "mode": "markers",
         "showlegend": false,
         "type": "scatter",
         "x": [],
         "y": []
        },
        {
         "legendgroup": "corona",
         "marker": {
          "color": "#ffbb78",
          "size": 10,
          "symbol": "pentagon"
         },
         "mode": "markers",
         "showlegend": false,
         "type": "scatter",
         "x": [
          -9.540749549865723
         ],
         "y": [
          -11.564824104309082
         ]
        },
        {
         "legendgroup": "tioga",
         "marker": {
          "color": "#98df8a",
          "size": 10,
          "symbol": "circle"
         },
         "mode": "markers",
         "showlegend": false,
         "type": "scatter",
         "x": [
          -9.54633617401123
         ],
         "y": [
          -11.55999755859375
         ]
        },
        {
         "legendgroup": "tioga",
         "marker": {
          "color": "#98df8a",
          "size": 10,
          "symbol": "square"
         },
         "mode": "markers",
         "showlegend": false,
         "type": "scatter",
         "x": [],
         "y": []
        },
        {
         "legendgroup": "tioga",
         "marker": {
          "color": "#98df8a",
          "size": 10,
          "symbol": "diamond"
         },
         "mode": "markers",
         "showlegend": false,
         "type": "scatter",
         "x": [],
         "y": []
        },
        {
         "legendgroup": "tioga",
         "marker": {
          "color": "#98df8a",
          "size": 10,
          "symbol": "cross"
         },
         "mode": "markers",
         "showlegend": false,
         "type": "scatter",
         "x": [],
         "y": []
        },
        {
         "legendgroup": "tioga",
         "marker": {
          "color": "#98df8a",
          "size": 10,
          "symbol": "x"
         },
         "mode": "markers",
         "showlegend": false,
         "type": "scatter",
         "x": [],
         "y": []
        },
        {
         "legendgroup": "tioga",
         "marker": {
          "color": "#98df8a",
          "size": 10,
          "symbol": "triangle-up"
         },
         "mode": "markers",
         "showlegend": false,
         "type": "scatter",
         "x": [],
         "y": []
        },
        {
         "legendgroup": "tioga",
         "marker": {
          "color": "#98df8a",
          "size": 10,
          "symbol": "triangle-down"
         },
         "mode": "markers",
         "showlegend": false,
         "type": "scatter",
         "x": [],
         "y": []
        },
        {
         "legendgroup": "tioga",
         "marker": {
          "color": "#98df8a",
          "size": 10,
          "symbol": "pentagon"
         },
         "mode": "markers",
         "showlegend": false,
         "type": "scatter",
         "x": [],
         "y": []
        },
        {
         "legendgroup": "ec2-p3",
         "marker": {
          "color": "#ff9896",
          "size": 10,
          "symbol": "circle"
         },
         "mode": "markers",
         "showlegend": false,
         "type": "scatter",
         "x": [],
         "y": []
        },
        {
         "legendgroup": "ec2-p3",
         "marker": {
          "color": "#ff9896",
          "size": 10,
          "symbol": "square"
         },
         "mode": "markers",
         "showlegend": false,
         "type": "scatter",
         "x": [
          -12.057403564453125
         ],
         "y": [
          -5.893230438232422
         ]
        },
        {
         "legendgroup": "ec2-p3",
         "marker": {
          "color": "#ff9896",
          "size": 10,
          "symbol": "diamond"
         },
         "mode": "markers",
         "showlegend": false,
         "type": "scatter",
         "x": [],
         "y": []
        },
        {
         "legendgroup": "ec2-p3",
         "marker": {
          "color": "#ff9896",
          "size": 10,
          "symbol": "cross"
         },
         "mode": "markers",
         "showlegend": false,
         "type": "scatter",
         "x": [],
         "y": []
        },
        {
         "legendgroup": "ec2-p3",
         "marker": {
          "color": "#ff9896",
          "size": 10,
          "symbol": "x"
         },
         "mode": "markers",
         "showlegend": false,
         "type": "scatter",
         "x": [],
         "y": []
        },
        {
         "legendgroup": "ec2-p3",
         "marker": {
          "color": "#ff9896",
          "size": 10,
          "symbol": "triangle-up"
         },
         "mode": "markers",
         "showlegend": false,
         "type": "scatter",
         "x": [],
         "y": []
        },
        {
         "legendgroup": "ec2-p3",
         "marker": {
          "color": "#ff9896",
          "size": 10,
          "symbol": "triangle-down"
         },
         "mode": "markers",
         "showlegend": false,
         "type": "scatter",
         "x": [],
         "y": []
        },
        {
         "legendgroup": "ec2-p3",
         "marker": {
          "color": "#ff9896",
          "size": 10,
          "symbol": "pentagon"
         },
         "mode": "markers",
         "showlegend": false,
         "type": "scatter",
         "x": [],
         "y": []
        },
        {
         "legendgroup": "ec2-p4d",
         "marker": {
          "color": "#c5b0d5",
          "size": 10,
          "symbol": "circle"
         },
         "mode": "markers",
         "showlegend": false,
         "type": "scatter",
         "x": [],
         "y": []
        },
        {
         "legendgroup": "ec2-p4d",
         "marker": {
          "color": "#c5b0d5",
          "size": 10,
          "symbol": "square"
         },
         "mode": "markers",
         "showlegend": false,
         "type": "scatter",
         "x": [],
         "y": []
        },
        {
         "legendgroup": "ec2-p4d",
         "marker": {
          "color": "#c5b0d5",
          "size": 10,
          "symbol": "diamond"
         },
         "mode": "markers",
         "showlegend": false,
         "type": "scatter",
         "x": [
          -12.293120384216309
         ],
         "y": [
          -6.546504497528076
         ]
        },
        {
         "legendgroup": "ec2-p4d",
         "marker": {
          "color": "#c5b0d5",
          "size": 10,
          "symbol": "cross"
         },
         "mode": "markers",
         "showlegend": false,
         "type": "scatter",
         "x": [],
         "y": []
        },
        {
         "legendgroup": "ec2-p4d",
         "marker": {
          "color": "#c5b0d5",
          "size": 10,
          "symbol": "x"
         },
         "mode": "markers",
         "showlegend": false,
         "type": "scatter",
         "x": [],
         "y": []
        },
        {
         "legendgroup": "ec2-p4d",
         "marker": {
          "color": "#c5b0d5",
          "size": 10,
          "symbol": "triangle-up"
         },
         "mode": "markers",
         "showlegend": false,
         "type": "scatter",
         "x": [],
         "y": []
        },
        {
         "legendgroup": "ec2-p4d",
         "marker": {
          "color": "#c5b0d5",
          "size": 10,
          "symbol": "triangle-down"
         },
         "mode": "markers",
         "showlegend": false,
         "type": "scatter",
         "x": [],
         "y": []
        },
        {
         "legendgroup": "ec2-p4d",
         "marker": {
          "color": "#c5b0d5",
          "size": 10,
          "symbol": "pentagon"
         },
         "mode": "markers",
         "showlegend": false,
         "type": "scatter",
         "x": [],
         "y": []
        }
       ],
       "layout": {
        "height": 400,
        "legend": {
         "orientation": "h",
         "traceorder": "normal",
         "x": 0.5,
         "xanchor": "center",
         "y": 1.15,
         "yanchor": "bottom"
        },
        "margin": {
         "b": 0,
         "l": 0,
         "r": 0,
         "t": 0
        },
        "paper_bgcolor": "white",
        "plot_bgcolor": "white",
        "shapes": [
         {
          "line": {
           "color": "black",
           "width": 2
          },
          "type": "line",
          "x0": -14.324247360229492,
          "x1": 17.9776611328125,
          "y0": -12.8,
          "y1": -12.8
         },
         {
          "line": {
           "color": "black",
           "width": 2
          },
          "type": "line",
          "x0": -14.4,
          "x1": -14.4,
          "y0": -12.764823913574219,
          "y1": 8.493667602539062
         }
        ],
        "template": {
         "data": {
          "bar": [
           {
            "error_x": {
             "color": "#2a3f5f"
            },
            "error_y": {
             "color": "#2a3f5f"
            },
            "marker": {
             "line": {
              "color": "#E5ECF6",
              "width": 0.5
             },
             "pattern": {
              "fillmode": "overlay",
              "size": 10,
              "solidity": 0.2
             }
            },
            "type": "bar"
           }
          ],
          "barpolar": [
           {
            "marker": {
             "line": {
              "color": "#E5ECF6",
              "width": 0.5
             },
             "pattern": {
              "fillmode": "overlay",
              "size": 10,
              "solidity": 0.2
             }
            },
            "type": "barpolar"
           }
          ],
          "carpet": [
           {
            "aaxis": {
             "endlinecolor": "#2a3f5f",
             "gridcolor": "white",
             "linecolor": "white",
             "minorgridcolor": "white",
             "startlinecolor": "#2a3f5f"
            },
            "baxis": {
             "endlinecolor": "#2a3f5f",
             "gridcolor": "white",
             "linecolor": "white",
             "minorgridcolor": "white",
             "startlinecolor": "#2a3f5f"
            },
            "type": "carpet"
           }
          ],
          "choropleth": [
           {
            "colorbar": {
             "outlinewidth": 0,
             "ticks": ""
            },
            "type": "choropleth"
           }
          ],
          "contour": [
           {
            "colorbar": {
             "outlinewidth": 0,
             "ticks": ""
            },
            "colorscale": [
             [
              0,
              "#0d0887"
             ],
             [
              0.1111111111111111,
              "#46039f"
             ],
             [
              0.2222222222222222,
              "#7201a8"
             ],
             [
              0.3333333333333333,
              "#9c179e"
             ],
             [
              0.4444444444444444,
              "#bd3786"
             ],
             [
              0.5555555555555556,
              "#d8576b"
             ],
             [
              0.6666666666666666,
              "#ed7953"
             ],
             [
              0.7777777777777778,
              "#fb9f3a"
             ],
             [
              0.8888888888888888,
              "#fdca26"
             ],
             [
              1,
              "#f0f921"
             ]
            ],
            "type": "contour"
           }
          ],
          "contourcarpet": [
           {
            "colorbar": {
             "outlinewidth": 0,
             "ticks": ""
            },
            "type": "contourcarpet"
           }
          ],
          "heatmap": [
           {
            "colorbar": {
             "outlinewidth": 0,
             "ticks": ""
            },
            "colorscale": [
             [
              0,
              "#0d0887"
             ],
             [
              0.1111111111111111,
              "#46039f"
             ],
             [
              0.2222222222222222,
              "#7201a8"
             ],
             [
              0.3333333333333333,
              "#9c179e"
             ],
             [
              0.4444444444444444,
              "#bd3786"
             ],
             [
              0.5555555555555556,
              "#d8576b"
             ],
             [
              0.6666666666666666,
              "#ed7953"
             ],
             [
              0.7777777777777778,
              "#fb9f3a"
             ],
             [
              0.8888888888888888,
              "#fdca26"
             ],
             [
              1,
              "#f0f921"
             ]
            ],
            "type": "heatmap"
           }
          ],
          "heatmapgl": [
           {
            "colorbar": {
             "outlinewidth": 0,
             "ticks": ""
            },
            "colorscale": [
             [
              0,
              "#0d0887"
             ],
             [
              0.1111111111111111,
              "#46039f"
             ],
             [
              0.2222222222222222,
              "#7201a8"
             ],
             [
              0.3333333333333333,
              "#9c179e"
             ],
             [
              0.4444444444444444,
              "#bd3786"
             ],
             [
              0.5555555555555556,
              "#d8576b"
             ],
             [
              0.6666666666666666,
              "#ed7953"
             ],
             [
              0.7777777777777778,
              "#fb9f3a"
             ],
             [
              0.8888888888888888,
              "#fdca26"
             ],
             [
              1,
              "#f0f921"
             ]
            ],
            "type": "heatmapgl"
           }
          ],
          "histogram": [
           {
            "marker": {
             "pattern": {
              "fillmode": "overlay",
              "size": 10,
              "solidity": 0.2
             }
            },
            "type": "histogram"
           }
          ],
          "histogram2d": [
           {
            "colorbar": {
             "outlinewidth": 0,
             "ticks": ""
            },
            "colorscale": [
             [
              0,
              "#0d0887"
             ],
             [
              0.1111111111111111,
              "#46039f"
             ],
             [
              0.2222222222222222,
              "#7201a8"
             ],
             [
              0.3333333333333333,
              "#9c179e"
             ],
             [
              0.4444444444444444,
              "#bd3786"
             ],
             [
              0.5555555555555556,
              "#d8576b"
             ],
             [
              0.6666666666666666,
              "#ed7953"
             ],
             [
              0.7777777777777778,
              "#fb9f3a"
             ],
             [
              0.8888888888888888,
              "#fdca26"
             ],
             [
              1,
              "#f0f921"
             ]
            ],
            "type": "histogram2d"
           }
          ],
          "histogram2dcontour": [
           {
            "colorbar": {
             "outlinewidth": 0,
             "ticks": ""
            },
            "colorscale": [
             [
              0,
              "#0d0887"
             ],
             [
              0.1111111111111111,
              "#46039f"
             ],
             [
              0.2222222222222222,
              "#7201a8"
             ],
             [
              0.3333333333333333,
              "#9c179e"
             ],
             [
              0.4444444444444444,
              "#bd3786"
             ],
             [
              0.5555555555555556,
              "#d8576b"
             ],
             [
              0.6666666666666666,
              "#ed7953"
             ],
             [
              0.7777777777777778,
              "#fb9f3a"
             ],
             [
              0.8888888888888888,
              "#fdca26"
             ],
             [
              1,
              "#f0f921"
             ]
            ],
            "type": "histogram2dcontour"
           }
          ],
          "mesh3d": [
           {
            "colorbar": {
             "outlinewidth": 0,
             "ticks": ""
            },
            "type": "mesh3d"
           }
          ],
          "parcoords": [
           {
            "line": {
             "colorbar": {
              "outlinewidth": 0,
              "ticks": ""
             }
            },
            "type": "parcoords"
           }
          ],
          "pie": [
           {
            "automargin": true,
            "type": "pie"
           }
          ],
          "scatter": [
           {
            "fillpattern": {
             "fillmode": "overlay",
             "size": 10,
             "solidity": 0.2
            },
            "type": "scatter"
           }
          ],
          "scatter3d": [
           {
            "line": {
             "colorbar": {
              "outlinewidth": 0,
              "ticks": ""
             }
            },
            "marker": {
             "colorbar": {
              "outlinewidth": 0,
              "ticks": ""
             }
            },
            "type": "scatter3d"
           }
          ],
          "scattercarpet": [
           {
            "marker": {
             "colorbar": {
              "outlinewidth": 0,
              "ticks": ""
             }
            },
            "type": "scattercarpet"
           }
          ],
          "scattergeo": [
           {
            "marker": {
             "colorbar": {
              "outlinewidth": 0,
              "ticks": ""
             }
            },
            "type": "scattergeo"
           }
          ],
          "scattergl": [
           {
            "marker": {
             "colorbar": {
              "outlinewidth": 0,
              "ticks": ""
             }
            },
            "type": "scattergl"
           }
          ],
          "scattermapbox": [
           {
            "marker": {
             "colorbar": {
              "outlinewidth": 0,
              "ticks": ""
             }
            },
            "type": "scattermapbox"
           }
          ],
          "scatterpolar": [
           {
            "marker": {
             "colorbar": {
              "outlinewidth": 0,
              "ticks": ""
             }
            },
            "type": "scatterpolar"
           }
          ],
          "scatterpolargl": [
           {
            "marker": {
             "colorbar": {
              "outlinewidth": 0,
              "ticks": ""
             }
            },
            "type": "scatterpolargl"
           }
          ],
          "scatterternary": [
           {
            "marker": {
             "colorbar": {
              "outlinewidth": 0,
              "ticks": ""
             }
            },
            "type": "scatterternary"
           }
          ],
          "surface": [
           {
            "colorbar": {
             "outlinewidth": 0,
             "ticks": ""
            },
            "colorscale": [
             [
              0,
              "#0d0887"
             ],
             [
              0.1111111111111111,
              "#46039f"
             ],
             [
              0.2222222222222222,
              "#7201a8"
             ],
             [
              0.3333333333333333,
              "#9c179e"
             ],
             [
              0.4444444444444444,
              "#bd3786"
             ],
             [
              0.5555555555555556,
              "#d8576b"
             ],
             [
              0.6666666666666666,
              "#ed7953"
             ],
             [
              0.7777777777777778,
              "#fb9f3a"
             ],
             [
              0.8888888888888888,
              "#fdca26"
             ],
             [
              1,
              "#f0f921"
             ]
            ],
            "type": "surface"
           }
          ],
          "table": [
           {
            "cells": {
             "fill": {
              "color": "#EBF0F8"
             },
             "line": {
              "color": "white"
             }
            },
            "header": {
             "fill": {
              "color": "#C8D4E3"
             },
             "line": {
              "color": "white"
             }
            },
            "type": "table"
           }
          ]
         },
         "layout": {
          "annotationdefaults": {
           "arrowcolor": "#2a3f5f",
           "arrowhead": 0,
           "arrowwidth": 1
          },
          "autotypenumbers": "strict",
          "coloraxis": {
           "colorbar": {
            "outlinewidth": 0,
            "ticks": ""
           }
          },
          "colorscale": {
           "diverging": [
            [
             0,
             "#8e0152"
            ],
            [
             0.1,
             "#c51b7d"
            ],
            [
             0.2,
             "#de77ae"
            ],
            [
             0.3,
             "#f1b6da"
            ],
            [
             0.4,
             "#fde0ef"
            ],
            [
             0.5,
             "#f7f7f7"
            ],
            [
             0.6,
             "#e6f5d0"
            ],
            [
             0.7,
             "#b8e186"
            ],
            [
             0.8,
             "#7fbc41"
            ],
            [
             0.9,
             "#4d9221"
            ],
            [
             1,
             "#276419"
            ]
           ],
           "sequential": [
            [
             0,
             "#0d0887"
            ],
            [
             0.1111111111111111,
             "#46039f"
            ],
            [
             0.2222222222222222,
             "#7201a8"
            ],
            [
             0.3333333333333333,
             "#9c179e"
            ],
            [
             0.4444444444444444,
             "#bd3786"
            ],
            [
             0.5555555555555556,
             "#d8576b"
            ],
            [
             0.6666666666666666,
             "#ed7953"
            ],
            [
             0.7777777777777778,
             "#fb9f3a"
            ],
            [
             0.8888888888888888,
             "#fdca26"
            ],
            [
             1,
             "#f0f921"
            ]
           ],
           "sequentialminus": [
            [
             0,
             "#0d0887"
            ],
            [
             0.1111111111111111,
             "#46039f"
            ],
            [
             0.2222222222222222,
             "#7201a8"
            ],
            [
             0.3333333333333333,
             "#9c179e"
            ],
            [
             0.4444444444444444,
             "#bd3786"
            ],
            [
             0.5555555555555556,
             "#d8576b"
            ],
            [
             0.6666666666666666,
             "#ed7953"
            ],
            [
             0.7777777777777778,
             "#fb9f3a"
            ],
            [
             0.8888888888888888,
             "#fdca26"
            ],
            [
             1,
             "#f0f921"
            ]
           ]
          },
          "colorway": [
           "#636efa",
           "#EF553B",
           "#00cc96",
           "#ab63fa",
           "#FFA15A",
           "#19d3f3",
           "#FF6692",
           "#B6E880",
           "#FF97FF",
           "#FECB52"
          ],
          "font": {
           "color": "#2a3f5f"
          },
          "geo": {
           "bgcolor": "white",
           "lakecolor": "white",
           "landcolor": "#E5ECF6",
           "showlakes": true,
           "showland": true,
           "subunitcolor": "white"
          },
          "hoverlabel": {
           "align": "left"
          },
          "hovermode": "closest",
          "mapbox": {
           "style": "light"
          },
          "paper_bgcolor": "white",
          "plot_bgcolor": "#E5ECF6",
          "polar": {
           "angularaxis": {
            "gridcolor": "white",
            "linecolor": "white",
            "ticks": ""
           },
           "bgcolor": "#E5ECF6",
           "radialaxis": {
            "gridcolor": "white",
            "linecolor": "white",
            "ticks": ""
           }
          },
          "scene": {
           "xaxis": {
            "backgroundcolor": "#E5ECF6",
            "gridcolor": "white",
            "gridwidth": 2,
            "linecolor": "white",
            "showbackground": true,
            "ticks": "",
            "zerolinecolor": "white"
           },
           "yaxis": {
            "backgroundcolor": "#E5ECF6",
            "gridcolor": "white",
            "gridwidth": 2,
            "linecolor": "white",
            "showbackground": true,
            "ticks": "",
            "zerolinecolor": "white"
           },
           "zaxis": {
            "backgroundcolor": "#E5ECF6",
            "gridcolor": "white",
            "gridwidth": 2,
            "linecolor": "white",
            "showbackground": true,
            "ticks": "",
            "zerolinecolor": "white"
           }
          },
          "shapedefaults": {
           "line": {
            "color": "#2a3f5f"
           }
          },
          "ternary": {
           "aaxis": {
            "gridcolor": "white",
            "linecolor": "white",
            "ticks": ""
           },
           "baxis": {
            "gridcolor": "white",
            "linecolor": "white",
            "ticks": ""
           },
           "bgcolor": "#E5ECF6",
           "caxis": {
            "gridcolor": "white",
            "linecolor": "white",
            "ticks": ""
           }
          },
          "title": {
           "x": 0.05
          },
          "xaxis": {
           "automargin": true,
           "gridcolor": "white",
           "linecolor": "white",
           "ticks": "",
           "title": {
            "standoff": 15
           },
           "zerolinecolor": "white",
           "zerolinewidth": 2
          },
          "yaxis": {
           "automargin": true,
           "gridcolor": "white",
           "linecolor": "white",
           "ticks": "",
           "title": {
            "standoff": 15
           },
           "zerolinecolor": "white",
           "zerolinewidth": 2
          }
         }
        },
        "title": {
         "font": {
          "size": 16
         },
         "x": 0.5,
         "xanchor": "center",
         "y": 0.01,
         "yanchor": "bottom"
        },
        "width": 600,
        "xaxis": {
         "tickfont": {
          "size": 18
         },
         "title": {
          "font": {
           "size": 20
          },
          "text": "t-SNE Feature 1"
         }
        },
        "yaxis": {
         "tickfont": {
          "size": 18
         },
         "title": {
          "font": {
           "size": 20
          },
          "text": "t-SNE Feature 2"
         }
        }
       }
      },
      "text/html": [
       "<div>                            <div id=\"71fc4024-8967-4b78-99f6-76cd4f2d58f1\" class=\"plotly-graph-div\" style=\"height:400px; width:600px;\"></div>            <script type=\"text/javascript\">                require([\"plotly\"], function(Plotly) {                    window.PLOTLYENV=window.PLOTLYENV || {};                                    if (document.getElementById(\"71fc4024-8967-4b78-99f6-76cd4f2d58f1\")) {                    Plotly.newPlot(                        \"71fc4024-8967-4b78-99f6-76cd4f2d58f1\",                        [{\"legendgroup\":\"boraxo\",\"marker\":{\"color\":\"#1f77b4\",\"size\":10,\"symbol\":\"circle\"},\"mode\":\"markers\",\"showlegend\":false,\"x\":[-5.245901584625244],\"y\":[2.4844491481781006],\"type\":\"scatter\"},{\"legendgroup\":\"boraxo\",\"marker\":{\"color\":\"#1f77b4\",\"size\":10,\"symbol\":\"square\"},\"mode\":\"markers\",\"showlegend\":false,\"x\":[-4.009116172790527],\"y\":[2.6384201049804688],\"type\":\"scatter\"},{\"legendgroup\":\"boraxo\",\"marker\":{\"color\":\"#1f77b4\",\"size\":10,\"symbol\":\"diamond\"},\"mode\":\"markers\",\"showlegend\":false,\"x\":[-3.3345224857330322],\"y\":[2.897435426712036],\"type\":\"scatter\"},{\"legendgroup\":\"boraxo\",\"marker\":{\"color\":\"#1f77b4\",\"size\":10,\"symbol\":\"cross\"},\"mode\":\"markers\",\"showlegend\":false,\"x\":[-3.1997320652008057,16.49247169494629],\"y\":[1.8798489570617676,-1.9237533807754517],\"type\":\"scatter\"},{\"legendgroup\":\"boraxo\",\"marker\":{\"color\":\"#1f77b4\",\"size\":10,\"symbol\":\"x\"},\"mode\":\"markers\",\"showlegend\":false,\"x\":[-2.651315450668335],\"y\":[2.116569757461548],\"type\":\"scatter\"},{\"legendgroup\":\"boraxo\",\"marker\":{\"color\":\"#1f77b4\",\"size\":10,\"symbol\":\"triangle-up\"},\"mode\":\"markers\",\"showlegend\":false,\"x\":[3.6390159130096436],\"y\":[-1.291516661643982],\"type\":\"scatter\"},{\"legendgroup\":\"boraxo\",\"marker\":{\"color\":\"#1f77b4\",\"size\":10,\"symbol\":\"triangle-down\"},\"mode\":\"markers\",\"showlegend\":false,\"x\":[8.58973217010498],\"y\":[-2.5302019119262695],\"type\":\"scatter\"},{\"legendgroup\":\"boraxo\",\"marker\":{\"color\":\"#1f77b4\",\"size\":10,\"symbol\":\"pentagon\"},\"mode\":\"markers\",\"showlegend\":false,\"x\":[],\"y\":[],\"type\":\"scatter\"},{\"legendgroup\":\"catalyst\",\"marker\":{\"color\":\"#ff7f0e\",\"size\":10,\"symbol\":\"circle\"},\"mode\":\"markers\",\"showlegend\":false,\"x\":[4.9133992195129395],\"y\":[3.586111068725586],\"type\":\"scatter\"},{\"legendgroup\":\"catalyst\",\"marker\":{\"color\":\"#ff7f0e\",\"size\":10,\"symbol\":\"square\"},\"mode\":\"markers\",\"showlegend\":false,\"x\":[6.014705181121826],\"y\":[2.5206987857818604],\"type\":\"scatter\"},{\"legendgroup\":\"catalyst\",\"marker\":{\"color\":\"#ff7f0e\",\"size\":10,\"symbol\":\"diamond\"},\"mode\":\"markers\",\"showlegend\":false,\"x\":[4.829888343811035],\"y\":[3.2080674171447754],\"type\":\"scatter\"},{\"legendgroup\":\"catalyst\",\"marker\":{\"color\":\"#ff7f0e\",\"size\":10,\"symbol\":\"cross\"},\"mode\":\"markers\",\"showlegend\":false,\"x\":[6.352998733520508],\"y\":[1.9943004846572876],\"type\":\"scatter\"},{\"legendgroup\":\"catalyst\",\"marker\":{\"color\":\"#ff7f0e\",\"size\":10,\"symbol\":\"x\"},\"mode\":\"markers\",\"showlegend\":false,\"x\":[9.400162696838379,16.777660369873047],\"y\":[-0.010026555508375168,0.4012359380722046],\"type\":\"scatter\"},{\"legendgroup\":\"catalyst\",\"marker\":{\"color\":\"#ff7f0e\",\"size\":10,\"symbol\":\"triangle-up\"},\"mode\":\"markers\",\"showlegend\":false,\"x\":[],\"y\":[],\"type\":\"scatter\"},{\"legendgroup\":\"catalyst\",\"marker\":{\"color\":\"#ff7f0e\",\"size\":10,\"symbol\":\"triangle-down\"},\"mode\":\"markers\",\"showlegend\":false,\"x\":[],\"y\":[],\"type\":\"scatter\"},{\"legendgroup\":\"catalyst\",\"marker\":{\"color\":\"#ff7f0e\",\"size\":10,\"symbol\":\"pentagon\"},\"mode\":\"markers\",\"showlegend\":false,\"x\":[3.9238178730010986],\"y\":[4.141572952270508],\"type\":\"scatter\"},{\"legendgroup\":\"quartz\",\"marker\":{\"color\":\"#2ca02c\",\"size\":10,\"symbol\":\"circle\"},\"mode\":\"markers\",\"showlegend\":false,\"x\":[-1.0706833600997925],\"y\":[3.980517864227295],\"type\":\"scatter\"},{\"legendgroup\":\"quartz\",\"marker\":{\"color\":\"#2ca02c\",\"size\":10,\"symbol\":\"square\"},\"mode\":\"markers\",\"showlegend\":false,\"x\":[-0.33554384112358093],\"y\":[3.9678618907928467],\"type\":\"scatter\"},{\"legendgroup\":\"quartz\",\"marker\":{\"color\":\"#2ca02c\",\"size\":10,\"symbol\":\"diamond\"},\"mode\":\"markers\",\"showlegend\":false,\"x\":[4.371364116668701],\"y\":[-1.7324625253677368],\"type\":\"scatter\"},{\"legendgroup\":\"quartz\",\"marker\":{\"color\":\"#2ca02c\",\"size\":10,\"symbol\":\"cross\"},\"mode\":\"markers\",\"showlegend\":false,\"x\":[8.346407890319824],\"y\":[-1.4758110046386719],\"type\":\"scatter\"},{\"legendgroup\":\"quartz\",\"marker\":{\"color\":\"#2ca02c\",\"size\":10,\"symbol\":\"x\"},\"mode\":\"markers\",\"showlegend\":false,\"x\":[],\"y\":[],\"type\":\"scatter\"},{\"legendgroup\":\"quartz\",\"marker\":{\"color\":\"#2ca02c\",\"size\":10,\"symbol\":\"triangle-up\"},\"mode\":\"markers\",\"showlegend\":false,\"x\":[-2.249659776687622,16.309988021850586],\"y\":[5.4936676025390625,-0.9717946648597717],\"type\":\"scatter\"},{\"legendgroup\":\"quartz\",\"marker\":{\"color\":\"#2ca02c\",\"size\":10,\"symbol\":\"triangle-down\"},\"mode\":\"markers\",\"showlegend\":false,\"x\":[-1.3519647121429443],\"y\":[4.8490071296691895],\"type\":\"scatter\"},{\"legendgroup\":\"quartz\",\"marker\":{\"color\":\"#2ca02c\",\"size\":10,\"symbol\":\"pentagon\"},\"mode\":\"markers\",\"showlegend\":false,\"x\":[-0.539574384689331],\"y\":[4.872120380401611],\"type\":\"scatter\"},{\"legendgroup\":\"ruby\",\"marker\":{\"color\":\"#d62728\",\"size\":10,\"symbol\":\"circle\"},\"mode\":\"markers\",\"showlegend\":false,\"x\":[-1.8745564222335815],\"y\":[-2.126014471054077],\"type\":\"scatter\"},{\"legendgroup\":\"ruby\",\"marker\":{\"color\":\"#d62728\",\"size\":10,\"symbol\":\"square\"},\"mode\":\"markers\",\"showlegend\":false,\"x\":[0.09079188853502274],\"y\":[-2.0060155391693115],\"type\":\"scatter\"},{\"legendgroup\":\"ruby\",\"marker\":{\"color\":\"#d62728\",\"size\":10,\"symbol\":\"diamond\"},\"mode\":\"markers\",\"showlegend\":false,\"x\":[6.0319085121154785],\"y\":[-2.437197208404541],\"type\":\"scatter\"},{\"legendgroup\":\"ruby\",\"marker\":{\"color\":\"#d62728\",\"size\":10,\"symbol\":\"cross\"},\"mode\":\"markers\",\"showlegend\":false,\"x\":[],\"y\":[],\"type\":\"scatter\"},{\"legendgroup\":\"ruby\",\"marker\":{\"color\":\"#d62728\",\"size\":10,\"symbol\":\"x\"},\"mode\":\"markers\",\"showlegend\":false,\"x\":[-10.007560729980469],\"y\":[1.3765071630477905],\"type\":\"scatter\"},{\"legendgroup\":\"ruby\",\"marker\":{\"color\":\"#d62728\",\"size\":10,\"symbol\":\"triangle-up\"},\"mode\":\"markers\",\"showlegend\":false,\"x\":[-3.4465160369873047],\"y\":[-1.4520446062088013],\"type\":\"scatter\"},{\"legendgroup\":\"ruby\",\"marker\":{\"color\":\"#d62728\",\"size\":10,\"symbol\":\"triangle-down\"},\"mode\":\"markers\",\"showlegend\":false,\"x\":[-2.507214069366455,15.08426284790039],\"y\":[-1.5716217756271362,-2.068114995956421],\"type\":\"scatter\"},{\"legendgroup\":\"ruby\",\"marker\":{\"color\":\"#d62728\",\"size\":10,\"symbol\":\"pentagon\"},\"mode\":\"markers\",\"showlegend\":false,\"x\":[-3.111781358718872],\"y\":[-2.24849271774292],\"type\":\"scatter\"},{\"legendgroup\":\"mammoth\",\"marker\":{\"color\":\"#9467bd\",\"size\":10,\"symbol\":\"circle\"},\"mode\":\"markers\",\"showlegend\":false,\"x\":[-0.31481021642684937],\"y\":[2.358534812927246],\"type\":\"scatter\"},{\"legendgroup\":\"mammoth\",\"marker\":{\"color\":\"#9467bd\",\"size\":10,\"symbol\":\"square\"},\"mode\":\"markers\",\"showlegend\":false,\"x\":[7.29041051864624],\"y\":[-0.8647562861442566],\"type\":\"scatter\"},{\"legendgroup\":\"mammoth\",\"marker\":{\"color\":\"#9467bd\",\"size\":10,\"symbol\":\"diamond\"},\"mode\":\"markers\",\"showlegend\":false,\"x\":[],\"y\":[],\"type\":\"scatter\"},{\"legendgroup\":\"mammoth\",\"marker\":{\"color\":\"#9467bd\",\"size\":10,\"symbol\":\"cross\"},\"mode\":\"markers\",\"showlegend\":false,\"x\":[-10.182679176330566],\"y\":[3.6510818004608154],\"type\":\"scatter\"},{\"legendgroup\":\"mammoth\",\"marker\":{\"color\":\"#9467bd\",\"size\":10,\"symbol\":\"x\"},\"mode\":\"markers\",\"showlegend\":false,\"x\":[-8.91256332397461],\"y\":[3.8601365089416504],\"type\":\"scatter\"},{\"legendgroup\":\"mammoth\",\"marker\":{\"color\":\"#9467bd\",\"size\":10,\"symbol\":\"triangle-up\"},\"mode\":\"markers\",\"showlegend\":false,\"x\":[-7.362731456756592],\"y\":[4.416908264160156],\"type\":\"scatter\"},{\"legendgroup\":\"mammoth\",\"marker\":{\"color\":\"#9467bd\",\"size\":10,\"symbol\":\"triangle-down\"},\"mode\":\"markers\",\"showlegend\":false,\"x\":[-6.612237453460693],\"y\":[4.731714248657227],\"type\":\"scatter\"},{\"legendgroup\":\"mammoth\",\"marker\":{\"color\":\"#9467bd\",\"size\":10,\"symbol\":\"pentagon\"},\"mode\":\"markers\",\"showlegend\":false,\"x\":[-5.854666709899902,14.293603897094727],\"y\":[4.849721431732178,-0.8888697028160095],\"type\":\"scatter\"},{\"legendgroup\":\"poodle\",\"marker\":{\"color\":\"#8c564b\",\"size\":10,\"symbol\":\"circle\"},\"mode\":\"markers\",\"showlegend\":false,\"x\":[6.904194355010986,14.734867095947266],\"y\":[-2.128645181655884,-2.65739107131958],\"type\":\"scatter\"},{\"legendgroup\":\"poodle\",\"marker\":{\"color\":\"#8c564b\",\"size\":10,\"symbol\":\"square\"},\"mode\":\"markers\",\"showlegend\":false,\"x\":[],\"y\":[],\"type\":\"scatter\"},{\"legendgroup\":\"poodle\",\"marker\":{\"color\":\"#8c564b\",\"size\":10,\"symbol\":\"diamond\"},\"mode\":\"markers\",\"showlegend\":false,\"x\":[-11.996618270874023],\"y\":[0.7721585035324097],\"type\":\"scatter\"},{\"legendgroup\":\"poodle\",\"marker\":{\"color\":\"#8c564b\",\"size\":10,\"symbol\":\"cross\"},\"mode\":\"markers\",\"showlegend\":false,\"x\":[-8.756075859069824],\"y\":[-0.27454161643981934],\"type\":\"scatter\"},{\"legendgroup\":\"poodle\",\"marker\":{\"color\":\"#8c564b\",\"size\":10,\"symbol\":\"x\"},\"mode\":\"markers\",\"showlegend\":false,\"x\":[-7.302137851715088],\"y\":[-1.029388189315796],\"type\":\"scatter\"},{\"legendgroup\":\"poodle\",\"marker\":{\"color\":\"#8c564b\",\"size\":10,\"symbol\":\"triangle-up\"},\"mode\":\"markers\",\"showlegend\":false,\"x\":[-6.441239833831787],\"y\":[-1.350477933883667],\"type\":\"scatter\"},{\"legendgroup\":\"poodle\",\"marker\":{\"color\":\"#8c564b\",\"size\":10,\"symbol\":\"triangle-down\"},\"mode\":\"markers\",\"showlegend\":false,\"x\":[-5.5237650871276855],\"y\":[-1.6696141958236694],\"type\":\"scatter\"},{\"legendgroup\":\"poodle\",\"marker\":{\"color\":\"#8c564b\",\"size\":10,\"symbol\":\"pentagon\"},\"mode\":\"markers\",\"showlegend\":false,\"x\":[1.7441376447677612],\"y\":[-1.9450277090072632],\"type\":\"scatter\"},{\"legendgroup\":\"ec2-c5n\",\"marker\":{\"color\":\"#e377c2\",\"size\":10,\"symbol\":\"circle\"},\"mode\":\"markers\",\"showlegend\":false,\"x\":[],\"y\":[],\"type\":\"scatter\"},{\"legendgroup\":\"ec2-c5n\",\"marker\":{\"color\":\"#e377c2\",\"size\":10,\"symbol\":\"square\"},\"mode\":\"markers\",\"showlegend\":false,\"x\":[-7.533494472503662,15.379904747009277],\"y\":[-7.065051555633545,-0.880868136882782],\"type\":\"scatter\"},{\"legendgroup\":\"ec2-c5n\",\"marker\":{\"color\":\"#e377c2\",\"size\":10,\"symbol\":\"diamond\"},\"mode\":\"markers\",\"showlegend\":false,\"x\":[-6.4633660316467285],\"y\":[-6.964054584503174],\"type\":\"scatter\"},{\"legendgroup\":\"ec2-c5n\",\"marker\":{\"color\":\"#e377c2\",\"size\":10,\"symbol\":\"cross\"},\"mode\":\"markers\",\"showlegend\":false,\"x\":[-5.854499816894531],\"y\":[-7.400182247161865],\"type\":\"scatter\"},{\"legendgroup\":\"ec2-c5n\",\"marker\":{\"color\":\"#e377c2\",\"size\":10,\"symbol\":\"x\"},\"mode\":\"markers\",\"showlegend\":false,\"x\":[-5.980119705200195],\"y\":[-6.136962890625],\"type\":\"scatter\"},{\"legendgroup\":\"ec2-c5n\",\"marker\":{\"color\":\"#e377c2\",\"size\":10,\"symbol\":\"triangle-up\"},\"mode\":\"markers\",\"showlegend\":false,\"x\":[-5.303936958312988],\"y\":[-6.589493751525879],\"type\":\"scatter\"},{\"legendgroup\":\"ec2-c5n\",\"marker\":{\"color\":\"#e377c2\",\"size\":10,\"symbol\":\"triangle-down\"},\"mode\":\"markers\",\"showlegend\":false,\"x\":[2.6148252487182617],\"y\":[-3.6221988201141357],\"type\":\"scatter\"},{\"legendgroup\":\"ec2-c5n\",\"marker\":{\"color\":\"#e377c2\",\"size\":10,\"symbol\":\"pentagon\"},\"mode\":\"markers\",\"showlegend\":false,\"x\":[7.540403366088867],\"y\":[-3.5253114700317383],\"type\":\"scatter\"},{\"legendgroup\":\"ec2-c6a\",\"marker\":{\"color\":\"#7f7f7f\",\"size\":10,\"symbol\":\"circle\"},\"mode\":\"markers\",\"showlegend\":false,\"x\":[-10.852086067199707],\"y\":[0.5009509325027466],\"type\":\"scatter\"},{\"legendgroup\":\"ec2-c6a\",\"marker\":{\"color\":\"#7f7f7f\",\"size\":10,\"symbol\":\"square\"},\"mode\":\"markers\",\"showlegend\":false,\"x\":[-9.72552490234375],\"y\":[-3.538238048553467],\"type\":\"scatter\"},{\"legendgroup\":\"ec2-c6a\",\"marker\":{\"color\":\"#7f7f7f\",\"size\":10,\"symbol\":\"diamond\"},\"mode\":\"markers\",\"showlegend\":false,\"x\":[-9.165952682495117,13.152847290039062],\"y\":[-4.36826229095459,-1.6683697700500488],\"type\":\"scatter\"},{\"legendgroup\":\"ec2-c6a\",\"marker\":{\"color\":\"#7f7f7f\",\"size\":10,\"symbol\":\"cross\"},\"mode\":\"markers\",\"showlegend\":false,\"x\":[-8.86074447631836],\"y\":[-4.888920783996582],\"type\":\"scatter\"},{\"legendgroup\":\"ec2-c6a\",\"marker\":{\"color\":\"#7f7f7f\",\"size\":10,\"symbol\":\"x\"},\"mode\":\"markers\",\"showlegend\":false,\"x\":[-8.048613548278809],\"y\":[-5.064691066741943],\"type\":\"scatter\"},{\"legendgroup\":\"ec2-c6a\",\"marker\":{\"color\":\"#7f7f7f\",\"size\":10,\"symbol\":\"triangle-up\"},\"mode\":\"markers\",\"showlegend\":false,\"x\":[-4.323573112487793],\"y\":[-5.378131866455078],\"type\":\"scatter\"},{\"legendgroup\":\"ec2-c6a\",\"marker\":{\"color\":\"#7f7f7f\",\"size\":10,\"symbol\":\"triangle-down\"},\"mode\":\"markers\",\"showlegend\":false,\"x\":[3.7319083213806152],\"y\":[-3.236363649368286],\"type\":\"scatter\"},{\"legendgroup\":\"ec2-c6a\",\"marker\":{\"color\":\"#7f7f7f\",\"size\":10,\"symbol\":\"pentagon\"},\"mode\":\"markers\",\"showlegend\":false,\"x\":[],\"y\":[],\"type\":\"scatter\"},{\"legendgroup\":\"ec2-c6i\",\"marker\":{\"color\":\"#bcbd22\",\"size\":10,\"symbol\":\"circle\"},\"mode\":\"markers\",\"showlegend\":false,\"x\":[-7.523541450500488],\"y\":[-2.816652297973633],\"type\":\"scatter\"},{\"legendgroup\":\"ec2-c6i\",\"marker\":{\"color\":\"#bcbd22\",\"size\":10,\"symbol\":\"square\"},\"mode\":\"markers\",\"showlegend\":false,\"x\":[-6.948493480682373],\"y\":[-3.12965726852417],\"type\":\"scatter\"},{\"legendgroup\":\"ec2-c6i\",\"marker\":{\"color\":\"#bcbd22\",\"size\":10,\"symbol\":\"diamond\"},\"mode\":\"markers\",\"showlegend\":false,\"x\":[-5.8650946617126465],\"y\":[-3.574145793914795],\"type\":\"scatter\"},{\"legendgroup\":\"ec2-c6i\",\"marker\":{\"color\":\"#bcbd22\",\"size\":10,\"symbol\":\"cross\"},\"mode\":\"markers\",\"showlegend\":false,\"x\":[1.4307698011398315,13.995197296142578],\"y\":[-3.593109607696533,-1.7672969102859497],\"type\":\"scatter\"},{\"legendgroup\":\"ec2-c6i\",\"marker\":{\"color\":\"#bcbd22\",\"size\":10,\"symbol\":\"x\"},\"mode\":\"markers\",\"showlegend\":false,\"x\":[6.255677700042725],\"y\":[-3.5266900062561035],\"type\":\"scatter\"},{\"legendgroup\":\"ec2-c6i\",\"marker\":{\"color\":\"#bcbd22\",\"size\":10,\"symbol\":\"triangle-up\"},\"mode\":\"markers\",\"showlegend\":false,\"x\":[],\"y\":[],\"type\":\"scatter\"},{\"legendgroup\":\"ec2-c6i\",\"marker\":{\"color\":\"#bcbd22\",\"size\":10,\"symbol\":\"triangle-down\"},\"mode\":\"markers\",\"showlegend\":false,\"x\":[],\"y\":[],\"type\":\"scatter\"},{\"legendgroup\":\"ec2-c6i\",\"marker\":{\"color\":\"#bcbd22\",\"size\":10,\"symbol\":\"pentagon\"},\"mode\":\"markers\",\"showlegend\":false,\"x\":[-9.008188247680664],\"y\":[-1.8148770332336426],\"type\":\"scatter\"},{\"legendgroup\":\"pascal\",\"marker\":{\"color\":\"#17becf\",\"size\":10,\"symbol\":\"circle\"},\"mode\":\"markers\",\"showlegend\":false,\"x\":[],\"y\":[],\"type\":\"scatter\"},{\"legendgroup\":\"pascal\",\"marker\":{\"color\":\"#17becf\",\"size\":10,\"symbol\":\"square\"},\"mode\":\"markers\",\"showlegend\":false,\"x\":[],\"y\":[],\"type\":\"scatter\"},{\"legendgroup\":\"pascal\",\"marker\":{\"color\":\"#17becf\",\"size\":10,\"symbol\":\"diamond\"},\"mode\":\"markers\",\"showlegend\":false,\"x\":[],\"y\":[],\"type\":\"scatter\"},{\"legendgroup\":\"pascal\",\"marker\":{\"color\":\"#17becf\",\"size\":10,\"symbol\":\"cross\"},\"mode\":\"markers\",\"showlegend\":false,\"x\":[],\"y\":[],\"type\":\"scatter\"},{\"legendgroup\":\"pascal\",\"marker\":{\"color\":\"#17becf\",\"size\":10,\"symbol\":\"x\"},\"mode\":\"markers\",\"showlegend\":false,\"x\":[],\"y\":[],\"type\":\"scatter\"},{\"legendgroup\":\"pascal\",\"marker\":{\"color\":\"#17becf\",\"size\":10,\"symbol\":\"triangle-up\"},\"mode\":\"markers\",\"showlegend\":false,\"x\":[-13.674247741699219],\"y\":[-6.286596298217773],\"type\":\"scatter\"},{\"legendgroup\":\"pascal\",\"marker\":{\"color\":\"#17becf\",\"size\":10,\"symbol\":\"triangle-down\"},\"mode\":\"markers\",\"showlegend\":false,\"x\":[],\"y\":[],\"type\":\"scatter\"},{\"legendgroup\":\"pascal\",\"marker\":{\"color\":\"#17becf\",\"size\":10,\"symbol\":\"pentagon\"},\"mode\":\"markers\",\"showlegend\":false,\"x\":[],\"y\":[],\"type\":\"scatter\"},{\"legendgroup\":\"lassen\",\"marker\":{\"color\":\"#aec7e8\",\"size\":10,\"symbol\":\"circle\"},\"mode\":\"markers\",\"showlegend\":false,\"x\":[],\"y\":[],\"type\":\"scatter\"},{\"legendgroup\":\"lassen\",\"marker\":{\"color\":\"#aec7e8\",\"size\":10,\"symbol\":\"square\"},\"mode\":\"markers\",\"showlegend\":false,\"x\":[],\"y\":[],\"type\":\"scatter\"},{\"legendgroup\":\"lassen\",\"marker\":{\"color\":\"#aec7e8\",\"size\":10,\"symbol\":\"diamond\"},\"mode\":\"markers\",\"showlegend\":false,\"x\":[],\"y\":[],\"type\":\"scatter\"},{\"legendgroup\":\"lassen\",\"marker\":{\"color\":\"#aec7e8\",\"size\":10,\"symbol\":\"cross\"},\"mode\":\"markers\",\"showlegend\":false,\"x\":[],\"y\":[],\"type\":\"scatter\"},{\"legendgroup\":\"lassen\",\"marker\":{\"color\":\"#aec7e8\",\"size\":10,\"symbol\":\"x\"},\"mode\":\"markers\",\"showlegend\":false,\"x\":[],\"y\":[],\"type\":\"scatter\"},{\"legendgroup\":\"lassen\",\"marker\":{\"color\":\"#aec7e8\",\"size\":10,\"symbol\":\"triangle-up\"},\"mode\":\"markers\",\"showlegend\":false,\"x\":[],\"y\":[],\"type\":\"scatter\"},{\"legendgroup\":\"lassen\",\"marker\":{\"color\":\"#aec7e8\",\"size\":10,\"symbol\":\"triangle-down\"},\"mode\":\"markers\",\"showlegend\":false,\"x\":[-12.741264343261719],\"y\":[-5.658505439758301],\"type\":\"scatter\"},{\"legendgroup\":\"lassen\",\"marker\":{\"color\":\"#aec7e8\",\"size\":10,\"symbol\":\"pentagon\"},\"mode\":\"markers\",\"showlegend\":false,\"x\":[],\"y\":[],\"type\":\"scatter\"},{\"legendgroup\":\"corona\",\"marker\":{\"color\":\"#ffbb78\",\"size\":10,\"symbol\":\"circle\"},\"mode\":\"markers\",\"showlegend\":false,\"x\":[],\"y\":[],\"type\":\"scatter\"},{\"legendgroup\":\"corona\",\"marker\":{\"color\":\"#ffbb78\",\"size\":10,\"symbol\":\"square\"},\"mode\":\"markers\",\"showlegend\":false,\"x\":[],\"y\":[],\"type\":\"scatter\"},{\"legendgroup\":\"corona\",\"marker\":{\"color\":\"#ffbb78\",\"size\":10,\"symbol\":\"diamond\"},\"mode\":\"markers\",\"showlegend\":false,\"x\":[],\"y\":[],\"type\":\"scatter\"},{\"legendgroup\":\"corona\",\"marker\":{\"color\":\"#ffbb78\",\"size\":10,\"symbol\":\"cross\"},\"mode\":\"markers\",\"showlegend\":false,\"x\":[],\"y\":[],\"type\":\"scatter\"},{\"legendgroup\":\"corona\",\"marker\":{\"color\":\"#ffbb78\",\"size\":10,\"symbol\":\"x\"},\"mode\":\"markers\",\"showlegend\":false,\"x\":[],\"y\":[],\"type\":\"scatter\"},{\"legendgroup\":\"corona\",\"marker\":{\"color\":\"#ffbb78\",\"size\":10,\"symbol\":\"triangle-up\"},\"mode\":\"markers\",\"showlegend\":false,\"x\":[],\"y\":[],\"type\":\"scatter\"},{\"legendgroup\":\"corona\",\"marker\":{\"color\":\"#ffbb78\",\"size\":10,\"symbol\":\"triangle-down\"},\"mode\":\"markers\",\"showlegend\":false,\"x\":[],\"y\":[],\"type\":\"scatter\"},{\"legendgroup\":\"corona\",\"marker\":{\"color\":\"#ffbb78\",\"size\":10,\"symbol\":\"pentagon\"},\"mode\":\"markers\",\"showlegend\":false,\"x\":[-9.540749549865723],\"y\":[-11.564824104309082],\"type\":\"scatter\"},{\"legendgroup\":\"tioga\",\"marker\":{\"color\":\"#98df8a\",\"size\":10,\"symbol\":\"circle\"},\"mode\":\"markers\",\"showlegend\":false,\"x\":[-9.54633617401123],\"y\":[-11.55999755859375],\"type\":\"scatter\"},{\"legendgroup\":\"tioga\",\"marker\":{\"color\":\"#98df8a\",\"size\":10,\"symbol\":\"square\"},\"mode\":\"markers\",\"showlegend\":false,\"x\":[],\"y\":[],\"type\":\"scatter\"},{\"legendgroup\":\"tioga\",\"marker\":{\"color\":\"#98df8a\",\"size\":10,\"symbol\":\"diamond\"},\"mode\":\"markers\",\"showlegend\":false,\"x\":[],\"y\":[],\"type\":\"scatter\"},{\"legendgroup\":\"tioga\",\"marker\":{\"color\":\"#98df8a\",\"size\":10,\"symbol\":\"cross\"},\"mode\":\"markers\",\"showlegend\":false,\"x\":[],\"y\":[],\"type\":\"scatter\"},{\"legendgroup\":\"tioga\",\"marker\":{\"color\":\"#98df8a\",\"size\":10,\"symbol\":\"x\"},\"mode\":\"markers\",\"showlegend\":false,\"x\":[],\"y\":[],\"type\":\"scatter\"},{\"legendgroup\":\"tioga\",\"marker\":{\"color\":\"#98df8a\",\"size\":10,\"symbol\":\"triangle-up\"},\"mode\":\"markers\",\"showlegend\":false,\"x\":[],\"y\":[],\"type\":\"scatter\"},{\"legendgroup\":\"tioga\",\"marker\":{\"color\":\"#98df8a\",\"size\":10,\"symbol\":\"triangle-down\"},\"mode\":\"markers\",\"showlegend\":false,\"x\":[],\"y\":[],\"type\":\"scatter\"},{\"legendgroup\":\"tioga\",\"marker\":{\"color\":\"#98df8a\",\"size\":10,\"symbol\":\"pentagon\"},\"mode\":\"markers\",\"showlegend\":false,\"x\":[],\"y\":[],\"type\":\"scatter\"},{\"legendgroup\":\"ec2-p3\",\"marker\":{\"color\":\"#ff9896\",\"size\":10,\"symbol\":\"circle\"},\"mode\":\"markers\",\"showlegend\":false,\"x\":[],\"y\":[],\"type\":\"scatter\"},{\"legendgroup\":\"ec2-p3\",\"marker\":{\"color\":\"#ff9896\",\"size\":10,\"symbol\":\"square\"},\"mode\":\"markers\",\"showlegend\":false,\"x\":[-12.057403564453125],\"y\":[-5.893230438232422],\"type\":\"scatter\"},{\"legendgroup\":\"ec2-p3\",\"marker\":{\"color\":\"#ff9896\",\"size\":10,\"symbol\":\"diamond\"},\"mode\":\"markers\",\"showlegend\":false,\"x\":[],\"y\":[],\"type\":\"scatter\"},{\"legendgroup\":\"ec2-p3\",\"marker\":{\"color\":\"#ff9896\",\"size\":10,\"symbol\":\"cross\"},\"mode\":\"markers\",\"showlegend\":false,\"x\":[],\"y\":[],\"type\":\"scatter\"},{\"legendgroup\":\"ec2-p3\",\"marker\":{\"color\":\"#ff9896\",\"size\":10,\"symbol\":\"x\"},\"mode\":\"markers\",\"showlegend\":false,\"x\":[],\"y\":[],\"type\":\"scatter\"},{\"legendgroup\":\"ec2-p3\",\"marker\":{\"color\":\"#ff9896\",\"size\":10,\"symbol\":\"triangle-up\"},\"mode\":\"markers\",\"showlegend\":false,\"x\":[],\"y\":[],\"type\":\"scatter\"},{\"legendgroup\":\"ec2-p3\",\"marker\":{\"color\":\"#ff9896\",\"size\":10,\"symbol\":\"triangle-down\"},\"mode\":\"markers\",\"showlegend\":false,\"x\":[],\"y\":[],\"type\":\"scatter\"},{\"legendgroup\":\"ec2-p3\",\"marker\":{\"color\":\"#ff9896\",\"size\":10,\"symbol\":\"pentagon\"},\"mode\":\"markers\",\"showlegend\":false,\"x\":[],\"y\":[],\"type\":\"scatter\"},{\"legendgroup\":\"ec2-p4d\",\"marker\":{\"color\":\"#c5b0d5\",\"size\":10,\"symbol\":\"circle\"},\"mode\":\"markers\",\"showlegend\":false,\"x\":[],\"y\":[],\"type\":\"scatter\"},{\"legendgroup\":\"ec2-p4d\",\"marker\":{\"color\":\"#c5b0d5\",\"size\":10,\"symbol\":\"square\"},\"mode\":\"markers\",\"showlegend\":false,\"x\":[],\"y\":[],\"type\":\"scatter\"},{\"legendgroup\":\"ec2-p4d\",\"marker\":{\"color\":\"#c5b0d5\",\"size\":10,\"symbol\":\"diamond\"},\"mode\":\"markers\",\"showlegend\":false,\"x\":[-12.293120384216309],\"y\":[-6.546504497528076],\"type\":\"scatter\"},{\"legendgroup\":\"ec2-p4d\",\"marker\":{\"color\":\"#c5b0d5\",\"size\":10,\"symbol\":\"cross\"},\"mode\":\"markers\",\"showlegend\":false,\"x\":[],\"y\":[],\"type\":\"scatter\"},{\"legendgroup\":\"ec2-p4d\",\"marker\":{\"color\":\"#c5b0d5\",\"size\":10,\"symbol\":\"x\"},\"mode\":\"markers\",\"showlegend\":false,\"x\":[],\"y\":[],\"type\":\"scatter\"},{\"legendgroup\":\"ec2-p4d\",\"marker\":{\"color\":\"#c5b0d5\",\"size\":10,\"symbol\":\"triangle-up\"},\"mode\":\"markers\",\"showlegend\":false,\"x\":[],\"y\":[],\"type\":\"scatter\"},{\"legendgroup\":\"ec2-p4d\",\"marker\":{\"color\":\"#c5b0d5\",\"size\":10,\"symbol\":\"triangle-down\"},\"mode\":\"markers\",\"showlegend\":false,\"x\":[],\"y\":[],\"type\":\"scatter\"},{\"legendgroup\":\"ec2-p4d\",\"marker\":{\"color\":\"#c5b0d5\",\"size\":10,\"symbol\":\"pentagon\"},\"mode\":\"markers\",\"showlegend\":false,\"x\":[],\"y\":[],\"type\":\"scatter\"}],                        {\"template\":{\"data\":{\"histogram2dcontour\":[{\"type\":\"histogram2dcontour\",\"colorbar\":{\"outlinewidth\":0,\"ticks\":\"\"},\"colorscale\":[[0.0,\"#0d0887\"],[0.1111111111111111,\"#46039f\"],[0.2222222222222222,\"#7201a8\"],[0.3333333333333333,\"#9c179e\"],[0.4444444444444444,\"#bd3786\"],[0.5555555555555556,\"#d8576b\"],[0.6666666666666666,\"#ed7953\"],[0.7777777777777778,\"#fb9f3a\"],[0.8888888888888888,\"#fdca26\"],[1.0,\"#f0f921\"]]}],\"choropleth\":[{\"type\":\"choropleth\",\"colorbar\":{\"outlinewidth\":0,\"ticks\":\"\"}}],\"histogram2d\":[{\"type\":\"histogram2d\",\"colorbar\":{\"outlinewidth\":0,\"ticks\":\"\"},\"colorscale\":[[0.0,\"#0d0887\"],[0.1111111111111111,\"#46039f\"],[0.2222222222222222,\"#7201a8\"],[0.3333333333333333,\"#9c179e\"],[0.4444444444444444,\"#bd3786\"],[0.5555555555555556,\"#d8576b\"],[0.6666666666666666,\"#ed7953\"],[0.7777777777777778,\"#fb9f3a\"],[0.8888888888888888,\"#fdca26\"],[1.0,\"#f0f921\"]]}],\"heatmap\":[{\"type\":\"heatmap\",\"colorbar\":{\"outlinewidth\":0,\"ticks\":\"\"},\"colorscale\":[[0.0,\"#0d0887\"],[0.1111111111111111,\"#46039f\"],[0.2222222222222222,\"#7201a8\"],[0.3333333333333333,\"#9c179e\"],[0.4444444444444444,\"#bd3786\"],[0.5555555555555556,\"#d8576b\"],[0.6666666666666666,\"#ed7953\"],[0.7777777777777778,\"#fb9f3a\"],[0.8888888888888888,\"#fdca26\"],[1.0,\"#f0f921\"]]}],\"heatmapgl\":[{\"type\":\"heatmapgl\",\"colorbar\":{\"outlinewidth\":0,\"ticks\":\"\"},\"colorscale\":[[0.0,\"#0d0887\"],[0.1111111111111111,\"#46039f\"],[0.2222222222222222,\"#7201a8\"],[0.3333333333333333,\"#9c179e\"],[0.4444444444444444,\"#bd3786\"],[0.5555555555555556,\"#d8576b\"],[0.6666666666666666,\"#ed7953\"],[0.7777777777777778,\"#fb9f3a\"],[0.8888888888888888,\"#fdca26\"],[1.0,\"#f0f921\"]]}],\"contourcarpet\":[{\"type\":\"contourcarpet\",\"colorbar\":{\"outlinewidth\":0,\"ticks\":\"\"}}],\"contour\":[{\"type\":\"contour\",\"colorbar\":{\"outlinewidth\":0,\"ticks\":\"\"},\"colorscale\":[[0.0,\"#0d0887\"],[0.1111111111111111,\"#46039f\"],[0.2222222222222222,\"#7201a8\"],[0.3333333333333333,\"#9c179e\"],[0.4444444444444444,\"#bd3786\"],[0.5555555555555556,\"#d8576b\"],[0.6666666666666666,\"#ed7953\"],[0.7777777777777778,\"#fb9f3a\"],[0.8888888888888888,\"#fdca26\"],[1.0,\"#f0f921\"]]}],\"surface\":[{\"type\":\"surface\",\"colorbar\":{\"outlinewidth\":0,\"ticks\":\"\"},\"colorscale\":[[0.0,\"#0d0887\"],[0.1111111111111111,\"#46039f\"],[0.2222222222222222,\"#7201a8\"],[0.3333333333333333,\"#9c179e\"],[0.4444444444444444,\"#bd3786\"],[0.5555555555555556,\"#d8576b\"],[0.6666666666666666,\"#ed7953\"],[0.7777777777777778,\"#fb9f3a\"],[0.8888888888888888,\"#fdca26\"],[1.0,\"#f0f921\"]]}],\"mesh3d\":[{\"type\":\"mesh3d\",\"colorbar\":{\"outlinewidth\":0,\"ticks\":\"\"}}],\"scatter\":[{\"fillpattern\":{\"fillmode\":\"overlay\",\"size\":10,\"solidity\":0.2},\"type\":\"scatter\"}],\"parcoords\":[{\"type\":\"parcoords\",\"line\":{\"colorbar\":{\"outlinewidth\":0,\"ticks\":\"\"}}}],\"scatterpolargl\":[{\"type\":\"scatterpolargl\",\"marker\":{\"colorbar\":{\"outlinewidth\":0,\"ticks\":\"\"}}}],\"bar\":[{\"error_x\":{\"color\":\"#2a3f5f\"},\"error_y\":{\"color\":\"#2a3f5f\"},\"marker\":{\"line\":{\"color\":\"#E5ECF6\",\"width\":0.5},\"pattern\":{\"fillmode\":\"overlay\",\"size\":10,\"solidity\":0.2}},\"type\":\"bar\"}],\"scattergeo\":[{\"type\":\"scattergeo\",\"marker\":{\"colorbar\":{\"outlinewidth\":0,\"ticks\":\"\"}}}],\"scatterpolar\":[{\"type\":\"scatterpolar\",\"marker\":{\"colorbar\":{\"outlinewidth\":0,\"ticks\":\"\"}}}],\"histogram\":[{\"marker\":{\"pattern\":{\"fillmode\":\"overlay\",\"size\":10,\"solidity\":0.2}},\"type\":\"histogram\"}],\"scattergl\":[{\"type\":\"scattergl\",\"marker\":{\"colorbar\":{\"outlinewidth\":0,\"ticks\":\"\"}}}],\"scatter3d\":[{\"type\":\"scatter3d\",\"line\":{\"colorbar\":{\"outlinewidth\":0,\"ticks\":\"\"}},\"marker\":{\"colorbar\":{\"outlinewidth\":0,\"ticks\":\"\"}}}],\"scattermapbox\":[{\"type\":\"scattermapbox\",\"marker\":{\"colorbar\":{\"outlinewidth\":0,\"ticks\":\"\"}}}],\"scatterternary\":[{\"type\":\"scatterternary\",\"marker\":{\"colorbar\":{\"outlinewidth\":0,\"ticks\":\"\"}}}],\"scattercarpet\":[{\"type\":\"scattercarpet\",\"marker\":{\"colorbar\":{\"outlinewidth\":0,\"ticks\":\"\"}}}],\"carpet\":[{\"aaxis\":{\"endlinecolor\":\"#2a3f5f\",\"gridcolor\":\"white\",\"linecolor\":\"white\",\"minorgridcolor\":\"white\",\"startlinecolor\":\"#2a3f5f\"},\"baxis\":{\"endlinecolor\":\"#2a3f5f\",\"gridcolor\":\"white\",\"linecolor\":\"white\",\"minorgridcolor\":\"white\",\"startlinecolor\":\"#2a3f5f\"},\"type\":\"carpet\"}],\"table\":[{\"cells\":{\"fill\":{\"color\":\"#EBF0F8\"},\"line\":{\"color\":\"white\"}},\"header\":{\"fill\":{\"color\":\"#C8D4E3\"},\"line\":{\"color\":\"white\"}},\"type\":\"table\"}],\"barpolar\":[{\"marker\":{\"line\":{\"color\":\"#E5ECF6\",\"width\":0.5},\"pattern\":{\"fillmode\":\"overlay\",\"size\":10,\"solidity\":0.2}},\"type\":\"barpolar\"}],\"pie\":[{\"automargin\":true,\"type\":\"pie\"}]},\"layout\":{\"autotypenumbers\":\"strict\",\"colorway\":[\"#636efa\",\"#EF553B\",\"#00cc96\",\"#ab63fa\",\"#FFA15A\",\"#19d3f3\",\"#FF6692\",\"#B6E880\",\"#FF97FF\",\"#FECB52\"],\"font\":{\"color\":\"#2a3f5f\"},\"hovermode\":\"closest\",\"hoverlabel\":{\"align\":\"left\"},\"paper_bgcolor\":\"white\",\"plot_bgcolor\":\"#E5ECF6\",\"polar\":{\"bgcolor\":\"#E5ECF6\",\"angularaxis\":{\"gridcolor\":\"white\",\"linecolor\":\"white\",\"ticks\":\"\"},\"radialaxis\":{\"gridcolor\":\"white\",\"linecolor\":\"white\",\"ticks\":\"\"}},\"ternary\":{\"bgcolor\":\"#E5ECF6\",\"aaxis\":{\"gridcolor\":\"white\",\"linecolor\":\"white\",\"ticks\":\"\"},\"baxis\":{\"gridcolor\":\"white\",\"linecolor\":\"white\",\"ticks\":\"\"},\"caxis\":{\"gridcolor\":\"white\",\"linecolor\":\"white\",\"ticks\":\"\"}},\"coloraxis\":{\"colorbar\":{\"outlinewidth\":0,\"ticks\":\"\"}},\"colorscale\":{\"sequential\":[[0.0,\"#0d0887\"],[0.1111111111111111,\"#46039f\"],[0.2222222222222222,\"#7201a8\"],[0.3333333333333333,\"#9c179e\"],[0.4444444444444444,\"#bd3786\"],[0.5555555555555556,\"#d8576b\"],[0.6666666666666666,\"#ed7953\"],[0.7777777777777778,\"#fb9f3a\"],[0.8888888888888888,\"#fdca26\"],[1.0,\"#f0f921\"]],\"sequentialminus\":[[0.0,\"#0d0887\"],[0.1111111111111111,\"#46039f\"],[0.2222222222222222,\"#7201a8\"],[0.3333333333333333,\"#9c179e\"],[0.4444444444444444,\"#bd3786\"],[0.5555555555555556,\"#d8576b\"],[0.6666666666666666,\"#ed7953\"],[0.7777777777777778,\"#fb9f3a\"],[0.8888888888888888,\"#fdca26\"],[1.0,\"#f0f921\"]],\"diverging\":[[0,\"#8e0152\"],[0.1,\"#c51b7d\"],[0.2,\"#de77ae\"],[0.3,\"#f1b6da\"],[0.4,\"#fde0ef\"],[0.5,\"#f7f7f7\"],[0.6,\"#e6f5d0\"],[0.7,\"#b8e186\"],[0.8,\"#7fbc41\"],[0.9,\"#4d9221\"],[1,\"#276419\"]]},\"xaxis\":{\"gridcolor\":\"white\",\"linecolor\":\"white\",\"ticks\":\"\",\"title\":{\"standoff\":15},\"zerolinecolor\":\"white\",\"automargin\":true,\"zerolinewidth\":2},\"yaxis\":{\"gridcolor\":\"white\",\"linecolor\":\"white\",\"ticks\":\"\",\"title\":{\"standoff\":15},\"zerolinecolor\":\"white\",\"automargin\":true,\"zerolinewidth\":2},\"scene\":{\"xaxis\":{\"backgroundcolor\":\"#E5ECF6\",\"gridcolor\":\"white\",\"linecolor\":\"white\",\"showbackground\":true,\"ticks\":\"\",\"zerolinecolor\":\"white\",\"gridwidth\":2},\"yaxis\":{\"backgroundcolor\":\"#E5ECF6\",\"gridcolor\":\"white\",\"linecolor\":\"white\",\"showbackground\":true,\"ticks\":\"\",\"zerolinecolor\":\"white\",\"gridwidth\":2},\"zaxis\":{\"backgroundcolor\":\"#E5ECF6\",\"gridcolor\":\"white\",\"linecolor\":\"white\",\"showbackground\":true,\"ticks\":\"\",\"zerolinecolor\":\"white\",\"gridwidth\":2}},\"shapedefaults\":{\"line\":{\"color\":\"#2a3f5f\"}},\"annotationdefaults\":{\"arrowcolor\":\"#2a3f5f\",\"arrowhead\":0,\"arrowwidth\":1},\"geo\":{\"bgcolor\":\"white\",\"landcolor\":\"#E5ECF6\",\"subunitcolor\":\"white\",\"showland\":true,\"showlakes\":true,\"lakecolor\":\"white\"},\"title\":{\"x\":0.05},\"mapbox\":{\"style\":\"light\"}}},\"title\":{\"font\":{\"size\":16},\"y\":0.01,\"x\":0.5,\"xanchor\":\"center\",\"yanchor\":\"bottom\"},\"xaxis\":{\"title\":{\"text\":\"t-SNE Feature 1\",\"font\":{\"size\":20}},\"tickfont\":{\"size\":18}},\"yaxis\":{\"title\":{\"text\":\"t-SNE Feature 2\",\"font\":{\"size\":20}},\"tickfont\":{\"size\":18}},\"legend\":{\"orientation\":\"h\",\"yanchor\":\"bottom\",\"y\":1.15,\"xanchor\":\"center\",\"x\":0.5,\"traceorder\":\"normal\"},\"margin\":{\"t\":0,\"b\":0,\"l\":0,\"r\":0},\"plot_bgcolor\":\"white\",\"paper_bgcolor\":\"white\",\"shapes\":[{\"line\":{\"color\":\"black\",\"width\":2},\"type\":\"line\",\"x0\":-14.324247360229492,\"x1\":17.9776611328125,\"y0\":-12.8,\"y1\":-12.8},{\"line\":{\"color\":\"black\",\"width\":2},\"type\":\"line\",\"x0\":-14.4,\"x1\":-14.4,\"y0\":-12.764823913574219,\"y1\":8.493667602539062}],\"width\":600,\"height\":400},                        {\"responsive\": true}                    ).then(function(){\n",
       "                            \n",
       "var gd = document.getElementById('71fc4024-8967-4b78-99f6-76cd4f2d58f1');\n",
       "var x = new MutationObserver(function (mutations, observer) {{\n",
       "        var display = window.getComputedStyle(gd).display;\n",
       "        if (!display || display === 'none') {{\n",
       "            console.log([gd, 'removed!']);\n",
       "            Plotly.purge(gd);\n",
       "            observer.disconnect();\n",
       "        }}\n",
       "}});\n",
       "\n",
       "// Listen for the removal of the full notebook cells\n",
       "var notebookContainer = gd.closest('#notebook-container');\n",
       "if (notebookContainer) {{\n",
       "    x.observe(notebookContainer, {childList: true});\n",
       "}}\n",
       "\n",
       "// Listen for the clearing of the current output cell\n",
       "var outputEl = gd.closest('.output');\n",
       "if (outputEl) {{\n",
       "    x.observe(outputEl, {childList: true});\n",
       "}}\n",
       "\n",
       "                        })                };                });            </script>        </div>"
      ]
     },
     "metadata": {},
     "output_type": "display_data"
    }
   ],
   "source": [
    "import pandas as pd\n",
    "from sklearn.manifold import TSNE\n",
    "import plotly.graph_objects as go\n",
    "import plotly.express as px\n",
    "from sklearn.preprocessing import MinMaxScaler\n",
    "import plotly.io as pio\n",
    "import sys\n",
    "\n",
    "# Check for necessary modules and install if missing\n",
    "try:\n",
    "    import kaleido\n",
    "except ImportError:\n",
    "    import subprocess\n",
    "    subprocess.check_call([sys.executable, '-m', 'pip', 'install', 'kaleido'])\n",
    "\n",
    "# Load the CSV file\n",
    "df = pd.read_csv('fnn_text_embeddings_deep_learning.csv')\n",
    "\n",
    "# Replace NaN values with the mean of their respective columns\n",
    "df.iloc[:, 1:] = df.iloc[:, 1:].fillna(df.iloc[:, 1:].mean())\n",
    "\n",
    "scaler = MinMaxScaler()\n",
    "df['core'] = scaler.fit_transform(df[['core']])\n",
    "\n",
    "# Assuming the first column contains the labels\n",
    "labels = df.iloc[:, 0]\n",
    "features = df.iloc[:, 1:]\n",
    "\n",
    "# Simulate a sample_type column for demonstration purposes\n",
    "df['sample_type'] = ['Sample ' + str(i % 8 + 1) for i in range(len(df))]\n",
    "\n",
    "# Apply t-SNE\n",
    "tsne = TSNE(n_components=2,\n",
    "            perplexity=15,\n",
    "            early_exaggeration=1,\n",
    "            learning_rate='auto',\n",
    "            n_iter=10000,\n",
    "            random_state=42)\n",
    "tsne_results = tsne.fit_transform(features)\n",
    "\n",
    "# Add the t-SNE results to the dataframe\n",
    "df['tsne-2d-one'] = tsne_results[:, 0]\n",
    "df['tsne-2d-two'] = tsne_results[:, 1]\n",
    "\n",
    "# Available marker symbols for the sample types\n",
    "marker_symbols = [\n",
    "    'circle', 'square', 'diamond', 'cross', 'x',\n",
    "    'triangle-up', 'triangle-down', 'pentagon'\n",
    "]\n",
    "\n",
    "# Choose a single new marker symbol for all machine types\n",
    "machine_marker_symbol = 'hexagon'\n",
    "\n",
    "# Determine the unique sample types and labels present\n",
    "sample_types = df['sample_type'].unique()\n",
    "unique_labels = df['machine'].unique()\n",
    "\n",
    "# Assign colors to each unique label\n",
    "# colors = px.colors.qualitative.Plotly\n",
    "colors = [\n",
    "    \"#1f77b4\", \"#ff7f0e\", \"#2ca02c\", \"#d62728\", \"#9467bd\",\n",
    "    \"#8c564b\", \"#e377c2\", \"#7f7f7f\", \"#bcbd22\", \"#17becf\",\n",
    "    \"#aec7e8\", \"#ffbb78\", \"#98df8a\", \"#ff9896\", \"#c5b0d5\"\n",
    "]\n",
    "color_map = {label: colors[i % len(colors)] for i, label in enumerate(unique_labels)}\n",
    "\n",
    "# Assign a marker to each sample type\n",
    "marker_map = {sample_type: marker_symbols[i % len(marker_symbols)] for i, sample_type in enumerate(sample_types)}\n",
    "\n",
    "fig = go.Figure()\n",
    "\n",
    "# Add traces for sample markers\n",
    "# for i, sample_type in enumerate(sample_types):\n",
    "#     fig.add_trace(go.Scatter(\n",
    "#         x=[None],\n",
    "#         y=[None],\n",
    "#         mode='markers',\n",
    "#         marker=dict(\n",
    "#             symbol=marker_symbols[i % len(marker_symbols)],\n",
    "#             size=10,\n",
    "#             color='white',\n",
    "#             line=dict(color='black', width=2)\n",
    "#         ),\n",
    "#         name=f\"Marker for {sample_type}\",\n",
    "#         legendgroup=\"SampleMarker\",\n",
    "#         showlegend=True\n",
    "#     ))\n",
    "\n",
    "# Iterate over each label and sample type to add traces\n",
    "for label in unique_labels:\n",
    "    df_label = df[df['machine'] == label]\n",
    "    for sample_type in sample_types:\n",
    "        df_subset = df_label[df_label['sample_type'] == sample_type]\n",
    "\n",
    "        # Add trace to the figure\n",
    "        fig.add_trace(go.Scatter(\n",
    "            x=df_subset['tsne-2d-one'],\n",
    "            y=df_subset['tsne-2d-two'],\n",
    "            mode='markers',\n",
    "            marker=dict(\n",
    "                symbol=marker_map[sample_type],\n",
    "                size=10,\n",
    "                color=color_map[label]\n",
    "            ),\n",
    "            name=None,\n",
    "            legendgroup=label,\n",
    "            showlegend=False\n",
    "        ))\n",
    "\n",
    "# Add traces for machine markers\n",
    "# for label in unique_labels:\n",
    "#     fig.add_trace(go.Scatter(\n",
    "#         x=[None],\n",
    "#         y=[None],\n",
    "#         mode='markers',\n",
    "#         marker=dict(\n",
    "#             symbol=machine_marker_symbol,\n",
    "#             size=10,\n",
    "#             color=color_map[label]\n",
    "#         ),\n",
    "#         name=label,\n",
    "#         legendgroup=\"Machine\",\n",
    "#         showlegend=True\n",
    "#     ))\n",
    "\n",
    "# Add a dummy trace to create a line break in the legend\n",
    "# fig.add_trace(go.Scatter(\n",
    "#     x=[None],\n",
    "#     y=[None],\n",
    "#     mode='markers',\n",
    "#     marker=dict(size=0),\n",
    "#     name=' ' * 40,  # Add spaces for visual separation\n",
    "#     showlegend=True\n",
    "# ))\n",
    "\n",
    "# Update layout to have separate columns for samples and machines in the legend\n",
    "fig.update_layout(\n",
    "    title={\n",
    "        # 'text': 't-SNE Visualization of Machine Datasets',\n",
    "        'y': 0.01,\n",
    "        'x': 0.5,\n",
    "        'xanchor': 'center',\n",
    "        'yanchor': 'bottom',\n",
    "        'font': {'size': 16}\n",
    "    },\n",
    "    xaxis=dict(\n",
    "        title='t-SNE Feature 1',\n",
    "        titlefont=dict(size=20),  # Adjust axis title font size\n",
    "        tickfont=dict(size=18),   # Adjust tick label font size\n",
    "    ),\n",
    "    yaxis=dict(\n",
    "        title='t-SNE Feature 2',\n",
    "        titlefont=dict(size=20),  # Adjust axis title font size\n",
    "        tickfont=dict(size=18),   # Adjust tick label font size\n",
    "    ),\n",
    "    plot_bgcolor='white',\n",
    "    paper_bgcolor='white',\n",
    "    shapes=[\n",
    "        # Line Horizontal\n",
    "        dict(\n",
    "            type='line',\n",
    "            x0=min(tsne_results[:, 0]-0.65),\n",
    "            y0=-12.8,\n",
    "            x1=max(tsne_results[:, 0]+1.2),\n",
    "            y1=-12.8,\n",
    "            line=dict(\n",
    "                color='black',\n",
    "                width=2\n",
    "            )\n",
    "        ),\n",
    "        # Line Vertical\n",
    "        dict(\n",
    "            type='line',\n",
    "            x0=-14.4,\n",
    "            y0=min(tsne_results[:, 1]-1.2),\n",
    "            x1=-14.4,\n",
    "            y1=max(tsne_results[:, 1]+3),\n",
    "            line=dict(\n",
    "                color='black',\n",
    "                width=2\n",
    "            )\n",
    "        )\n",
    "    ],\n",
    "    legend=dict(\n",
    "        orientation=\"h\",\n",
    "        yanchor=\"bottom\",\n",
    "        y=1.15,\n",
    "        xanchor=\"center\",\n",
    "        x=0.5,\n",
    "        traceorder=\"normal\"\n",
    "    ),\n",
    "    margin=dict(t=150, b=150),\n",
    "    width=600,\n",
    "    height=400\n",
    ")\n",
    "\n",
    "# Save the figure to a PDF file\n",
    "# pio.kaleido.scope.mathjax = None\n",
    "fig.update_layout( margin=dict(l=0, r=0, t=0, b=0) )\n",
    "# pio.write_image(fig, 'tsne_visualization_10.pdf', format='pdf')\n",
    "fig.write_image(\"output_DNN.pdf\", width=600, height=400, scale=1)\n",
    "\n",
    "# Display the figure\n",
    "fig.show()"
   ]
  }
 ],
 "metadata": {
  "kernelspec": {
   "display_name": "dev",
   "language": "python",
   "name": "python3"
  },
  "language_info": {
   "codemirror_mode": {
    "name": "ipython",
    "version": 3
   },
   "file_extension": ".py",
   "mimetype": "text/x-python",
   "name": "python",
   "nbconvert_exporter": "python",
   "pygments_lexer": "ipython3",
   "version": "3.9.12"
  }
 },
 "nbformat": 4,
 "nbformat_minor": 2
}
