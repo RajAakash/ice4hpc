{
 "cells": [
  {
   "cell_type": "code",
   "execution_count": 1,
   "metadata": {},
   "outputs": [],
   "source": [
    "import pandas as pd\n",
    "import numpy as np\n",
    "import torch\n",
    "import torch.nn as nn\n",
    "import torch.optim as optim\n",
    "from sklearn.feature_extraction.text import TfidfVectorizer\n",
    "from sklearn.preprocessing import StandardScaler\n",
    "\n",
    "# Load data from CSV\n",
    "file_path = '../Datasets/ApplicationData/TestDFFT/TestDfft(Quartz-Corona).csv'\n",
    "data = pd.read_csv(file_path)\n",
    "\n",
    "# Separate text data into two columns\n",
    "text_data_1 = data.iloc[:, 0]\n",
    "text_data_2 = data.iloc[:, 1]\n",
    "rest_of_data = data.iloc[:, 2:]  # The rest of the numerical features\n",
    "\n",
    "# Vectorize text data using TF-IDF\n",
    "vectorizer1 = TfidfVectorizer(max_features=1000)  # Limit TF-IDF features to 1000\n",
    "tfidf_features_1 = vectorizer1.fit_transform(text_data_1).toarray()\n",
    "\n",
    "vectorizer2 = TfidfVectorizer(max_features=1000)  # Limit TF-IDF features to 1000\n",
    "tfidf_features_2 = vectorizer2.fit_transform(text_data_2).toarray()\n",
    "\n",
    "# Normalize the rest of the numerical features\n",
    "scaler = StandardScaler()\n",
    "scaled_features = scaler.fit_transform(rest_of_data)\n",
    "\n",
    "# Convert the TF-IDF features to PyTorch tensors\n",
    "tfidf_tensor_1 = torch.tensor(tfidf_features_1, dtype=torch.float32)\n",
    "tfidf_tensor_2 = torch.tensor(tfidf_features_2, dtype=torch.float32)"
   ]
  },
  {
   "cell_type": "code",
   "execution_count": 2,
   "metadata": {},
   "outputs": [],
   "source": [
    "class CNNTextEmbedder(nn.Module):\n",
    "    def __init__(self, input_dim, embedding_dim):\n",
    "        super(CNNTextEmbedder, self).__init__()\n",
    "        self.conv1 = nn.Conv1d(in_channels=1, out_channels=128, kernel_size=3, stride=1, padding=1)\n",
    "        \n",
    "        # Calculate the size after conv1\n",
    "        conv_output_size = (input_dim + 2 * 1 - 3) // 1 + 1  # After convolution\n",
    "        \n",
    "        # Use a smaller linear layer if needed or avoid pooling\n",
    "        self.fc = nn.Linear(128 * conv_output_size, embedding_dim)\n",
    "\n",
    "    def forward(self, x):\n",
    "        x = x.unsqueeze(1)  # Add a channel dimension (batch_size, 1, input_dim)\n",
    "        x = torch.relu(self.conv1(x))\n",
    "        x = x.view(x.size(0), -1)  # Flatten the tensor\n",
    "        embedding = self.fc(x)\n",
    "        return embedding\n",
    "\n",
    "# Initialize the CNN Models\n",
    "input_dim_1 = tfidf_features_1.shape[1]  # Number of TF-IDF features for the first text column\n",
    "embedding_dim_1 = 10  # Target embedding size for the first text column\n",
    "model_1 = CNNTextEmbedder(input_dim=input_dim_1, embedding_dim=embedding_dim_1)\n",
    "\n",
    "input_dim_2 = tfidf_features_2.shape[1]  # Number of TF-IDF features for the second text column\n",
    "embedding_dim_2 = 5  # Target embedding size for the second text column\n",
    "model_2 = CNNTextEmbedder(input_dim=input_dim_2, embedding_dim=embedding_dim_2)"
   ]
  },
  {
   "cell_type": "code",
   "execution_count": 3,
   "metadata": {},
   "outputs": [
    {
     "name": "stdout",
     "output_type": "stream",
     "text": [
      "Training model for text column 1...\n",
      "Epoch [10/50], Loss: 0.0\n",
      "Epoch [20/50], Loss: 0.0\n",
      "Epoch [30/50], Loss: 0.0\n",
      "Epoch [40/50], Loss: 0.0\n",
      "Epoch [50/50], Loss: 0.0\n",
      "Training model for text column 2...\n",
      "Epoch [10/50], Loss: 0.0\n",
      "Epoch [20/50], Loss: 0.0\n",
      "Epoch [30/50], Loss: 0.0\n",
      "Epoch [40/50], Loss: 0.0\n",
      "Epoch [50/50], Loss: 0.0\n"
     ]
    }
   ],
   "source": [
    "# Training function\n",
    "def train_model(model, data_tensor, num_epochs=50, batch_size=256):\n",
    "    criterion = nn.MSELoss()\n",
    "    optimizer = optim.Adam(model.parameters(), lr=0.001)\n",
    "    dataset = torch.utils.data.TensorDataset(data_tensor, data_tensor)\n",
    "    dataloader = torch.utils.data.DataLoader(dataset, batch_size=batch_size, shuffle=True)\n",
    "    \n",
    "    for epoch in range(num_epochs):\n",
    "        running_loss = 0.0\n",
    "        for i, (inputs, _) in enumerate(dataloader):\n",
    "            optimizer.zero_grad()\n",
    "            outputs = model(inputs)\n",
    "            loss = criterion(outputs, outputs)\n",
    "            loss.backward()\n",
    "            optimizer.step()\n",
    "            running_loss += loss.item()\n",
    "        if (epoch + 1) % 10 == 0:\n",
    "            print(f\"Epoch [{epoch + 1}/{num_epochs}], Loss: {running_loss / len(dataloader)}\")\n",
    "\n",
    "# Train the models\n",
    "print(\"Training model for text column 1...\")\n",
    "train_model(model_1, tfidf_tensor_1)\n",
    "\n",
    "print(\"Training model for text column 2...\")\n",
    "train_model(model_2, tfidf_tensor_2)"
   ]
  },
  {
   "cell_type": "code",
   "execution_count": 4,
   "metadata": {},
   "outputs": [
    {
     "name": "stdout",
     "output_type": "stream",
     "text": [
      "Convolution output size: 1\n",
      "Pooling output size: 0\n"
     ]
    }
   ],
   "source": [
    "def calculate_conv_output_size(input_dim, kernel_size, padding, stride):\n",
    "    return (input_dim + 2 * padding - kernel_size) // stride + 1\n",
    "\n",
    "def calculate_pooled_output_size(conv_output_size, pool_size):\n",
    "    return (conv_output_size - pool_size) // pool_size + 1\n",
    "\n",
    "input_dim = tfidf_features_1.shape[1]\n",
    "conv_output_size = calculate_conv_output_size(input_dim, kernel_size=3, padding=1, stride=1)\n",
    "pool_output_size = calculate_pooled_output_size(conv_output_size, pool_size=2)\n",
    "\n",
    "print(f\"Convolution output size: {conv_output_size}\")\n",
    "print(f\"Pooling output size: {pool_output_size}\")"
   ]
  },
  {
   "cell_type": "code",
   "execution_count": 5,
   "metadata": {},
   "outputs": [
    {
     "name": "stdout",
     "output_type": "stream",
     "text": [
      "Data with CNN-based embeddings saved to 'cnn_text_embeddings.csv'\n"
     ]
    }
   ],
   "source": [
    "with torch.no_grad():\n",
    "    embeddings_1 = model_1(tfidf_tensor_1).numpy()\n",
    "    embeddings_2 = model_2(tfidf_tensor_2).numpy()\n",
    "\n",
    "# Combine the embeddings with the rest of the numerical features\n",
    "embeddings_df_1 = pd.DataFrame(embeddings_1, columns=[f'emb1_{i+1}' for i in range(embedding_dim_1)])\n",
    "embeddings_df_2 = pd.DataFrame(embeddings_2, columns=[f'emb2_{i+1}' for i in range(embedding_dim_2)])\n",
    "rest_of_data_df = pd.DataFrame(scaled_features, columns=rest_of_data.columns)\n",
    "final_data = pd.concat([data.iloc[:, 2:], embeddings_df_1, embeddings_df_2, rest_of_data_df], axis=1)\n",
    "\n",
    "# Save the combined data with embeddings to a CSV file\n",
    "final_data.to_csv('CNNEmbeddings/TestDFFT/TestDfft(Quartz-Corona)_embeddings.csv', index=False)\n",
    "\n",
    "print(\"Data with CNN-based embeddings saved to 'cnn_text_embeddings.csv'\")"
   ]
  }
 ],
 "metadata": {
  "kernelspec": {
   "display_name": "dev",
   "language": "python",
   "name": "python3"
  },
  "language_info": {
   "codemirror_mode": {
    "name": "ipython",
    "version": 3
   },
   "file_extension": ".py",
   "mimetype": "text/x-python",
   "name": "python",
   "nbconvert_exporter": "python",
   "pygments_lexer": "ipython3",
   "version": "3.9.12"
  }
 },
 "nbformat": 4,
 "nbformat_minor": 2
}
